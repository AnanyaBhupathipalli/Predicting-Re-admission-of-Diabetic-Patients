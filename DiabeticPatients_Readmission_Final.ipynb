{
 "cells": [
  {
   "cell_type": "markdown",
   "metadata": {},
   "source": [
    "# Re-hospitalization of Diabetic Patients"
   ]
  },
  {
   "cell_type": "code",
   "execution_count": 1,
   "metadata": {},
   "outputs": [],
   "source": [
    "# Import all libraries\n",
    "import numpy as np\n",
    "import pandas as pd\n",
    "import matplotlib.pyplot as plt\n",
    "from sklearn.cluster import KMeans\n",
    "import scipy.cluster.hierarchy as sch\n",
    "from sklearn.cluster import AgglomerativeClustering\n",
    "from pyspark.sql import SparkSession\n",
    "spark = SparkSession.builder.getOrCreate()\n",
    "sc = spark.sparkContext\n",
    "from pyspark.ml import feature\n",
    "from pyspark.ml import regression\n",
    "from pyspark.sql import functions as fn\n",
    "from pyspark.sql.functions import countDistinct\n",
    "from pyspark.sql import Row\n",
    "from pyspark import sql\n",
    "import seaborn as sns\n",
    "from pyspark.ml import feature, regression, evaluation, Pipeline\n",
    "from pyspark.ml.feature import StringIndexer\n",
    "from pyspark.ml import clustering\n",
    "from pyspark.ml import classification\n",
    "from pyspark.ml.evaluation import ClusteringEvaluator\n",
    "from pyspark.ml.evaluation import BinaryClassificationEvaluator, \\\n",
    "    MulticlassClassificationEvaluator, \\\n",
    "    RegressionEvaluator\n",
    "from pyspark.ml.tuning import CrossValidator, ParamGridBuilder\n",
    "import seaborn as sns\n",
    "import decimal\n",
    "from pyspark.sql.types import StructType\n",
    "from pyspark.sql.types import *\n",
    "from pyspark.ml.feature import StandardScaler\n",
    "from pyspark.ml.classification import LogisticRegression\n",
    "from pyspark.ml.feature import OneHotEncoderEstimator, StringIndexer, VectorAssembler\n",
    "from pyspark.ml.tuning import CrossValidator, ParamGridBuilder\n",
    "from pyspark.ml.classification import GBTClassifier"
   ]
  },
  {
   "cell_type": "code",
   "execution_count": 2,
   "metadata": {},
   "outputs": [],
   "source": [
    "# Downloading the csv file \n",
    "df_spark = spark.read.csv(\"diabetic_data.csv\",header=True)\n",
    "#df_pandas = df_spark.toPandas()\n",
    "#df_pandas.head(5)"
   ]
  },
  {
   "cell_type": "code",
   "execution_count": 3,
   "metadata": {},
   "outputs": [],
   "source": [
    "# Dimension\n",
    "#df_pandas.shape\n",
    "backup = df_spark"
   ]
  },
  {
   "cell_type": "markdown",
   "metadata": {},
   "source": [
    "# Data Cleaning and Pre-processing"
   ]
  },
  {
   "cell_type": "markdown",
   "metadata": {},
   "source": [
    "## Removal of columns"
   ]
  },
  {
   "cell_type": "code",
   "execution_count": 4,
   "metadata": {},
   "outputs": [],
   "source": [
    "# Removing Weight, Payer Code and Medical speciality of the surgeon as they have 80-90% missing values\n",
    "drop_list = ['weight', 'payer_code','medical_specialty','citoglipton','examide']\n",
    "df_spark = df_spark.select([column for column in df_spark.columns if column not in drop_list])"
   ]
  },
  {
   "cell_type": "markdown",
   "metadata": {},
   "source": [
    "## Removal of rows"
   ]
  },
  {
   "cell_type": "code",
   "execution_count": 5,
   "metadata": {},
   "outputs": [],
   "source": [
    "#Removing rows from Race,Discharge Disposition ID,Admission Source ID, Admission type ID\n",
    "df_spark = df_spark.filter(df_spark.race!='?')\n",
    "df_spark = df_spark.filter(df_spark.diag_1!='?')\n",
    "df_spark = df_spark.filter(df_spark.diag_2!='?')\n",
    "df_spark = df_spark.filter(df_spark.diag_3!='?')\n",
    "df_spark = df_spark.filter(df_spark.discharge_disposition_id.isin(['11' '18','19','20','25'])==False)\n",
    "df_spark = df_spark.filter(df_spark.admission_source_id.isin(['9','17','20'])==False)\n",
    "df_spark = df_spark.filter(df_spark.admission_type_id.isin(['5','6','8'])==False)\n",
    "\n",
    "# df_spark = df_spark.filter(df_spark[\"diag_1\"].rlike(\"[A-za-z][^A-Za-z]*\")==False)\n",
    "# df_spark = df_spark.filter(df_spark[\"diag_2\"].rlike(\"[A-za-z][^A-Za-z]*\")==False)\n",
    "# df_spark = df_spark.filter(df_spark[\"diag_3\"].rlike(\"[A-za-z][^A-Za-z]*\")==False)\n",
    "\n",
    "# df_spark.select('race','discharge_disposition_id','admission_type_id','admission_source_id').toPandas().head(5)"
   ]
  },
  {
   "cell_type": "markdown",
   "metadata": {},
   "source": [
    "## Changing Data Types"
   ]
  },
  {
   "cell_type": "code",
   "execution_count": 6,
   "metadata": {},
   "outputs": [],
   "source": [
    "# Changing Data type of patient nbr and encounter_id to int\n",
    "df_spark = df_spark.withColumn(\"patient_nbr\", df_spark[\"patient_nbr\"].cast(IntegerType()))\n",
    "df_spark = df_spark.withColumn(\"encounter_id\", df_spark[\"encounter_id\"].cast(IntegerType()))"
   ]
  },
  {
   "cell_type": "code",
   "execution_count": 7,
   "metadata": {},
   "outputs": [],
   "source": [
    "# Changing Data type of admission_type_id,discharge_disposition_id and ..... nbr and encounter_id to float\n",
    "df_spark_clean1 = df_spark.select(\"encounter_id\",\"patient_nbr\",*(fn.col(c).cast(\"float\").alias(c) for c in df_spark.columns \n",
    "                                 if c in ('admission_source_id','admission_type_id','discharge_disposition_id','time_in_hospital',\n",
    "                                         'num_procedures','num_lab_procedures','num_medications','number_outpatient','number_emergency',\n",
    "                                        'number_inpatient','number_diagnoses' )))"
   ]
  },
  {
   "cell_type": "code",
   "execution_count": 8,
   "metadata": {
    "scrolled": true
   },
   "outputs": [
    {
     "data": {
      "text/plain": [
       "[('encounter_id', 'int'),\n",
       " ('patient_nbr', 'int'),\n",
       " ('admission_type_id', 'float'),\n",
       " ('discharge_disposition_id', 'float'),\n",
       " ('admission_source_id', 'float'),\n",
       " ('time_in_hospital', 'float'),\n",
       " ('num_lab_procedures', 'float'),\n",
       " ('num_procedures', 'float'),\n",
       " ('num_medications', 'float'),\n",
       " ('number_outpatient', 'float'),\n",
       " ('number_emergency', 'float'),\n",
       " ('number_inpatient', 'float'),\n",
       " ('number_diagnoses', 'float')]"
      ]
     },
     "execution_count": 8,
     "metadata": {},
     "output_type": "execute_result"
    }
   ],
   "source": [
    "df_spark_clean1.dtypes"
   ]
  },
  {
   "cell_type": "markdown",
   "metadata": {},
   "source": [
    "## Joining two dataframes"
   ]
  },
  {
   "cell_type": "code",
   "execution_count": 9,
   "metadata": {},
   "outputs": [],
   "source": [
    "# Merging df_spark_clean and df_spark to get the entire cleaned dataset\n",
    "drop_list = ['admission_type_id','discharge_disposition_id',\n",
    "             'admission_source_id','time_in_hospital','num_lab_procedures',\n",
    "             'num_procedures','num_medications','number_outpatient','number_emergency',\n",
    "             'number_inpatient','number_diagnoses','patient_nbr']\n",
    "diabetic_data_clean2 = df_spark.select([column for column in df_spark.columns if column not in drop_list])\n",
    "\n",
    "df_spark = df_spark_clean1.join(diabetic_data_clean2, 'encounter_id', 'inner')"
   ]
  },
  {
   "cell_type": "code",
   "execution_count": 10,
   "metadata": {},
   "outputs": [],
   "source": [
    "df_spark.createOrReplaceTempView(\"temp\") "
   ]
  },
  {
   "cell_type": "markdown",
   "metadata": {},
   "source": [
    "# Feature Engineering"
   ]
  },
  {
   "cell_type": "markdown",
   "metadata": {},
   "source": [
    "## Creating Dummy variables for categorical columns"
   ]
  },
  {
   "cell_type": "code",
   "execution_count": 11,
   "metadata": {},
   "outputs": [],
   "source": [
    "# Creating dummy variables for admission_type_id\n",
    "df_spark = df_spark.withColumn('admission_type_emergency',fn.when(fn.col('admission_type_id')==1,1).otherwise(0))\n",
    "df_spark = df_spark.withColumn('admission_type_urgent',fn.when(fn.col('admission_type_id')==2,1).otherwise(0))\n",
    "df_spark = df_spark.withColumn('admission_type_elective',fn.when(fn.col('admission_type_id')==3,1).otherwise(0))\n",
    "df_spark = df_spark.withColumn('admission_type_trauma',fn.when(fn.col('admission_type_id')==7,1).otherwise(0))\n",
    "\n",
    "#df_spark_final.select('admission_type_emergency','admission_type_urgent','admission_type_elective','admission_type_trauma').show(5)"
   ]
  },
  {
   "cell_type": "code",
   "execution_count": 12,
   "metadata": {},
   "outputs": [],
   "source": [
    "# Creating dummy variables for discharge_disposition_id\n",
    "df_spark = df_spark.withColumn('dd_home',fn.when(fn.col('discharge_disposition_id')==1,1).otherwise(0))\n",
    "df_spark = df_spark.withColumn('dd_shortm_hos',fn.when(fn.col('discharge_disposition_id')==2,1).otherwise(0))\n",
    "df_spark = df_spark.withColumn('dd_snf',fn.when(fn.col('discharge_disposition_id')==3,1).otherwise(0))\n",
    "df_spark = df_spark.withColumn('dd_icf',fn.when(fn.col('discharge_disposition_id')==4,1).otherwise(0))\n",
    "df_spark = df_spark.withColumn('dd_careInst',fn.when(fn.col('discharge_disposition_id')==5,1).otherwise(0))\n",
    "df_spark = df_spark.withColumn('dd_hhs',fn.when(fn.col('discharge_disposition_id')==6,1).otherwise(0))\n",
    "df_spark = df_spark.withColumn('dd_ama',fn.when(fn.col('discharge_disposition_id')==7,1).otherwise(0))\n",
    "df_spark = df_spark.withColumn('dd_homeIvy',fn.when(fn.col('discharge_disposition_id')==8,1).otherwise(0))\n",
    "df_spark = df_spark.withColumn('dd_admInp',fn.when(fn.col('discharge_disposition_id')==9,1).otherwise(0))\n",
    "df_spark = df_spark.withColumn('dd_expired',fn.when(fn.col('discharge_disposition_id')==11,1).otherwise(0))\n",
    "df_spark = df_spark.withColumn('dd_hospice',fn.when(fn.col('discharge_disposition_id')==13,1).otherwise(0))\n",
    "df_spark = df_spark.withColumn('dd_medfac',fn.when(fn.col('discharge_disposition_id')==14,1).otherwise(0))\n",
    "df_spark = df_spark.withColumn('dd_swingbed',fn.when(fn.col('discharge_disposition_id')==15,1).otherwise(0))\n",
    "df_spark = df_spark.withColumn('dd_rehab',fn.when(fn.col('discharge_disposition_id')==22,1).otherwise(0))\n",
    "df_spark = df_spark.withColumn('dd_long',fn.when(fn.col('discharge_disposition_id')==23,1).otherwise(0))\n",
    "df_spark = df_spark.withColumn('dd_nursing',fn.when(fn.col('discharge_disposition_id')==24,1).otherwise(0))\n",
    "df_spark = df_spark.withColumn('dd_federal',fn.when(fn.col('discharge_disposition_id')==27,1).otherwise(0))\n",
    "df_spark = df_spark.withColumn('dd_psy',fn.when(fn.col('discharge_disposition_id')==28,1).otherwise(0))"
   ]
  },
  {
   "cell_type": "code",
   "execution_count": 13,
   "metadata": {},
   "outputs": [],
   "source": [
    "# Creating dummy variables for admission_source_id\n",
    "df_spark = df_spark.withColumn('admission_source_phyref',fn.when(fn.col('admission_source_id')==1,1).otherwise(0))\n",
    "df_spark = df_spark.withColumn('admission_source_cliref',fn.when(fn.col('admission_source_id')==2,1).otherwise(0))\n",
    "df_spark = df_spark.withColumn('admission_source_hmoref',fn.when(fn.col('admission_source_id')==3,1).otherwise(0))\n",
    "df_spark = df_spark.withColumn('admission_source_hos',fn.when(fn.col('admission_source_id')==4,1).otherwise(0))\n",
    "df_spark = df_spark.withColumn('admission_source_snf',fn.when(fn.col('admission_source_id')==5,1).otherwise(0))\n",
    "df_spark = df_spark.withColumn('admission_source_hlthcare',fn.when(fn.col('admission_source_id')==6,1).otherwise(0))\n",
    "df_spark = df_spark.withColumn('admission_source_emergency',fn.when(fn.col('admission_source_id')==7,1).otherwise(0))\n",
    "df_spark = df_spark.withColumn('admission_source_court',fn.when(fn.col('admission_source_id')==8,1).otherwise(0))\n",
    "df_spark = df_spark.withColumn('admission_source_critical',fn.when(fn.col('admission_source_id')==10,1).otherwise(0))\n",
    "df_spark = df_spark.withColumn('admission_source_normdel',fn.when(fn.col('admission_source_id')==11,1).otherwise(0))\n",
    "df_spark = df_spark.withColumn('admission_source_birth',fn.when(fn.col('admission_source_id')==14,1).otherwise(0))\n",
    "df_spark = df_spark.withColumn('admission_source_surgery',fn.when(fn.col('admission_source_id')==25,1).otherwise(0))\n"
   ]
  },
  {
   "cell_type": "code",
   "execution_count": 14,
   "metadata": {},
   "outputs": [],
   "source": [
    "# Creating dummy variables for race\n",
    "df_spark = df_spark.withColumn('AfricanAmerican',fn.when(fn.col('race')=='AfricanAmerican',1).otherwise(0))\n",
    "df_spark = df_spark.withColumn('Asian',fn.when(fn.col('race')=='Asian',1).otherwise(0))\n",
    "df_spark = df_spark.withColumn('Caucasian',fn.when(fn.col('race')=='Caucasian',1).otherwise(0))\n",
    "df_spark = df_spark.withColumn('Hispanic',fn.when(fn.col('race')=='Hispanic',1).otherwise(0))\n",
    "\n",
    "# df_spark.select('AfricanAmerican','Asian','Caucasian','Hispanic','Other').show(5)"
   ]
  },
  {
   "cell_type": "code",
   "execution_count": 15,
   "metadata": {},
   "outputs": [],
   "source": [
    "# Creating dummy variables for gender\n",
    "df_spark = df_spark.withColumn('gender_male',fn.when(fn.col('gender')=='Male',1).otherwise(0))"
   ]
  },
  {
   "cell_type": "code",
   "execution_count": 16,
   "metadata": {},
   "outputs": [],
   "source": [
    "# Grouped all the different types of diganosis based on their diag values specificed by the mapping document\n",
    "# Created dummy variables for each category\n",
    "\n",
    "df_spark = df_spark.withColumn('diag1_Circulatory',\n",
    "fn.when((df_spark['diag_1'] >= 390) & (df_spark['diag_1'] <= 459) | (df_spark['diag_1'] == 785), 1).otherwise(0))\n",
    "\n",
    "df_spark = df_spark.withColumn('diag1_Respiratory',\n",
    "fn.when((df_spark['diag_1'] >= 460) & (df_spark['diag_1'] <= 519) | (df_spark['diag_1'] == 786), 1).otherwise(0))\n",
    "\n",
    "df_spark = df_spark.withColumn('diag1_Digestive',\n",
    "fn.when((df_spark['diag_1'] >= 520) & (df_spark['diag_1'] <= 579) | (df_spark['diag_1'] == 787), 1).otherwise(0))\n",
    "  \n",
    "df_spark = df_spark.withColumn('diag1_Diabetes', \n",
    "fn.when((df_spark['diag_1'] >= 250.00) & (df_spark['diag_1'] <= 250.99), 1).otherwise(0))\n",
    "\n",
    "df_spark = df_spark.withColumn('diag1_Injury', \n",
    "fn.when((df_spark['diag_1'] >= 800) & (df_spark['diag_1'] <= 999), 1).otherwise(0))\n",
    "\n",
    "df_spark = df_spark.withColumn('diag1_Musculoskeletal', \n",
    "fn.when((df_spark['diag_1'] >= 710) & (df_spark['diag_1'] <= 739), 1).otherwise(0))\n",
    "\n",
    "df_spark = df_spark.withColumn('diag1_Genitourinary',\n",
    "fn.when((df_spark['diag_1'] >= 580) & (df_spark['diag_1'] <= 629) | (df_spark['diag_1'] == 788), 1).otherwise(0))\n",
    "\n",
    "\n",
    "df_spark = df_spark.withColumn('diag1_Neoplasms',\n",
    "fn.when(((df_spark['diag_1'] >= 1) & (df_spark['diag_1'] <= 249)) | (df_spark['diag_1'] == 780) |\n",
    "    (df_spark['diag_1'] == 781) | (df_spark['diag_1'] == 782) | (df_spark['diag_1'] == 784) |\n",
    "        ((df_spark['diag_1'] >= 251) & (df_spark['diag_1'] <= 279)) | \n",
    "        ((df_spark['diag_1'] >= 680) & (df_spark['diag_1'] <= 709)) | \n",
    "        ((df_spark['diag_1'] >= 790) & (df_spark['diag_1'] <= 799)), 1).otherwise(0))\n"
   ]
  },
  {
   "cell_type": "code",
   "execution_count": 17,
   "metadata": {},
   "outputs": [],
   "source": [
    "df_spark = df_spark.withColumn('diag2_Circulatory',\n",
    "fn.when((df_spark['diag_2'] >= 390) & (df_spark['diag_2'] <= 459) | (df_spark['diag_2'] == 785), 1).otherwise(0))\n",
    "\n",
    "df_spark = df_spark.withColumn('diag2_Respiratory',\n",
    "fn.when((df_spark['diag_2'] >= 460) & (df_spark['diag_2'] <= 519) | (df_spark['diag_2'] == 786), 1).otherwise(0))\n",
    "\n",
    "df_spark = df_spark.withColumn('diag2_Digestive',\n",
    "fn.when((df_spark['diag_2'] >= 520) & (df_spark['diag_2'] <= 579) | (df_spark['diag_2'] == 787), 1).otherwise(0))\n",
    "  \n",
    "df_spark = df_spark.withColumn('diag2_Diabetes', \n",
    "fn.when((df_spark['diag_2'] >= 250.00) & (df_spark['diag_2'] <= 250.99), 1).otherwise(0))\n",
    "\n",
    "df_spark = df_spark.withColumn('diag2_Injury', \n",
    "fn.when((df_spark['diag_2'] >= 800) & (df_spark['diag_2'] <= 999), 1).otherwise(0))\n",
    "\n",
    "df_spark = df_spark.withColumn('diag2_Musculoskeletal', \n",
    "fn.when((df_spark['diag_2'] >= 710) & (df_spark['diag_2'] <= 739), 1).otherwise(0))\n",
    "\n",
    "df_spark = df_spark.withColumn('diag2_Genitourinary',\n",
    "fn.when((df_spark['diag_2'] >= 580) & (df_spark['diag_2'] <= 629) | (df_spark['diag_2'] == 788), 1).otherwise(0))\n",
    "\n",
    "\n",
    "df_spark = df_spark.withColumn('diag2_Neoplasms',\n",
    "fn.when(((df_spark['diag_2'] >= 1) & (df_spark['diag_2'] <= 249)) | (df_spark['diag_2'] == 780) |\n",
    "    (df_spark['diag_2'] == 781) | (df_spark['diag_2'] == 782) | (df_spark['diag_2'] == 784) |\n",
    "        ((df_spark['diag_2'] >= 251) & (df_spark['diag_2'] <= 279)) | \n",
    "        ((df_spark['diag_2'] >= 680) & (df_spark['diag_2'] <= 709)) | \n",
    "        ((df_spark['diag_2'] >= 790) & (df_spark['diag_2'] <= 799)), 1).otherwise(0))\n"
   ]
  },
  {
   "cell_type": "code",
   "execution_count": 18,
   "metadata": {},
   "outputs": [],
   "source": [
    "df_spark = df_spark.withColumn('diag3_Circulatory',\n",
    "fn.when((df_spark['diag_3'] >= 390) & (df_spark['diag_3'] <= 459) | (df_spark['diag_3'] == 785), 1).otherwise(0))\n",
    "\n",
    "df_spark = df_spark.withColumn('diag3_Respiratory',\n",
    "fn.when((df_spark['diag_3'] >= 460) & (df_spark['diag_3'] <= 519) | (df_spark['diag_3'] == 786), 1).otherwise(0))\n",
    "\n",
    "df_spark = df_spark.withColumn('diag3_Digestive',\n",
    "fn.when((df_spark['diag_3'] >= 520) & (df_spark['diag_3'] <= 579) | (df_spark['diag_3'] == 787), 1).otherwise(0))\n",
    "  \n",
    "df_spark = df_spark.withColumn('diag3_Diabetes', \n",
    "fn.when((df_spark['diag_3'] >= 250.00) & (df_spark['diag_3'] <= 250.99), 1).otherwise(0))\n",
    "\n",
    "df_spark = df_spark.withColumn('diag3_Injury', \n",
    "fn.when((df_spark['diag_3'] >= 800) & (df_spark['diag_3'] <= 999), 1).otherwise(0))\n",
    "\n",
    "df_spark = df_spark.withColumn('diag3_Musculoskeletal', \n",
    "fn.when((df_spark['diag_3'] >= 710) & (df_spark['diag_3'] <= 739), 1).otherwise(0))\n",
    "\n",
    "df_spark = df_spark.withColumn('diag3_Genitourinary',\n",
    "fn.when((df_spark['diag_3'] >= 580) & (df_spark['diag_3'] <= 629) | (df_spark['diag_3'] == 788), 1).otherwise(0))\n",
    "\n",
    "\n",
    "df_spark = df_spark.withColumn('diag3_Neoplasms',\n",
    "fn.when(((df_spark['diag_3'] >= 1) & (df_spark['diag_3'] <= 249)) | (df_spark['diag_3'] == 780) |\n",
    "    (df_spark['diag_3'] == 781) | (df_spark['diag_3'] == 782) | (df_spark['diag_3'] == 784) |\n",
    "        ((df_spark['diag_3'] >= 251) & (df_spark['diag_3'] <= 279)) | \n",
    "        ((df_spark['diag_3'] >= 680) & (df_spark['diag_3'] <= 709)) | \n",
    "        ((df_spark['diag_3'] >= 790) & (df_spark['diag_3'] <= 799)), 1).otherwise(0))\n"
   ]
  },
  {
   "cell_type": "code",
   "execution_count": 19,
   "metadata": {},
   "outputs": [],
   "source": [
    "# Creating dummy variables for max_glu_serum\n",
    "df_spark = df_spark.withColumn('max_glu_200',fn.when(fn.col('max_glu_serum')=='>200',1).otherwise(0))\n",
    "df_spark = df_spark.withColumn('max_glu_300',fn.when(fn.col('max_glu_serum')=='>300',1).otherwise(0))\n",
    "df_spark = df_spark.withColumn('max_glu_norm',fn.when(fn.col('max_glu_serum')=='Norm',1).otherwise(0))\n",
    "#df_spark_final.select('max_glu_none','max_glu_200','max_glu_300','max_glu_norm').show(10)\n"
   ]
  },
  {
   "cell_type": "code",
   "execution_count": 20,
   "metadata": {},
   "outputs": [],
   "source": [
    "# Creating dummy variables for A1Cresult\n",
    "df_spark = df_spark.withColumn('A1Cresult_7',fn.when(fn.col('A1Cresult')=='>7',1).otherwise(0))\n",
    "df_spark = df_spark.withColumn('A1Cresult_8',fn.when(fn.col('A1Cresult')=='>8',1).otherwise(0))\n",
    "df_spark = df_spark.withColumn('A1Cresult_norm',fn.when(fn.col('A1Cresult')=='Norm',1).otherwise(0))\n",
    "#df_spark_final.select('max_glu_none','max_glu_7','max_glu_8','max_glu_norm').show(10)"
   ]
  },
  {
   "cell_type": "code",
   "execution_count": 21,
   "metadata": {},
   "outputs": [],
   "source": [
    "# Creating dummy variables for change and diabetesMed\n",
    "df_spark = df_spark.withColumn('change',fn.when(fn.col('change')=='Ch',1).otherwise(0))\n",
    "df_spark = df_spark.withColumn('diabetesMed',fn.when(fn.col('diabetesMed')=='Yes',1).otherwise(0))\n",
    "#df_spark.select('change','diabetesMed').show(10)"
   ]
  },
  {
   "cell_type": "code",
   "execution_count": 22,
   "metadata": {},
   "outputs": [],
   "source": [
    "# Creating dummy variables for readmitted\n",
    "df_spark = df_spark.withColumn('readmitted',fn.when(df_spark[\"readmitted\"] == 'NO', 0).otherwise(1))"
   ]
  },
  {
   "cell_type": "markdown",
   "metadata": {},
   "source": [
    "## Treating all ordinal columns by using String Indexer"
   ]
  },
  {
   "cell_type": "code",
   "execution_count": 23,
   "metadata": {},
   "outputs": [],
   "source": [
    "# Converting all the 24 medicines\n",
    "indexers = [StringIndexer(inputCol=column, outputCol=column+\"_index\").fit(df_spark)\\\n",
    "            for column in ('metformin','repaglinide','nateglinide')]\n",
    "\n",
    "pipeline = Pipeline(stages=indexers)\n",
    "df_spark = pipeline.fit(df_spark).transform(df_spark)"
   ]
  },
  {
   "cell_type": "code",
   "execution_count": 24,
   "metadata": {},
   "outputs": [],
   "source": [
    "indexers = [StringIndexer(inputCol=column, outputCol=column+\"_index\").fit(df_spark)\\\n",
    "            for column in ('chlorpropamide','glimepiride','acetohexamide')]\n",
    "\n",
    "pipeline = Pipeline(stages=indexers)\n",
    "df_spark = pipeline.fit(df_spark).transform(df_spark)"
   ]
  },
  {
   "cell_type": "code",
   "execution_count": 25,
   "metadata": {},
   "outputs": [],
   "source": [
    "indexers = [StringIndexer(inputCol=column, outputCol=column+\"_index\").fit(df_spark)\\\n",
    "            for column in ('miglitol','troglitazone','tolazamide')]\n",
    "\n",
    "\n",
    "pipeline = Pipeline(stages=indexers)\n",
    "df_spark = pipeline.fit(df_spark).transform(df_spark)"
   ]
  },
  {
   "cell_type": "code",
   "execution_count": 26,
   "metadata": {},
   "outputs": [],
   "source": [
    "indexers = [StringIndexer(inputCol=column, outputCol=column+\"_index\").fit(df_spark)\\\n",
    "            for column in ('insulin','glyburide-metformin','glipizide-metformin')]\n",
    "\n",
    "pipeline = Pipeline(stages=indexers)\n",
    "df_spark = pipeline.fit(df_spark).transform(df_spark)"
   ]
  },
  {
   "cell_type": "code",
   "execution_count": 27,
   "metadata": {},
   "outputs": [],
   "source": [
    "indexers = [StringIndexer(inputCol=column, outputCol=column+\"_index\").fit(df_spark)\\\n",
    "            for column in ('glimepiride-pioglitazone','metformin-rosiglitazone','metformin-pioglitazone')]\n",
    "\n",
    "\n",
    "pipeline = Pipeline(stages=indexers)\n",
    "df_spark = pipeline.fit(df_spark).transform(df_spark)"
   ]
  },
  {
   "cell_type": "code",
   "execution_count": 28,
   "metadata": {},
   "outputs": [],
   "source": [
    "indexers = [StringIndexer(inputCol=column, outputCol=column+\"_index\").fit(df_spark)\\\n",
    "            for column in ('glipizide','glyburide','tolbutamide')]\n",
    "\n",
    "pipeline = Pipeline(stages=indexers)\n",
    "df_spark = pipeline.fit(df_spark).transform(df_spark)"
   ]
  },
  {
   "cell_type": "code",
   "execution_count": 29,
   "metadata": {},
   "outputs": [],
   "source": [
    "indexers = [StringIndexer(inputCol=column, outputCol=column+\"_index\").fit(df_spark)\\\n",
    "            for column in ('pioglitazone','rosiglitazone','acarbose')]\n",
    "\n",
    "pipeline = Pipeline(stages=indexers)\n",
    "df_spark = pipeline.fit(df_spark).transform(df_spark)"
   ]
  },
  {
   "cell_type": "code",
   "execution_count": 30,
   "metadata": {},
   "outputs": [],
   "source": [
    "df_spark = df_spark.withColumn('insulin_index1',fn.when(df_spark[\"insulin_index\"]==2,4).\\\n",
    "                                           otherwise(df_spark[\"insulin_index\"]))\n",
    "df_spark = df_spark.withColumn('insulin_index1',fn.when(df_spark[\"insulin_index1\"]==3,2).\\\n",
    "                                           otherwise(df_spark[\"insulin_index1\"]))\n",
    "df_spark = df_spark.drop('insulin_index')\n",
    "df_spark = df_spark.withColumn('insulin_index',fn.when(df_spark[\"insulin_index1\"]==4,3).\\\n",
    "                                           otherwise(df_spark[\"insulin_index1\"]))\n",
    "df_spark = df_spark.drop('insulin_index1')"
   ]
  },
  {
   "cell_type": "code",
   "execution_count": 31,
   "metadata": {},
   "outputs": [],
   "source": [
    "df_spark = df_spark.withColumn('miglitol_index1',fn.when(df_spark[\"miglitol_index\"]==2,4).\\\n",
    "                                           otherwise(df_spark[\"miglitol_index\"]))\n",
    "df_spark = df_spark.withColumn('miglitol_index1',fn.when(df_spark[\"miglitol_index1\"]==3,2).\\\n",
    "                                           otherwise(df_spark[\"miglitol_index1\"]))\n",
    "df_spark = df_spark.drop('miglitol_index')\n",
    "df_spark = df_spark.withColumn('miglitol_index',fn.when(df_spark[\"miglitol_index1\"]==4,3).\\\n",
    "                                           otherwise(df_spark[\"miglitol_index1\"]))\n",
    "df_spark = df_spark.drop('miglitol_index1')"
   ]
  },
  {
   "cell_type": "markdown",
   "metadata": {},
   "source": [
    "## Creating new column total_visits = number_inpatient + number_outpatient"
   ]
  },
  {
   "cell_type": "code",
   "execution_count": 32,
   "metadata": {},
   "outputs": [],
   "source": [
    "dfsum = fn.col('number_outpatient') + fn.col('number_inpatient')\n",
    "df_spark = df_spark.withColumn('total_visits',dfsum)"
   ]
  },
  {
   "cell_type": "markdown",
   "metadata": {},
   "source": [
    "## Taking square root and log transformation of right-skewed distributions"
   ]
  },
  {
   "cell_type": "code",
   "execution_count": 33,
   "metadata": {},
   "outputs": [
    {
     "data": {
      "text/plain": [
       "Text(0.5,0,'total_visits')"
      ]
     },
     "execution_count": 33,
     "metadata": {},
     "output_type": "execute_result"
    },
    {
     "data": {
      "image/png": "[encoded data removed]",
      "text/plain": [
       "<Figure size 432x288 with 1 Axes>"
      ]
     },
     "metadata": {},
     "output_type": "display_data"
    }
   ],
   "source": [
    "df_spark.select('total_visits').toPandas().total_visits.hist()\n",
    "plt.xlim(0,70)\n",
    "plt.ylim(0,800)\n",
    "plt.xlabel('total_visits')"
   ]
  },
  {
   "cell_type": "code",
   "execution_count": 34,
   "metadata": {},
   "outputs": [
    {
     "data": {
      "text/plain": [
       "Text(0.5,0,'number_emergency')"
      ]
     },
     "execution_count": 34,
     "metadata": {},
     "output_type": "execute_result"
    },
    {
     "data": {
      "image/png": "[encoded data removed]",
      "text/plain": [
       "<Figure size 432x288 with 1 Axes>"
      ]
     },
     "metadata": {},
     "output_type": "display_data"
    }
   ],
   "source": [
    "df_spark.select('number_emergency').toPandas().number_emergency.hist()\n",
    "plt.xlim(0,70)\n",
    "plt.ylim(0,500)\n",
    "plt.xlabel('number_emergency')"
   ]
  },
  {
   "cell_type": "code",
   "execution_count": 35,
   "metadata": {},
   "outputs": [
    {
     "data": {
      "text/plain": [
       "Text(0.5,0,'time_in_hospital')"
      ]
     },
     "execution_count": 35,
     "metadata": {},
     "output_type": "execute_result"
    },
    {
     "data": {
      "image/png": "[encoded data removed]",
      "text/plain": [
       "<Figure size 432x288 with 1 Axes>"
      ]
     },
     "metadata": {},
     "output_type": "display_data"
    }
   ],
   "source": [
    "df_spark.select('time_in_hospital').toPandas().time_in_hospital.hist()\n",
    "plt.xlabel('time_in_hospital')"
   ]
  },
  {
   "cell_type": "code",
   "execution_count": 36,
   "metadata": {},
   "outputs": [
    {
     "data": {
      "text/plain": [
       "Text(0.5,0,'num_lab_procedures')"
      ]
     },
     "execution_count": 36,
     "metadata": {},
     "output_type": "execute_result"
    },
    {
     "data": {
      "image/png": "[encoded data removed]",
      "text/plain": [
       "<Figure size 432x288 with 1 Axes>"
      ]
     },
     "metadata": {},
     "output_type": "display_data"
    }
   ],
   "source": [
    "df_spark.select('num_lab_procedures').toPandas().num_lab_procedures.hist()\n",
    "plt.xlabel('num_lab_procedures')"
   ]
  },
  {
   "cell_type": "code",
   "execution_count": 37,
   "metadata": {
    "scrolled": true
   },
   "outputs": [
    {
     "data": {
      "text/plain": [
       "Text(0.5,0,'num_medications')"
      ]
     },
     "execution_count": 37,
     "metadata": {},
     "output_type": "execute_result"
    },
    {
     "data": {
      "image/png": "[encoded data removed]",
      "text/plain": [
       "<Figure size 432x288 with 1 Axes>"
      ]
     },
     "metadata": {},
     "output_type": "display_data"
    }
   ],
   "source": [
    "df_spark.select('num_medications').toPandas().num_medications.hist()\n",
    "plt.xlabel('num_medications')"
   ]
  },
  {
   "cell_type": "code",
   "execution_count": 38,
   "metadata": {
    "scrolled": true
   },
   "outputs": [
    {
     "data": {
      "text/plain": [
       "Text(0.5,0,'num_procedures')"
      ]
     },
     "execution_count": 38,
     "metadata": {},
     "output_type": "execute_result"
    },
    {
     "data": {
      "image/png": "[encoded data removed]",
      "text/plain": [
       "<Figure size 432x288 with 1 Axes>"
      ]
     },
     "metadata": {},
     "output_type": "display_data"
    }
   ],
   "source": [
    "df_spark.select('num_procedures').toPandas().num_procedures.hist()\n",
    "plt.xlabel('num_procedures')"
   ]
  },
  {
   "cell_type": "code",
   "execution_count": 39,
   "metadata": {},
   "outputs": [
    {
     "data": {
      "text/plain": [
       "Text(0.5,0,'number_diagnoses')"
      ]
     },
     "execution_count": 39,
     "metadata": {},
     "output_type": "execute_result"
    },
    {
     "data": {
      "image/png": "[encoded data removed]",
      "text/plain": [
       "<Figure size 432x288 with 1 Axes>"
      ]
     },
     "metadata": {},
     "output_type": "display_data"
    }
   ],
   "source": [
    "df_spark.select('number_diagnoses').toPandas().number_diagnoses.hist()\n",
    "plt.xlabel('number_diagnoses')"
   ]
  },
  {
   "cell_type": "code",
   "execution_count": 40,
   "metadata": {},
   "outputs": [],
   "source": [
    "##SQRT\n",
    "df_spark = df_spark.withColumn('total_visits_sqrt',fn.round(fn.sqrt(fn.col('total_visits')),2))\n",
    "df_spark = df_spark.withColumn('number_emergency_sqrt',fn.round(fn.sqrt(fn.col('number_emergency')),2))\n",
    "df_spark = df_spark.withColumn('num_lab_procedures_sqrt',fn.round(fn.sqrt(fn.col('num_lab_procedures')),2))\n",
    "df_spark = df_spark.withColumn('num_medications_sqrt',fn.round(fn.sqrt(fn.col('num_medications')),2))\n",
    "\n",
    "##LOG\n",
    "df_spark = df_spark.withColumn('total_visits_log',fn.round(fn.log(fn.col('total_visits')+0.01),2))\n",
    "df_spark = df_spark.withColumn('number_emergency_log',fn.round(fn.log(fn.col('number_emergency')+0.01),2))\n",
    "df_spark = df_spark.withColumn('num_lab_procedures_log',fn.round(fn.log(fn.col('num_lab_procedures')+0.01),2))\n",
    "df_spark = df_spark.withColumn('num_medications_log',fn.round(fn.log(fn.col('num_medications')+0.01),2))\n",
    "\n"
   ]
  },
  {
   "cell_type": "code",
   "execution_count": 41,
   "metadata": {},
   "outputs": [
    {
     "name": "stdout",
     "output_type": "stream",
     "text": [
      "+---+\n",
      "|age|\n",
      "+---+\n",
      "| 20|\n",
      "| 30|\n",
      "| 40|\n",
      "| 50|\n",
      "| 60|\n",
      "| 70|\n",
      "| 80|\n",
      "| 90|\n",
      "|100|\n",
      "| 50|\n",
      "+---+\n",
      "only showing top 10 rows\n",
      "\n"
     ]
    }
   ],
   "source": [
    "# Converting Age into numeric\n",
    "\n",
    "df_spark = df_spark.withColumn('age',fn.when(df_spark.age=='[0-10)',10).otherwise(df_spark.age))\n",
    "df_spark = df_spark.withColumn('age',fn.when(df_spark.age=='[10-20)',20).otherwise(df_spark.age))\n",
    "df_spark = df_spark.withColumn('age',fn.when(df_spark.age=='[20-30)',30).otherwise(df_spark.age))\n",
    "df_spark = df_spark.withColumn('age',fn.when(df_spark.age=='[30-40)',40).otherwise(df_spark.age))\n",
    "df_spark = df_spark.withColumn('age',fn.when(df_spark.age=='[40-50)',50).otherwise(df_spark.age))\n",
    "df_spark = df_spark.withColumn('age',fn.when(df_spark.age=='[50-60)',60).otherwise(df_spark.age))\n",
    "df_spark = df_spark.withColumn('age',fn.when(df_spark.age=='[60-70)',70).otherwise(df_spark.age))\n",
    "df_spark = df_spark.withColumn('age',fn.when(df_spark.age=='[70-80)',80).otherwise(df_spark.age))\n",
    "df_spark = df_spark.withColumn('age',fn.when(df_spark.age=='[80-90)',90).otherwise(df_spark.age))\n",
    "df_spark = df_spark.withColumn('age',fn.when(df_spark.age=='[90-100)',100).otherwise(df_spark.age))\n",
    "df_spark = df_spark.withColumn('age',fn.when(df_spark.age=='[100-110)',110).otherwise(df_spark.age))\n",
    "\n",
    "df_spark.select('age').show(10)"
   ]
  },
  {
   "cell_type": "code",
   "execution_count": 42,
   "metadata": {},
   "outputs": [],
   "source": [
    "df_spark = df_spark.withColumn(\"age\", df_spark[\"age\"].cast(IntegerType()))"
   ]
  },
  {
   "cell_type": "code",
   "execution_count": 43,
   "metadata": {},
   "outputs": [
    {
     "data": {
      "text/plain": [
       "Text(0.5,0,'age')"
      ]
     },
     "execution_count": 43,
     "metadata": {},
     "output_type": "execute_result"
    },
    {
     "data": {
      "image/png": "[encoded data removed]",
      "text/plain": [
       "<Figure size 432x288 with 1 Axes>"
      ]
     },
     "metadata": {},
     "output_type": "display_data"
    }
   ],
   "source": [
    "df_spark.select('age').toPandas().age.hist()\n",
    "plt.xlabel('age')\n",
    "# Left skewed"
   ]
  },
  {
   "cell_type": "markdown",
   "metadata": {},
   "source": [
    "# Exploratory Data Analysis"
   ]
  },
  {
   "cell_type": "code",
   "execution_count": 44,
   "metadata": {
    "scrolled": false
   },
   "outputs": [
    {
     "name": "stdout",
     "output_type": "stream",
     "text": [
      "+----------+-----+\n",
      "|readmitted|count|\n",
      "+----------+-----+\n",
      "|         1|40207|\n",
      "|         0|46654|\n",
      "+----------+-----+\n",
      "\n",
      "+----------+-----------------+------------------+\n",
      "|readmitted|count(readmitted)|        Percentage|\n",
      "+----------+-----------------+------------------+\n",
      "|       >30|            30357| 34.94894141214124|\n",
      "|        NO|            46654| 53.71110164515721|\n",
      "|       <30|             9850|11.339956942701559|\n",
      "+----------+-----------------+------------------+\n",
      "\n"
     ]
    }
   ],
   "source": [
    "readmitted_count = df_spark.select('readmitted').groupBy('readmitted').count().show()\n",
    "spark.sql(\"Select readmitted, count(readmitted),(count(readmitted)*100/(select count(readmitted) from temp)) as Percentage from temp group by readmitted\").show()\n",
    "# 11% of patients were readmitted within 30 days (<30)\n",
    "# 35% of patients were readmitted after 30 days (>30)\n",
    "# 54% of patients were never readmitted (NO)"
   ]
  },
  {
   "cell_type": "code",
   "execution_count": 45,
   "metadata": {},
   "outputs": [],
   "source": [
    "# The response variable 'readmitted' in the original dataset contains three categories.\n",
    "\n",
    "# a = df_spark.toPandas()\n",
    "# ax = a['readmitted'].value_counts().plot(kind='barh',figsize=(18,5),title=\"Count of each admission type\")\n",
    "\n",
    "# totals = []\n",
    "# for i in ax.patches:\n",
    "#     totals.append(i.get_width())\n",
    "\n",
    "# total = sum(totals)\n",
    "\n",
    "# for i in ax.patches:\n",
    "#     ax.text(i.get_width()+.3, i.get_y()+.38, \\\n",
    "#             str(round((i.get_width()/total)*100, 2))+'%', fontsize=15,\n",
    "# color='red')\n",
    "# ax.invert_yaxis()\n",
    "# ax.set_xlabel(\"Re-admission type\")\n",
    "# ax.set_ylabel(\"Relative Frequency\")"
   ]
  },
  {
   "cell_type": "code",
   "execution_count": 46,
   "metadata": {},
   "outputs": [],
   "source": [
    "# Recode the readmission variable to 1 and 0 to find out correlation with predictor variables\n",
    "# '0' means no readmission\n",
    "# '1' means readmission no matter how many days after being discharged\n",
    "# df_spark_recoded = 1,0\n",
    "# df_spark = Yes,No\n",
    "\n",
    "#df_spark_recoded = df_spark.withColumn('readmitted',fn.when(df_spark[\"readmitted\"] == 'NO', 0).otherwise(1))\n"
   ]
  },
  {
   "cell_type": "code",
   "execution_count": 47,
   "metadata": {},
   "outputs": [],
   "source": [
    "# df_spark_recoded.createOrReplaceTempView(\"temp2\") "
   ]
  },
  {
   "cell_type": "code",
   "execution_count": 48,
   "metadata": {},
   "outputs": [],
   "source": [
    "# corr_matrix = df_spark_recoded.select('num_lab_procedures','num_procedures','num_medications','number_outpatient',\n",
    "#                               'number_emergency','number_inpatient','number_diagnoses','readmitted')\n",
    "\n",
    "# pd_corr = corr_matrix.toPandas()\n",
    "# print(pd_corr.corr())\n",
    "# sns.heatmap(pd_corr.corr(),square=True,cmap='Oranges')"
   ]
  },
  {
   "cell_type": "code",
   "execution_count": 49,
   "metadata": {},
   "outputs": [],
   "source": [
    "#color = ['blue', 'red','green','yellow','cyan','purple','black','orange']"
   ]
  },
  {
   "cell_type": "code",
   "execution_count": 50,
   "metadata": {
    "scrolled": false
   },
   "outputs": [],
   "source": [
    "# sns.set(style=\"ticks\", color_codes=True)\n",
    "# sns.pairplot(pd_corr\n",
    "#              ,hue='readmitted')\n"
   ]
  },
  {
   "cell_type": "code",
   "execution_count": 51,
   "metadata": {},
   "outputs": [],
   "source": [
    "#Stacked Bar Graph with Age and Readmitted\n",
    "# df2 = df_spark.toPandas().groupby(['age', 'readmitted'])['age'].count().unstack('readmitted')\n",
    "# #df2.head()\n",
    "# df2[['NO','<30','>30']].plot(kind='bar', stacked=False)"
   ]
  },
  {
   "cell_type": "code",
   "execution_count": 52,
   "metadata": {},
   "outputs": [],
   "source": [
    "#Stacked Bar Graph with Race and Readmitted\n",
    "# df2 = df_spark.toPandas().groupby(['race', 'readmitted'])['race'].count().unstack('readmitted')\n",
    "# df2[['NO','<30','>30']].plot(kind='bar', stacked=False)"
   ]
  },
  {
   "cell_type": "code",
   "execution_count": 53,
   "metadata": {},
   "outputs": [],
   "source": [
    "#Stacked Bar Graph with Inpatient,Outpatient and Readmitted\n",
    "# df2 = df_spark.toPandas().groupby(['number_inpatient', 'readmitted'])['number_inpatient'].count().unstack('readmitted')\n",
    "# df2[['NO','<30','>30']].plot(kind='bar', stacked=False)"
   ]
  },
  {
   "cell_type": "code",
   "execution_count": 54,
   "metadata": {
    "scrolled": true
   },
   "outputs": [],
   "source": [
    "#Stacked Bar Graph with Emergency and Readmitted\n",
    "#df2 = df_spark_recoded.toPandas().groupby(['number_emergency', 'readmitted'])['number_inpatient'].count().unstack('readmitted')\n",
    "#df2\n",
    "#df2[[0,1]].plot(kind='bar', stacked=False,logy=True)"
   ]
  },
  {
   "cell_type": "code",
   "execution_count": 55,
   "metadata": {},
   "outputs": [],
   "source": [
    "#df_spark_recoded.select('metformin').distinct().show()"
   ]
  },
  {
   "cell_type": "code",
   "execution_count": 56,
   "metadata": {},
   "outputs": [],
   "source": [
    "# #Stacked Bar Graph with diabetesMed and Readmitted\n",
    "# df2 = df_spark.toPandas().groupby(['diabetesMed', 'diag1_Diabetes','diag2_Diabetes','diag3_Diabetes'])['diabetesMed'].count()\n",
    "# df2.head(5)\n",
    "# #df2[['No','Yes']].plot(kind='bar', stacked=False)"
   ]
  },
  {
   "cell_type": "code",
   "execution_count": 57,
   "metadata": {},
   "outputs": [],
   "source": [
    "#df_spark_clean.limit(20).toPandas()"
   ]
  },
  {
   "cell_type": "code",
   "execution_count": 58,
   "metadata": {},
   "outputs": [],
   "source": [
    "# all_med = df_spark_clean.select('repaglinide_index',\n",
    "#  'nateglinide_index',\n",
    "#  'chlorpropamide_index','acetohexamide_index',\n",
    "#  'troglitazone_index',\n",
    "#  'tolazamide_index',\n",
    "#  'glyburide-metformin_index',\n",
    "#  'glipizide-metformin_index',\n",
    "#  'glimepiride-pioglitazone_index',\n",
    "#  'metformin-rosiglitazone_index',\n",
    "#  'metformin-pioglitazone_index',\n",
    "#  'tolbutamide_index',\n",
    "#  'pioglitazone_index','acarbose_index',\n",
    "#  'insulin_index','miglitol_index','readmitted')\n",
    "\n",
    "# all_med_corr = all_med.toPandas()\n",
    "# print(all_med_corr.corr())\n",
    "# sns.heatmap(all_med_corr.corr(),square=True,cmap='Oranges')"
   ]
  },
  {
   "cell_type": "code",
   "execution_count": 59,
   "metadata": {},
   "outputs": [],
   "source": [
    "# medicine_corr = df_spark_clean.select('metformin_index','glipizide_index','glimepiride_index',\n",
    "#      'glyburide_index','rosiglitazone_index','insulin_index','readmitted')\n",
    "\n",
    "# med_corr = medicine_corr.toPandas()\n",
    "# print(med_corr.corr())\n",
    "# sns.heatmap(med_corr.corr(),square=True,cmap='Oranges')"
   ]
  },
  {
   "cell_type": "code",
   "execution_count": 60,
   "metadata": {},
   "outputs": [],
   "source": [
    "# corr_list1 = df_spark_clean.select('metformin_index','glipizide_index','glimepiride_index',\n",
    "#      'glyburide_index','rosiglitazone_index','insulin_index',\n",
    "#  'diag1_Diabetes')\n",
    "\n",
    "# corr_l1 = corr_list1.toPandas()\n",
    "# print(corr_l1.corr())\n",
    "# sns.heatmap(corr_l1.corr(),square=True,cmap='Oranges')"
   ]
  },
  {
   "cell_type": "code",
   "execution_count": 61,
   "metadata": {},
   "outputs": [],
   "source": [
    "# diag_list = df_spark_clean.select('diag1_Circulatory',\n",
    "#  'diag1_Respiratory',\n",
    "#  'diag1_Digestive',\n",
    "#  'diag1_Diabetes',\n",
    "#  'diag1_Injury',\n",
    "#  'diag1_Musculoskeletal',\n",
    "#  'diag1_Genitourinary',\n",
    "#  'diag1_Neoplasms',\n",
    "#  'diag2_Circulatory',\n",
    "#  'diag2_Respiratory',\n",
    "#  'diag2_Digestive',\n",
    "#  'diag2_Diabetes',\n",
    "#  'diag2_Injury',\n",
    "#  'diag2_Musculoskeletal',\n",
    "#  'diag2_Genitourinary',\n",
    "#  'diag2_Neoplasms',\n",
    "#  'diag3_Circulatory',\n",
    "#  'diag3_Respiratory',\n",
    "#  'diag3_Digestive',\n",
    "#  'diag3_Diabetes',\n",
    "#  'diag3_Injury',\n",
    "#  'diag3_Musculoskeletal',\n",
    "#  'diag3_Genitourinary',\n",
    "#  'diag3_Neoplasms','readmitted')\n",
    "\n",
    "# diag_corr = diag_list.toPandas()\n",
    "# print(diag_corr.corr())\n",
    "# sns.heatmap(diag_corr.corr(),square=True,cmap='Oranges')"
   ]
  },
  {
   "cell_type": "markdown",
   "metadata": {},
   "source": [
    "## Getting only distinct patients with their first occurence"
   ]
  },
  {
   "cell_type": "code",
   "execution_count": 62,
   "metadata": {},
   "outputs": [],
   "source": [
    "df_spark.createOrReplaceTempView(\"temp\") "
   ]
  },
  {
   "cell_type": "code",
   "execution_count": 63,
   "metadata": {},
   "outputs": [],
   "source": [
    "# spark.sql(\"Select count(distinct patient_nbr) from temp \").collect()"
   ]
  },
  {
   "cell_type": "code",
   "execution_count": 64,
   "metadata": {},
   "outputs": [],
   "source": [
    "# print((df_spark.count(), len(df_spark.columns)))"
   ]
  },
  {
   "cell_type": "code",
   "execution_count": 65,
   "metadata": {},
   "outputs": [],
   "source": [
    "# spark.sql(\"Select distinct 'encounter_id','patient_nbr','admission_type_id','discharge_disposition_id','admission_source_id',\n",
    "#  'time_in_hospital', 'num_lab_procedures','num_procedures','num_medications','number_outpatient','number_emergency',\n",
    "#  'number_inpatient','number_diagnoses','race','gender','age','diag_1','diag_2','diag_3','max_glu_serum',\n",
    "#  'A1Cresult','metformin','repaglinide','nateglinide','chlorpropamide','glimepiride','acetohexamide',\n",
    "#  'glipizide','glyburide','tolbutamide','pioglitazone','rosiglitazone','acarbose','miglitol',\n",
    "#  'troglitazone','tolazamide','insulin','glyburide-metformin','glipizide-metformin','glimepiride-pioglitazone',\n",
    "#  'metformin-rosiglitazone','metformin-pioglitazone','change','diabetesMed','readmitted',\n",
    "#  'diag1_Circulatory','diag1_Respiratory','diag1_Digestive','diag1_Diabetes','diag1_Injury',\n",
    "#  'diag1_Musculoskeletal','diag1_Genitourinary','diag1_Neoplasms','diag2_Circulatory',\n",
    "#  'diag2_Respiratory','diag2_Digestive','diag2_Diabetes','diag2_Injury','diag2_Musculoskeletal',\n",
    "#  'diag2_Genitourinary','diag2_Neoplasms','diag3_Circulatory','diag3_Respiratory','diag3_Digestive',\n",
    "#  'diag3_Diabetes','diag3_Injury','diag3_Musculoskeletal','diag3_Genitourinary','diag3_Neoplasms',\n",
    "#  'metformin_index','repaglinide_index','nateglinide_index','chlorpropamide_index','glimepiride_index',\n",
    "#  'acetohexamide_index', 'troglitazone_index','tolazamide_index','glyburide-metformin_index',\n",
    "#  'glipizide-metformin_index','glimepiride-pioglitazone_index','metformin-rosiglitazone_index',\n",
    "#  'metformin-pioglitazone_index','glipizide_index','glyburide_index','tolbutamide_index',\n",
    "#  'pioglitazone_index','rosiglitazone_index', 'acarbose_index','insulin_index',\n",
    "#  'miglitol_index','total_visits'\n",
    "#           \")"
   ]
  },
  {
   "cell_type": "code",
   "execution_count": 66,
   "metadata": {},
   "outputs": [],
   "source": [
    "# spark.sql(\"Select encounter_id,count(encounter_id) from temp group by encounter_id order by count(encounter_id) desc\").show(10)"
   ]
  },
  {
   "cell_type": "code",
   "execution_count": 67,
   "metadata": {},
   "outputs": [],
   "source": [
    "unique_patient_df = spark.sql(\"select * from \\\n",
    "          (select patient_nbr, encounter_id,\\\n",
    "          row_number() over (partition by patient_nbr order by encounter_id) as rn \\\n",
    "  from temp \\\n",
    "  ) t \\\n",
    "where rn = 1\")"
   ]
  },
  {
   "cell_type": "code",
   "execution_count": 68,
   "metadata": {
    "scrolled": false
   },
   "outputs": [
    {
     "name": "stdout",
     "output_type": "stream",
     "text": [
      "(60735, 3)\n"
     ]
    }
   ],
   "source": [
    "#Converting scientific notation into full numeric number for encounter_id and patient_nbr\n",
    "# unique_patient_df = unique_patient_df.withColumn('encounter_id', unique_patient_df.encounter_id.cast(DecimalType(15,0)))\n",
    "# unique_patient_df = unique_patient_df.withColumn('patient_nbr', unique_patient_df.patient_nbr.cast(DecimalType(15,0)))\n",
    "# unique_patient_df.select('encounter_id','patient_nbr').show(10)\n",
    "print((unique_patient_df.count(), len(unique_patient_df.columns)))"
   ]
  },
  {
   "cell_type": "code",
   "execution_count": 69,
   "metadata": {},
   "outputs": [
    {
     "name": "stdout",
     "output_type": "stream",
     "text": [
      "(86861, 144)\n"
     ]
    }
   ],
   "source": [
    "#Converting scientific notation into full numeric number for encounter_id and patient_nbr\n",
    "# df_spark_clean = df_spark_clean.withColumn('encounter_id', df_spark_clean.encounter_id.cast(DecimalType(15,0)))\n",
    "# df_spark_clean = df_spark_clean.withColumn('patient_nbr', df_spark_clean.patient_nbr.cast(DecimalType(15,0)))\n",
    "# df_spark_clean.select('encounter_id','patient_nbr').show(10)\n",
    "print((df_spark.count(), len(df_spark.columns)))"
   ]
  },
  {
   "cell_type": "code",
   "execution_count": 70,
   "metadata": {},
   "outputs": [
    {
     "name": "stdout",
     "output_type": "stream",
     "text": [
      "(60735, 145)\n"
     ]
    }
   ],
   "source": [
    "df_spark_final  = df_spark.join(unique_patient_df, on=['encounter_id','patient_nbr'], how='inner')\n",
    "print((df_spark_final.count(), len(df_spark_final.columns)))"
   ]
  },
  {
   "cell_type": "code",
   "execution_count": 71,
   "metadata": {},
   "outputs": [],
   "source": [
    "df_spark_final.createOrReplaceTempView(\"temp\") "
   ]
  },
  {
   "cell_type": "code",
   "execution_count": 72,
   "metadata": {},
   "outputs": [
    {
     "name": "stdout",
     "output_type": "stream",
     "text": [
      "+------------+-------------------+\n",
      "|encounter_id|count(encounter_id)|\n",
      "+------------+-------------------+\n",
      "|    65749638|                  1|\n",
      "|   159680754|                  1|\n",
      "|   169508502|                  1|\n",
      "|   175075134|                  1|\n",
      "|   243915276|                  1|\n",
      "|    49036482|                  1|\n",
      "|    63181908|                  1|\n",
      "|   148842660|                  1|\n",
      "|    73447620|                  1|\n",
      "|    62885088|                  1|\n",
      "+------------+-------------------+\n",
      "only showing top 10 rows\n",
      "\n"
     ]
    }
   ],
   "source": [
    "spark.sql(\"Select encounter_id,count(encounter_id) from temp group by encounter_id order by count(encounter_id) desc\").show(10)\n",
    "\n",
    "\n"
   ]
  },
  {
   "cell_type": "code",
   "execution_count": 73,
   "metadata": {},
   "outputs": [],
   "source": [
    "backup_final = df_spark_final"
   ]
  },
  {
   "cell_type": "markdown",
   "metadata": {},
   "source": [
    "## Correlation Testing"
   ]
  },
  {
   "cell_type": "markdown",
   "metadata": {},
   "source": [
    "### None of the admission_type are significantly correlated"
   ]
  },
  {
   "cell_type": "code",
   "execution_count": 74,
   "metadata": {},
   "outputs": [
    {
     "data": {
      "text/html": [
       "<div>\n",
       "<style scoped>\n",
       "    .dataframe tbody tr th:only-of-type {\n",
       "        vertical-align: middle;\n",
       "    }\n",
       "\n",
       "    .dataframe tbody tr th {\n",
       "        vertical-align: top;\n",
       "    }\n",
       "\n",
       "    .dataframe thead th {\n",
       "        text-align: right;\n",
       "    }\n",
       "</style>\n",
       "<table border=\"1\" class=\"dataframe\">\n",
       "  <thead>\n",
       "    <tr style=\"text-align: right;\">\n",
       "      <th></th>\n",
       "      <th>admission_type_emergency</th>\n",
       "      <th>admission_type_urgent</th>\n",
       "      <th>admission_type_elective</th>\n",
       "      <th>admission_type_trauma</th>\n",
       "      <th>readmitted</th>\n",
       "    </tr>\n",
       "  </thead>\n",
       "  <tbody>\n",
       "    <tr>\n",
       "      <th>admission_type_emergency</th>\n",
       "      <td>1.000000</td>\n",
       "      <td>-0.585433</td>\n",
       "      <td>-0.624857</td>\n",
       "      <td>-0.021296</td>\n",
       "      <td>0.029156</td>\n",
       "    </tr>\n",
       "    <tr>\n",
       "      <th>admission_type_urgent</th>\n",
       "      <td>-0.585433</td>\n",
       "      <td>1.000000</td>\n",
       "      <td>-0.265711</td>\n",
       "      <td>-0.009056</td>\n",
       "      <td>0.013851</td>\n",
       "    </tr>\n",
       "    <tr>\n",
       "      <th>admission_type_elective</th>\n",
       "      <td>-0.624857</td>\n",
       "      <td>-0.265711</td>\n",
       "      <td>1.000000</td>\n",
       "      <td>-0.009665</td>\n",
       "      <td>-0.047336</td>\n",
       "    </tr>\n",
       "    <tr>\n",
       "      <th>admission_type_trauma</th>\n",
       "      <td>-0.021296</td>\n",
       "      <td>-0.009056</td>\n",
       "      <td>-0.009665</td>\n",
       "      <td>1.000000</td>\n",
       "      <td>-0.014781</td>\n",
       "    </tr>\n",
       "    <tr>\n",
       "      <th>readmitted</th>\n",
       "      <td>0.029156</td>\n",
       "      <td>0.013851</td>\n",
       "      <td>-0.047336</td>\n",
       "      <td>-0.014781</td>\n",
       "      <td>1.000000</td>\n",
       "    </tr>\n",
       "  </tbody>\n",
       "</table>\n",
       "</div>"
      ],
      "text/plain": [
       "                          admission_type_emergency  admission_type_urgent  \\\n",
       "admission_type_emergency                  1.000000              -0.585433   \n",
       "admission_type_urgent                    -0.585433               1.000000   \n",
       "admission_type_elective                  -0.624857              -0.265711   \n",
       "admission_type_trauma                    -0.021296              -0.009056   \n",
       "readmitted                                0.029156               0.013851   \n",
       "\n",
       "                          admission_type_elective  admission_type_trauma  \\\n",
       "admission_type_emergency                -0.624857              -0.021296   \n",
       "admission_type_urgent                   -0.265711              -0.009056   \n",
       "admission_type_elective                  1.000000              -0.009665   \n",
       "admission_type_trauma                   -0.009665               1.000000   \n",
       "readmitted                              -0.047336              -0.014781   \n",
       "\n",
       "                          readmitted  \n",
       "admission_type_emergency    0.029156  \n",
       "admission_type_urgent       0.013851  \n",
       "admission_type_elective    -0.047336  \n",
       "admission_type_trauma      -0.014781  \n",
       "readmitted                  1.000000  "
      ]
     },
     "execution_count": 74,
     "metadata": {},
     "output_type": "execute_result"
    }
   ],
   "source": [
    "df_spark_final.select('admission_type_emergency','admission_type_urgent','admission_type_elective',\n",
    "                      'admission_type_trauma','readmitted').toPandas().corr()"
   ]
  },
  {
   "cell_type": "markdown",
   "metadata": {},
   "source": [
    "### Only dd_hhs and dd_expired are highly correlated"
   ]
  },
  {
   "cell_type": "code",
   "execution_count": 75,
   "metadata": {},
   "outputs": [
    {
     "data": {
      "text/html": [
       "<div>\n",
       "<style scoped>\n",
       "    .dataframe tbody tr th:only-of-type {\n",
       "        vertical-align: middle;\n",
       "    }\n",
       "\n",
       "    .dataframe tbody tr th {\n",
       "        vertical-align: top;\n",
       "    }\n",
       "\n",
       "    .dataframe thead th {\n",
       "        text-align: right;\n",
       "    }\n",
       "</style>\n",
       "<table border=\"1\" class=\"dataframe\">\n",
       "  <thead>\n",
       "    <tr style=\"text-align: right;\">\n",
       "      <th></th>\n",
       "      <th>dd_home</th>\n",
       "      <th>dd_shortm_hos</th>\n",
       "      <th>dd_snf</th>\n",
       "      <th>dd_icf</th>\n",
       "      <th>dd_careInst</th>\n",
       "      <th>dd_hhs</th>\n",
       "      <th>dd_ama</th>\n",
       "      <th>dd_homeIvy</th>\n",
       "      <th>dd_admInp</th>\n",
       "      <th>dd_expired</th>\n",
       "      <th>dd_hospice</th>\n",
       "      <th>dd_medfac</th>\n",
       "      <th>dd_swingbed</th>\n",
       "      <th>dd_rehab</th>\n",
       "      <th>dd_long</th>\n",
       "      <th>dd_nursing</th>\n",
       "      <th>dd_federal</th>\n",
       "      <th>dd_psy</th>\n",
       "      <th>readmitted</th>\n",
       "    </tr>\n",
       "  </thead>\n",
       "  <tbody>\n",
       "    <tr>\n",
       "      <th>dd_home</th>\n",
       "      <td>1.000000</td>\n",
       "      <td>-0.189001</td>\n",
       "      <td>-0.477336</td>\n",
       "      <td>-0.117275</td>\n",
       "      <td>-0.146330</td>\n",
       "      <td>-0.467838</td>\n",
       "      <td>-0.098757</td>\n",
       "      <td>-0.040508</td>\n",
       "      <td>-0.013947</td>\n",
       "      <td>-0.162434</td>\n",
       "      <td>-0.081479</td>\n",
       "      <td>-0.068007</td>\n",
       "      <td>-0.033349</td>\n",
       "      <td>-0.196381</td>\n",
       "      <td>-0.079917</td>\n",
       "      <td>-0.026361</td>\n",
       "      <td>-0.009130</td>\n",
       "      <td>-0.041190</td>\n",
       "      <td>-0.026457</td>\n",
       "    </tr>\n",
       "    <tr>\n",
       "      <th>dd_shortm_hos</th>\n",
       "      <td>-0.189001</td>\n",
       "      <td>1.000000</td>\n",
       "      <td>-0.053462</td>\n",
       "      <td>-0.013135</td>\n",
       "      <td>-0.016389</td>\n",
       "      <td>-0.052398</td>\n",
       "      <td>-0.011061</td>\n",
       "      <td>-0.004537</td>\n",
       "      <td>-0.001562</td>\n",
       "      <td>-0.018193</td>\n",
       "      <td>-0.009126</td>\n",
       "      <td>-0.007617</td>\n",
       "      <td>-0.003735</td>\n",
       "      <td>-0.021995</td>\n",
       "      <td>-0.008951</td>\n",
       "      <td>-0.002952</td>\n",
       "      <td>-0.001023</td>\n",
       "      <td>-0.004613</td>\n",
       "      <td>0.011082</td>\n",
       "    </tr>\n",
       "    <tr>\n",
       "      <th>dd_snf</th>\n",
       "      <td>-0.477336</td>\n",
       "      <td>-0.053462</td>\n",
       "      <td>1.000000</td>\n",
       "      <td>-0.033173</td>\n",
       "      <td>-0.041392</td>\n",
       "      <td>-0.132335</td>\n",
       "      <td>-0.027935</td>\n",
       "      <td>-0.011458</td>\n",
       "      <td>-0.003945</td>\n",
       "      <td>-0.045947</td>\n",
       "      <td>-0.023047</td>\n",
       "      <td>-0.019237</td>\n",
       "      <td>-0.009433</td>\n",
       "      <td>-0.055549</td>\n",
       "      <td>-0.022606</td>\n",
       "      <td>-0.007457</td>\n",
       "      <td>-0.002583</td>\n",
       "      <td>-0.011651</td>\n",
       "      <td>0.033230</td>\n",
       "    </tr>\n",
       "    <tr>\n",
       "      <th>dd_icf</th>\n",
       "      <td>-0.117275</td>\n",
       "      <td>-0.013135</td>\n",
       "      <td>-0.033173</td>\n",
       "      <td>1.000000</td>\n",
       "      <td>-0.010169</td>\n",
       "      <td>-0.032513</td>\n",
       "      <td>-0.006863</td>\n",
       "      <td>-0.002815</td>\n",
       "      <td>-0.000969</td>\n",
       "      <td>-0.011289</td>\n",
       "      <td>-0.005662</td>\n",
       "      <td>-0.004726</td>\n",
       "      <td>-0.002318</td>\n",
       "      <td>-0.013648</td>\n",
       "      <td>-0.005554</td>\n",
       "      <td>-0.001832</td>\n",
       "      <td>-0.000635</td>\n",
       "      <td>-0.002863</td>\n",
       "      <td>0.004584</td>\n",
       "    </tr>\n",
       "    <tr>\n",
       "      <th>dd_careInst</th>\n",
       "      <td>-0.146330</td>\n",
       "      <td>-0.016389</td>\n",
       "      <td>-0.041392</td>\n",
       "      <td>-0.010169</td>\n",
       "      <td>1.000000</td>\n",
       "      <td>-0.040568</td>\n",
       "      <td>-0.008564</td>\n",
       "      <td>-0.003513</td>\n",
       "      <td>-0.001209</td>\n",
       "      <td>-0.014085</td>\n",
       "      <td>-0.007065</td>\n",
       "      <td>-0.005897</td>\n",
       "      <td>-0.002892</td>\n",
       "      <td>-0.017029</td>\n",
       "      <td>-0.006930</td>\n",
       "      <td>-0.002286</td>\n",
       "      <td>-0.000792</td>\n",
       "      <td>-0.003572</td>\n",
       "      <td>0.014069</td>\n",
       "    </tr>\n",
       "    <tr>\n",
       "      <th>dd_hhs</th>\n",
       "      <td>-0.467838</td>\n",
       "      <td>-0.052398</td>\n",
       "      <td>-0.132335</td>\n",
       "      <td>-0.032513</td>\n",
       "      <td>-0.040568</td>\n",
       "      <td>1.000000</td>\n",
       "      <td>-0.027379</td>\n",
       "      <td>-0.011230</td>\n",
       "      <td>-0.003867</td>\n",
       "      <td>-0.045033</td>\n",
       "      <td>-0.022589</td>\n",
       "      <td>-0.018854</td>\n",
       "      <td>-0.009245</td>\n",
       "      <td>-0.054444</td>\n",
       "      <td>-0.022156</td>\n",
       "      <td>-0.007308</td>\n",
       "      <td>-0.002531</td>\n",
       "      <td>-0.011419</td>\n",
       "      <td>0.050779</td>\n",
       "    </tr>\n",
       "    <tr>\n",
       "      <th>dd_ama</th>\n",
       "      <td>-0.098757</td>\n",
       "      <td>-0.011061</td>\n",
       "      <td>-0.027935</td>\n",
       "      <td>-0.006863</td>\n",
       "      <td>-0.008564</td>\n",
       "      <td>-0.027379</td>\n",
       "      <td>1.000000</td>\n",
       "      <td>-0.002371</td>\n",
       "      <td>-0.000816</td>\n",
       "      <td>-0.009506</td>\n",
       "      <td>-0.004768</td>\n",
       "      <td>-0.003980</td>\n",
       "      <td>-0.001952</td>\n",
       "      <td>-0.011493</td>\n",
       "      <td>-0.004677</td>\n",
       "      <td>-0.001543</td>\n",
       "      <td>-0.000534</td>\n",
       "      <td>-0.002411</td>\n",
       "      <td>-0.000520</td>\n",
       "    </tr>\n",
       "    <tr>\n",
       "      <th>dd_homeIvy</th>\n",
       "      <td>-0.040508</td>\n",
       "      <td>-0.004537</td>\n",
       "      <td>-0.011458</td>\n",
       "      <td>-0.002815</td>\n",
       "      <td>-0.003513</td>\n",
       "      <td>-0.011230</td>\n",
       "      <td>-0.002371</td>\n",
       "      <td>1.000000</td>\n",
       "      <td>-0.000335</td>\n",
       "      <td>-0.003899</td>\n",
       "      <td>-0.001956</td>\n",
       "      <td>-0.001632</td>\n",
       "      <td>-0.000801</td>\n",
       "      <td>-0.004714</td>\n",
       "      <td>-0.001918</td>\n",
       "      <td>-0.000633</td>\n",
       "      <td>-0.000219</td>\n",
       "      <td>-0.000989</td>\n",
       "      <td>0.002669</td>\n",
       "    </tr>\n",
       "    <tr>\n",
       "      <th>dd_admInp</th>\n",
       "      <td>-0.013947</td>\n",
       "      <td>-0.001562</td>\n",
       "      <td>-0.003945</td>\n",
       "      <td>-0.000969</td>\n",
       "      <td>-0.001209</td>\n",
       "      <td>-0.003867</td>\n",
       "      <td>-0.000816</td>\n",
       "      <td>-0.000335</td>\n",
       "      <td>1.000000</td>\n",
       "      <td>-0.001342</td>\n",
       "      <td>-0.000673</td>\n",
       "      <td>-0.000562</td>\n",
       "      <td>-0.000276</td>\n",
       "      <td>-0.001623</td>\n",
       "      <td>-0.000661</td>\n",
       "      <td>-0.000218</td>\n",
       "      <td>-0.000075</td>\n",
       "      <td>-0.000340</td>\n",
       "      <td>-0.002479</td>\n",
       "    </tr>\n",
       "    <tr>\n",
       "      <th>dd_expired</th>\n",
       "      <td>-0.162434</td>\n",
       "      <td>-0.018193</td>\n",
       "      <td>-0.045947</td>\n",
       "      <td>-0.011289</td>\n",
       "      <td>-0.014085</td>\n",
       "      <td>-0.045033</td>\n",
       "      <td>-0.009506</td>\n",
       "      <td>-0.003899</td>\n",
       "      <td>-0.001342</td>\n",
       "      <td>1.000000</td>\n",
       "      <td>-0.007843</td>\n",
       "      <td>-0.006546</td>\n",
       "      <td>-0.003210</td>\n",
       "      <td>-0.018903</td>\n",
       "      <td>-0.007693</td>\n",
       "      <td>-0.002537</td>\n",
       "      <td>-0.000879</td>\n",
       "      <td>-0.003965</td>\n",
       "      <td>-0.101834</td>\n",
       "    </tr>\n",
       "    <tr>\n",
       "      <th>dd_hospice</th>\n",
       "      <td>-0.081479</td>\n",
       "      <td>-0.009126</td>\n",
       "      <td>-0.023047</td>\n",
       "      <td>-0.005662</td>\n",
       "      <td>-0.007065</td>\n",
       "      <td>-0.022589</td>\n",
       "      <td>-0.004768</td>\n",
       "      <td>-0.001956</td>\n",
       "      <td>-0.000673</td>\n",
       "      <td>-0.007843</td>\n",
       "      <td>1.000000</td>\n",
       "      <td>-0.003284</td>\n",
       "      <td>-0.001610</td>\n",
       "      <td>-0.009482</td>\n",
       "      <td>-0.003859</td>\n",
       "      <td>-0.001273</td>\n",
       "      <td>-0.000441</td>\n",
       "      <td>-0.001989</td>\n",
       "      <td>-0.039778</td>\n",
       "    </tr>\n",
       "    <tr>\n",
       "      <th>dd_medfac</th>\n",
       "      <td>-0.068007</td>\n",
       "      <td>-0.007617</td>\n",
       "      <td>-0.019237</td>\n",
       "      <td>-0.004726</td>\n",
       "      <td>-0.005897</td>\n",
       "      <td>-0.018854</td>\n",
       "      <td>-0.003980</td>\n",
       "      <td>-0.001632</td>\n",
       "      <td>-0.000562</td>\n",
       "      <td>-0.006546</td>\n",
       "      <td>-0.003284</td>\n",
       "      <td>1.000000</td>\n",
       "      <td>-0.001344</td>\n",
       "      <td>-0.007914</td>\n",
       "      <td>-0.003221</td>\n",
       "      <td>-0.001062</td>\n",
       "      <td>-0.000368</td>\n",
       "      <td>-0.001660</td>\n",
       "      <td>-0.036194</td>\n",
       "    </tr>\n",
       "    <tr>\n",
       "      <th>dd_swingbed</th>\n",
       "      <td>-0.033349</td>\n",
       "      <td>-0.003735</td>\n",
       "      <td>-0.009433</td>\n",
       "      <td>-0.002318</td>\n",
       "      <td>-0.002892</td>\n",
       "      <td>-0.009245</td>\n",
       "      <td>-0.001952</td>\n",
       "      <td>-0.000801</td>\n",
       "      <td>-0.000276</td>\n",
       "      <td>-0.003210</td>\n",
       "      <td>-0.001610</td>\n",
       "      <td>-0.001344</td>\n",
       "      <td>1.000000</td>\n",
       "      <td>-0.003881</td>\n",
       "      <td>-0.001579</td>\n",
       "      <td>-0.000521</td>\n",
       "      <td>-0.000180</td>\n",
       "      <td>-0.000814</td>\n",
       "      <td>0.018415</td>\n",
       "    </tr>\n",
       "    <tr>\n",
       "      <th>dd_rehab</th>\n",
       "      <td>-0.196381</td>\n",
       "      <td>-0.021995</td>\n",
       "      <td>-0.055549</td>\n",
       "      <td>-0.013648</td>\n",
       "      <td>-0.017029</td>\n",
       "      <td>-0.054444</td>\n",
       "      <td>-0.011493</td>\n",
       "      <td>-0.004714</td>\n",
       "      <td>-0.001623</td>\n",
       "      <td>-0.018903</td>\n",
       "      <td>-0.009482</td>\n",
       "      <td>-0.007914</td>\n",
       "      <td>-0.003881</td>\n",
       "      <td>1.000000</td>\n",
       "      <td>-0.009300</td>\n",
       "      <td>-0.003068</td>\n",
       "      <td>-0.001063</td>\n",
       "      <td>-0.004793</td>\n",
       "      <td>0.031142</td>\n",
       "    </tr>\n",
       "    <tr>\n",
       "      <th>dd_long</th>\n",
       "      <td>-0.079917</td>\n",
       "      <td>-0.008951</td>\n",
       "      <td>-0.022606</td>\n",
       "      <td>-0.005554</td>\n",
       "      <td>-0.006930</td>\n",
       "      <td>-0.022156</td>\n",
       "      <td>-0.004677</td>\n",
       "      <td>-0.001918</td>\n",
       "      <td>-0.000661</td>\n",
       "      <td>-0.007693</td>\n",
       "      <td>-0.003859</td>\n",
       "      <td>-0.003221</td>\n",
       "      <td>-0.001579</td>\n",
       "      <td>-0.009300</td>\n",
       "      <td>1.000000</td>\n",
       "      <td>-0.001248</td>\n",
       "      <td>-0.000432</td>\n",
       "      <td>-0.001951</td>\n",
       "      <td>-0.008953</td>\n",
       "    </tr>\n",
       "    <tr>\n",
       "      <th>dd_nursing</th>\n",
       "      <td>-0.026361</td>\n",
       "      <td>-0.002952</td>\n",
       "      <td>-0.007457</td>\n",
       "      <td>-0.001832</td>\n",
       "      <td>-0.002286</td>\n",
       "      <td>-0.007308</td>\n",
       "      <td>-0.001543</td>\n",
       "      <td>-0.000633</td>\n",
       "      <td>-0.000218</td>\n",
       "      <td>-0.002537</td>\n",
       "      <td>-0.001273</td>\n",
       "      <td>-0.001062</td>\n",
       "      <td>-0.000521</td>\n",
       "      <td>-0.003068</td>\n",
       "      <td>-0.001248</td>\n",
       "      <td>1.000000</td>\n",
       "      <td>-0.000143</td>\n",
       "      <td>-0.000643</td>\n",
       "      <td>-0.008238</td>\n",
       "    </tr>\n",
       "    <tr>\n",
       "      <th>dd_federal</th>\n",
       "      <td>-0.009130</td>\n",
       "      <td>-0.001023</td>\n",
       "      <td>-0.002583</td>\n",
       "      <td>-0.000635</td>\n",
       "      <td>-0.000792</td>\n",
       "      <td>-0.002531</td>\n",
       "      <td>-0.000534</td>\n",
       "      <td>-0.000219</td>\n",
       "      <td>-0.000075</td>\n",
       "      <td>-0.000879</td>\n",
       "      <td>-0.000441</td>\n",
       "      <td>-0.000368</td>\n",
       "      <td>-0.000180</td>\n",
       "      <td>-0.001063</td>\n",
       "      <td>-0.000432</td>\n",
       "      <td>-0.000143</td>\n",
       "      <td>1.000000</td>\n",
       "      <td>-0.000223</td>\n",
       "      <td>-0.005724</td>\n",
       "    </tr>\n",
       "    <tr>\n",
       "      <th>dd_psy</th>\n",
       "      <td>-0.041190</td>\n",
       "      <td>-0.004613</td>\n",
       "      <td>-0.011651</td>\n",
       "      <td>-0.002863</td>\n",
       "      <td>-0.003572</td>\n",
       "      <td>-0.011419</td>\n",
       "      <td>-0.002411</td>\n",
       "      <td>-0.000989</td>\n",
       "      <td>-0.000340</td>\n",
       "      <td>-0.003965</td>\n",
       "      <td>-0.001989</td>\n",
       "      <td>-0.001660</td>\n",
       "      <td>-0.000814</td>\n",
       "      <td>-0.004793</td>\n",
       "      <td>-0.001951</td>\n",
       "      <td>-0.000643</td>\n",
       "      <td>-0.000223</td>\n",
       "      <td>1.000000</td>\n",
       "      <td>0.014517</td>\n",
       "    </tr>\n",
       "    <tr>\n",
       "      <th>readmitted</th>\n",
       "      <td>-0.026457</td>\n",
       "      <td>0.011082</td>\n",
       "      <td>0.033230</td>\n",
       "      <td>0.004584</td>\n",
       "      <td>0.014069</td>\n",
       "      <td>0.050779</td>\n",
       "      <td>-0.000520</td>\n",
       "      <td>0.002669</td>\n",
       "      <td>-0.002479</td>\n",
       "      <td>-0.101834</td>\n",
       "      <td>-0.039778</td>\n",
       "      <td>-0.036194</td>\n",
       "      <td>0.018415</td>\n",
       "      <td>0.031142</td>\n",
       "      <td>-0.008953</td>\n",
       "      <td>-0.008238</td>\n",
       "      <td>-0.005724</td>\n",
       "      <td>0.014517</td>\n",
       "      <td>1.000000</td>\n",
       "    </tr>\n",
       "  </tbody>\n",
       "</table>\n",
       "</div>"
      ],
      "text/plain": [
       "                dd_home  dd_shortm_hos    dd_snf    dd_icf  dd_careInst  \\\n",
       "dd_home        1.000000      -0.189001 -0.477336 -0.117275    -0.146330   \n",
       "dd_shortm_hos -0.189001       1.000000 -0.053462 -0.013135    -0.016389   \n",
       "dd_snf        -0.477336      -0.053462  1.000000 -0.033173    -0.041392   \n",
       "dd_icf        -0.117275      -0.013135 -0.033173  1.000000    -0.010169   \n",
       "dd_careInst   -0.146330      -0.016389 -0.041392 -0.010169     1.000000   \n",
       "dd_hhs        -0.467838      -0.052398 -0.132335 -0.032513    -0.040568   \n",
       "dd_ama        -0.098757      -0.011061 -0.027935 -0.006863    -0.008564   \n",
       "dd_homeIvy    -0.040508      -0.004537 -0.011458 -0.002815    -0.003513   \n",
       "dd_admInp     -0.013947      -0.001562 -0.003945 -0.000969    -0.001209   \n",
       "dd_expired    -0.162434      -0.018193 -0.045947 -0.011289    -0.014085   \n",
       "dd_hospice    -0.081479      -0.009126 -0.023047 -0.005662    -0.007065   \n",
       "dd_medfac     -0.068007      -0.007617 -0.019237 -0.004726    -0.005897   \n",
       "dd_swingbed   -0.033349      -0.003735 -0.009433 -0.002318    -0.002892   \n",
       "dd_rehab      -0.196381      -0.021995 -0.055549 -0.013648    -0.017029   \n",
       "dd_long       -0.079917      -0.008951 -0.022606 -0.005554    -0.006930   \n",
       "dd_nursing    -0.026361      -0.002952 -0.007457 -0.001832    -0.002286   \n",
       "dd_federal    -0.009130      -0.001023 -0.002583 -0.000635    -0.000792   \n",
       "dd_psy        -0.041190      -0.004613 -0.011651 -0.002863    -0.003572   \n",
       "readmitted    -0.026457       0.011082  0.033230  0.004584     0.014069   \n",
       "\n",
       "                 dd_hhs    dd_ama  dd_homeIvy  dd_admInp  dd_expired  \\\n",
       "dd_home       -0.467838 -0.098757   -0.040508  -0.013947   -0.162434   \n",
       "dd_shortm_hos -0.052398 -0.011061   -0.004537  -0.001562   -0.018193   \n",
       "dd_snf        -0.132335 -0.027935   -0.011458  -0.003945   -0.045947   \n",
       "dd_icf        -0.032513 -0.006863   -0.002815  -0.000969   -0.011289   \n",
       "dd_careInst   -0.040568 -0.008564   -0.003513  -0.001209   -0.014085   \n",
       "dd_hhs         1.000000 -0.027379   -0.011230  -0.003867   -0.045033   \n",
       "dd_ama        -0.027379  1.000000   -0.002371  -0.000816   -0.009506   \n",
       "dd_homeIvy    -0.011230 -0.002371    1.000000  -0.000335   -0.003899   \n",
       "dd_admInp     -0.003867 -0.000816   -0.000335   1.000000   -0.001342   \n",
       "dd_expired    -0.045033 -0.009506   -0.003899  -0.001342    1.000000   \n",
       "dd_hospice    -0.022589 -0.004768   -0.001956  -0.000673   -0.007843   \n",
       "dd_medfac     -0.018854 -0.003980   -0.001632  -0.000562   -0.006546   \n",
       "dd_swingbed   -0.009245 -0.001952   -0.000801  -0.000276   -0.003210   \n",
       "dd_rehab      -0.054444 -0.011493   -0.004714  -0.001623   -0.018903   \n",
       "dd_long       -0.022156 -0.004677   -0.001918  -0.000661   -0.007693   \n",
       "dd_nursing    -0.007308 -0.001543   -0.000633  -0.000218   -0.002537   \n",
       "dd_federal    -0.002531 -0.000534   -0.000219  -0.000075   -0.000879   \n",
       "dd_psy        -0.011419 -0.002411   -0.000989  -0.000340   -0.003965   \n",
       "readmitted     0.050779 -0.000520    0.002669  -0.002479   -0.101834   \n",
       "\n",
       "               dd_hospice  dd_medfac  dd_swingbed  dd_rehab   dd_long  \\\n",
       "dd_home         -0.081479  -0.068007    -0.033349 -0.196381 -0.079917   \n",
       "dd_shortm_hos   -0.009126  -0.007617    -0.003735 -0.021995 -0.008951   \n",
       "dd_snf          -0.023047  -0.019237    -0.009433 -0.055549 -0.022606   \n",
       "dd_icf          -0.005662  -0.004726    -0.002318 -0.013648 -0.005554   \n",
       "dd_careInst     -0.007065  -0.005897    -0.002892 -0.017029 -0.006930   \n",
       "dd_hhs          -0.022589  -0.018854    -0.009245 -0.054444 -0.022156   \n",
       "dd_ama          -0.004768  -0.003980    -0.001952 -0.011493 -0.004677   \n",
       "dd_homeIvy      -0.001956  -0.001632    -0.000801 -0.004714 -0.001918   \n",
       "dd_admInp       -0.000673  -0.000562    -0.000276 -0.001623 -0.000661   \n",
       "dd_expired      -0.007843  -0.006546    -0.003210 -0.018903 -0.007693   \n",
       "dd_hospice       1.000000  -0.003284    -0.001610 -0.009482 -0.003859   \n",
       "dd_medfac       -0.003284   1.000000    -0.001344 -0.007914 -0.003221   \n",
       "dd_swingbed     -0.001610  -0.001344     1.000000 -0.003881 -0.001579   \n",
       "dd_rehab        -0.009482  -0.007914    -0.003881  1.000000 -0.009300   \n",
       "dd_long         -0.003859  -0.003221    -0.001579 -0.009300  1.000000   \n",
       "dd_nursing      -0.001273  -0.001062    -0.000521 -0.003068 -0.001248   \n",
       "dd_federal      -0.000441  -0.000368    -0.000180 -0.001063 -0.000432   \n",
       "dd_psy          -0.001989  -0.001660    -0.000814 -0.004793 -0.001951   \n",
       "readmitted      -0.039778  -0.036194     0.018415  0.031142 -0.008953   \n",
       "\n",
       "               dd_nursing  dd_federal    dd_psy  readmitted  \n",
       "dd_home         -0.026361   -0.009130 -0.041190   -0.026457  \n",
       "dd_shortm_hos   -0.002952   -0.001023 -0.004613    0.011082  \n",
       "dd_snf          -0.007457   -0.002583 -0.011651    0.033230  \n",
       "dd_icf          -0.001832   -0.000635 -0.002863    0.004584  \n",
       "dd_careInst     -0.002286   -0.000792 -0.003572    0.014069  \n",
       "dd_hhs          -0.007308   -0.002531 -0.011419    0.050779  \n",
       "dd_ama          -0.001543   -0.000534 -0.002411   -0.000520  \n",
       "dd_homeIvy      -0.000633   -0.000219 -0.000989    0.002669  \n",
       "dd_admInp       -0.000218   -0.000075 -0.000340   -0.002479  \n",
       "dd_expired      -0.002537   -0.000879 -0.003965   -0.101834  \n",
       "dd_hospice      -0.001273   -0.000441 -0.001989   -0.039778  \n",
       "dd_medfac       -0.001062   -0.000368 -0.001660   -0.036194  \n",
       "dd_swingbed     -0.000521   -0.000180 -0.000814    0.018415  \n",
       "dd_rehab        -0.003068   -0.001063 -0.004793    0.031142  \n",
       "dd_long         -0.001248   -0.000432 -0.001951   -0.008953  \n",
       "dd_nursing       1.000000   -0.000143 -0.000643   -0.008238  \n",
       "dd_federal      -0.000143    1.000000 -0.000223   -0.005724  \n",
       "dd_psy          -0.000643   -0.000223  1.000000    0.014517  \n",
       "readmitted      -0.008238   -0.005724  0.014517    1.000000  "
      ]
     },
     "execution_count": 75,
     "metadata": {},
     "output_type": "execute_result"
    }
   ],
   "source": [
    "df_spark_final.select( 'dd_home','dd_shortm_hos', 'dd_snf', 'dd_icf','dd_careInst', 'dd_hhs','dd_ama',\n",
    " 'dd_homeIvy','dd_admInp','dd_expired','dd_hospice','dd_medfac','dd_swingbed','dd_rehab',\n",
    " 'dd_long','dd_nursing','dd_federal','dd_psy','readmitted').toPandas().corr()"
   ]
  },
  {
   "cell_type": "markdown",
   "metadata": {},
   "source": [
    "### Only admission_source_emergency is highly correlated"
   ]
  },
  {
   "cell_type": "code",
   "execution_count": 76,
   "metadata": {},
   "outputs": [
    {
     "data": {
      "text/html": [
       "<div>\n",
       "<style scoped>\n",
       "    .dataframe tbody tr th:only-of-type {\n",
       "        vertical-align: middle;\n",
       "    }\n",
       "\n",
       "    .dataframe tbody tr th {\n",
       "        vertical-align: top;\n",
       "    }\n",
       "\n",
       "    .dataframe thead th {\n",
       "        text-align: right;\n",
       "    }\n",
       "</style>\n",
       "<table border=\"1\" class=\"dataframe\">\n",
       "  <thead>\n",
       "    <tr style=\"text-align: right;\">\n",
       "      <th></th>\n",
       "      <th>admission_source_phyref</th>\n",
       "      <th>admission_source_cliref</th>\n",
       "      <th>admission_source_hmoref</th>\n",
       "      <th>admission_source_hos</th>\n",
       "      <th>admission_source_snf</th>\n",
       "      <th>admission_source_hlthcare</th>\n",
       "      <th>admission_source_emergency</th>\n",
       "      <th>admission_source_court</th>\n",
       "      <th>admission_source_critical</th>\n",
       "      <th>admission_source_normdel</th>\n",
       "      <th>admission_source_birth</th>\n",
       "      <th>admission_source_surgery</th>\n",
       "      <th>readmitted</th>\n",
       "    </tr>\n",
       "  </thead>\n",
       "  <tbody>\n",
       "    <tr>\n",
       "      <th>admission_source_phyref</th>\n",
       "      <td>1.000000</td>\n",
       "      <td>-0.080337</td>\n",
       "      <td>-0.031404</td>\n",
       "      <td>-0.136731</td>\n",
       "      <td>-0.063809</td>\n",
       "      <td>-0.108630</td>\n",
       "      <td>-0.826082</td>\n",
       "      <td>-0.008769</td>\n",
       "      <td>-0.006792</td>\n",
       "      <td>-0.002773</td>\n",
       "      <td>-0.003921</td>\n",
       "      <td>-0.003921</td>\n",
       "      <td>-0.028898</td>\n",
       "    </tr>\n",
       "    <tr>\n",
       "      <th>admission_source_cliref</th>\n",
       "      <td>-0.080337</td>\n",
       "      <td>1.000000</td>\n",
       "      <td>-0.005403</td>\n",
       "      <td>-0.023524</td>\n",
       "      <td>-0.010978</td>\n",
       "      <td>-0.018689</td>\n",
       "      <td>-0.142122</td>\n",
       "      <td>-0.001509</td>\n",
       "      <td>-0.001169</td>\n",
       "      <td>-0.000477</td>\n",
       "      <td>-0.000675</td>\n",
       "      <td>-0.000675</td>\n",
       "      <td>-0.013680</td>\n",
       "    </tr>\n",
       "    <tr>\n",
       "      <th>admission_source_hmoref</th>\n",
       "      <td>-0.031404</td>\n",
       "      <td>-0.005403</td>\n",
       "      <td>1.000000</td>\n",
       "      <td>-0.009195</td>\n",
       "      <td>-0.004291</td>\n",
       "      <td>-0.007306</td>\n",
       "      <td>-0.055556</td>\n",
       "      <td>-0.000590</td>\n",
       "      <td>-0.000457</td>\n",
       "      <td>-0.000186</td>\n",
       "      <td>-0.000264</td>\n",
       "      <td>-0.000264</td>\n",
       "      <td>0.002902</td>\n",
       "    </tr>\n",
       "    <tr>\n",
       "      <th>admission_source_hos</th>\n",
       "      <td>-0.136731</td>\n",
       "      <td>-0.023524</td>\n",
       "      <td>-0.009195</td>\n",
       "      <td>1.000000</td>\n",
       "      <td>-0.018684</td>\n",
       "      <td>-0.031808</td>\n",
       "      <td>-0.241886</td>\n",
       "      <td>-0.002568</td>\n",
       "      <td>-0.001989</td>\n",
       "      <td>-0.000812</td>\n",
       "      <td>-0.001148</td>\n",
       "      <td>-0.001148</td>\n",
       "      <td>-0.046198</td>\n",
       "    </tr>\n",
       "    <tr>\n",
       "      <th>admission_source_snf</th>\n",
       "      <td>-0.063809</td>\n",
       "      <td>-0.010978</td>\n",
       "      <td>-0.004291</td>\n",
       "      <td>-0.018684</td>\n",
       "      <td>1.000000</td>\n",
       "      <td>-0.014844</td>\n",
       "      <td>-0.112883</td>\n",
       "      <td>-0.001198</td>\n",
       "      <td>-0.000928</td>\n",
       "      <td>-0.000379</td>\n",
       "      <td>-0.000536</td>\n",
       "      <td>-0.000536</td>\n",
       "      <td>-0.007756</td>\n",
       "    </tr>\n",
       "    <tr>\n",
       "      <th>admission_source_hlthcare</th>\n",
       "      <td>-0.108630</td>\n",
       "      <td>-0.018689</td>\n",
       "      <td>-0.007306</td>\n",
       "      <td>-0.031808</td>\n",
       "      <td>-0.014844</td>\n",
       "      <td>1.000000</td>\n",
       "      <td>-0.192174</td>\n",
       "      <td>-0.002040</td>\n",
       "      <td>-0.001580</td>\n",
       "      <td>-0.000645</td>\n",
       "      <td>-0.000912</td>\n",
       "      <td>-0.000912</td>\n",
       "      <td>-0.045967</td>\n",
       "    </tr>\n",
       "    <tr>\n",
       "      <th>admission_source_emergency</th>\n",
       "      <td>-0.826082</td>\n",
       "      <td>-0.142122</td>\n",
       "      <td>-0.055556</td>\n",
       "      <td>-0.241886</td>\n",
       "      <td>-0.112883</td>\n",
       "      <td>-0.192174</td>\n",
       "      <td>1.000000</td>\n",
       "      <td>-0.015513</td>\n",
       "      <td>-0.012016</td>\n",
       "      <td>-0.004905</td>\n",
       "      <td>-0.006937</td>\n",
       "      <td>-0.006937</td>\n",
       "      <td>0.064874</td>\n",
       "    </tr>\n",
       "    <tr>\n",
       "      <th>admission_source_court</th>\n",
       "      <td>-0.008769</td>\n",
       "      <td>-0.001509</td>\n",
       "      <td>-0.000590</td>\n",
       "      <td>-0.002568</td>\n",
       "      <td>-0.001198</td>\n",
       "      <td>-0.002040</td>\n",
       "      <td>-0.015513</td>\n",
       "      <td>1.000000</td>\n",
       "      <td>-0.000128</td>\n",
       "      <td>-0.000052</td>\n",
       "      <td>-0.000074</td>\n",
       "      <td>-0.000074</td>\n",
       "      <td>-0.005209</td>\n",
       "    </tr>\n",
       "    <tr>\n",
       "      <th>admission_source_critical</th>\n",
       "      <td>-0.006792</td>\n",
       "      <td>-0.001169</td>\n",
       "      <td>-0.000457</td>\n",
       "      <td>-0.001989</td>\n",
       "      <td>-0.000928</td>\n",
       "      <td>-0.001580</td>\n",
       "      <td>-0.012016</td>\n",
       "      <td>-0.000128</td>\n",
       "      <td>1.000000</td>\n",
       "      <td>-0.000040</td>\n",
       "      <td>-0.000057</td>\n",
       "      <td>-0.000057</td>\n",
       "      <td>-0.001328</td>\n",
       "    </tr>\n",
       "    <tr>\n",
       "      <th>admission_source_normdel</th>\n",
       "      <td>-0.002773</td>\n",
       "      <td>-0.000477</td>\n",
       "      <td>-0.000186</td>\n",
       "      <td>-0.000812</td>\n",
       "      <td>-0.000379</td>\n",
       "      <td>-0.000645</td>\n",
       "      <td>-0.004905</td>\n",
       "      <td>-0.000052</td>\n",
       "      <td>-0.000040</td>\n",
       "      <td>1.000000</td>\n",
       "      <td>-0.000023</td>\n",
       "      <td>-0.000023</td>\n",
       "      <td>-0.003305</td>\n",
       "    </tr>\n",
       "    <tr>\n",
       "      <th>admission_source_birth</th>\n",
       "      <td>-0.003921</td>\n",
       "      <td>-0.000675</td>\n",
       "      <td>-0.000264</td>\n",
       "      <td>-0.001148</td>\n",
       "      <td>-0.000536</td>\n",
       "      <td>-0.000912</td>\n",
       "      <td>-0.006937</td>\n",
       "      <td>-0.000074</td>\n",
       "      <td>-0.000057</td>\n",
       "      <td>-0.000023</td>\n",
       "      <td>1.000000</td>\n",
       "      <td>-0.000033</td>\n",
       "      <td>-0.004673</td>\n",
       "    </tr>\n",
       "    <tr>\n",
       "      <th>admission_source_surgery</th>\n",
       "      <td>-0.003921</td>\n",
       "      <td>-0.000675</td>\n",
       "      <td>-0.000264</td>\n",
       "      <td>-0.001148</td>\n",
       "      <td>-0.000536</td>\n",
       "      <td>-0.000912</td>\n",
       "      <td>-0.006937</td>\n",
       "      <td>-0.000074</td>\n",
       "      <td>-0.000057</td>\n",
       "      <td>-0.000023</td>\n",
       "      <td>-0.000033</td>\n",
       "      <td>1.000000</td>\n",
       "      <td>-0.004673</td>\n",
       "    </tr>\n",
       "    <tr>\n",
       "      <th>readmitted</th>\n",
       "      <td>-0.028898</td>\n",
       "      <td>-0.013680</td>\n",
       "      <td>0.002902</td>\n",
       "      <td>-0.046198</td>\n",
       "      <td>-0.007756</td>\n",
       "      <td>-0.045967</td>\n",
       "      <td>0.064874</td>\n",
       "      <td>-0.005209</td>\n",
       "      <td>-0.001328</td>\n",
       "      <td>-0.003305</td>\n",
       "      <td>-0.004673</td>\n",
       "      <td>-0.004673</td>\n",
       "      <td>1.000000</td>\n",
       "    </tr>\n",
       "  </tbody>\n",
       "</table>\n",
       "</div>"
      ],
      "text/plain": [
       "                            admission_source_phyref  admission_source_cliref  \\\n",
       "admission_source_phyref                    1.000000                -0.080337   \n",
       "admission_source_cliref                   -0.080337                 1.000000   \n",
       "admission_source_hmoref                   -0.031404                -0.005403   \n",
       "admission_source_hos                      -0.136731                -0.023524   \n",
       "admission_source_snf                      -0.063809                -0.010978   \n",
       "admission_source_hlthcare                 -0.108630                -0.018689   \n",
       "admission_source_emergency                -0.826082                -0.142122   \n",
       "admission_source_court                    -0.008769                -0.001509   \n",
       "admission_source_critical                 -0.006792                -0.001169   \n",
       "admission_source_normdel                  -0.002773                -0.000477   \n",
       "admission_source_birth                    -0.003921                -0.000675   \n",
       "admission_source_surgery                  -0.003921                -0.000675   \n",
       "readmitted                                -0.028898                -0.013680   \n",
       "\n",
       "                            admission_source_hmoref  admission_source_hos  \\\n",
       "admission_source_phyref                   -0.031404             -0.136731   \n",
       "admission_source_cliref                   -0.005403             -0.023524   \n",
       "admission_source_hmoref                    1.000000             -0.009195   \n",
       "admission_source_hos                      -0.009195              1.000000   \n",
       "admission_source_snf                      -0.004291             -0.018684   \n",
       "admission_source_hlthcare                 -0.007306             -0.031808   \n",
       "admission_source_emergency                -0.055556             -0.241886   \n",
       "admission_source_court                    -0.000590             -0.002568   \n",
       "admission_source_critical                 -0.000457             -0.001989   \n",
       "admission_source_normdel                  -0.000186             -0.000812   \n",
       "admission_source_birth                    -0.000264             -0.001148   \n",
       "admission_source_surgery                  -0.000264             -0.001148   \n",
       "readmitted                                 0.002902             -0.046198   \n",
       "\n",
       "                            admission_source_snf  admission_source_hlthcare  \\\n",
       "admission_source_phyref                -0.063809                  -0.108630   \n",
       "admission_source_cliref                -0.010978                  -0.018689   \n",
       "admission_source_hmoref                -0.004291                  -0.007306   \n",
       "admission_source_hos                   -0.018684                  -0.031808   \n",
       "admission_source_snf                    1.000000                  -0.014844   \n",
       "admission_source_hlthcare              -0.014844                   1.000000   \n",
       "admission_source_emergency             -0.112883                  -0.192174   \n",
       "admission_source_court                 -0.001198                  -0.002040   \n",
       "admission_source_critical              -0.000928                  -0.001580   \n",
       "admission_source_normdel               -0.000379                  -0.000645   \n",
       "admission_source_birth                 -0.000536                  -0.000912   \n",
       "admission_source_surgery               -0.000536                  -0.000912   \n",
       "readmitted                             -0.007756                  -0.045967   \n",
       "\n",
       "                            admission_source_emergency  \\\n",
       "admission_source_phyref                      -0.826082   \n",
       "admission_source_cliref                      -0.142122   \n",
       "admission_source_hmoref                      -0.055556   \n",
       "admission_source_hos                         -0.241886   \n",
       "admission_source_snf                         -0.112883   \n",
       "admission_source_hlthcare                    -0.192174   \n",
       "admission_source_emergency                    1.000000   \n",
       "admission_source_court                       -0.015513   \n",
       "admission_source_critical                    -0.012016   \n",
       "admission_source_normdel                     -0.004905   \n",
       "admission_source_birth                       -0.006937   \n",
       "admission_source_surgery                     -0.006937   \n",
       "readmitted                                    0.064874   \n",
       "\n",
       "                            admission_source_court  admission_source_critical  \\\n",
       "admission_source_phyref                  -0.008769                  -0.006792   \n",
       "admission_source_cliref                  -0.001509                  -0.001169   \n",
       "admission_source_hmoref                  -0.000590                  -0.000457   \n",
       "admission_source_hos                     -0.002568                  -0.001989   \n",
       "admission_source_snf                     -0.001198                  -0.000928   \n",
       "admission_source_hlthcare                -0.002040                  -0.001580   \n",
       "admission_source_emergency               -0.015513                  -0.012016   \n",
       "admission_source_court                    1.000000                  -0.000128   \n",
       "admission_source_critical                -0.000128                   1.000000   \n",
       "admission_source_normdel                 -0.000052                  -0.000040   \n",
       "admission_source_birth                   -0.000074                  -0.000057   \n",
       "admission_source_surgery                 -0.000074                  -0.000057   \n",
       "readmitted                               -0.005209                  -0.001328   \n",
       "\n",
       "                            admission_source_normdel  admission_source_birth  \\\n",
       "admission_source_phyref                    -0.002773               -0.003921   \n",
       "admission_source_cliref                    -0.000477               -0.000675   \n",
       "admission_source_hmoref                    -0.000186               -0.000264   \n",
       "admission_source_hos                       -0.000812               -0.001148   \n",
       "admission_source_snf                       -0.000379               -0.000536   \n",
       "admission_source_hlthcare                  -0.000645               -0.000912   \n",
       "admission_source_emergency                 -0.004905               -0.006937   \n",
       "admission_source_court                     -0.000052               -0.000074   \n",
       "admission_source_critical                  -0.000040               -0.000057   \n",
       "admission_source_normdel                    1.000000               -0.000023   \n",
       "admission_source_birth                     -0.000023                1.000000   \n",
       "admission_source_surgery                   -0.000023               -0.000033   \n",
       "readmitted                                 -0.003305               -0.004673   \n",
       "\n",
       "                            admission_source_surgery  readmitted  \n",
       "admission_source_phyref                    -0.003921   -0.028898  \n",
       "admission_source_cliref                    -0.000675   -0.013680  \n",
       "admission_source_hmoref                    -0.000264    0.002902  \n",
       "admission_source_hos                       -0.001148   -0.046198  \n",
       "admission_source_snf                       -0.000536   -0.007756  \n",
       "admission_source_hlthcare                  -0.000912   -0.045967  \n",
       "admission_source_emergency                 -0.006937    0.064874  \n",
       "admission_source_court                     -0.000074   -0.005209  \n",
       "admission_source_critical                  -0.000057   -0.001328  \n",
       "admission_source_normdel                   -0.000023   -0.003305  \n",
       "admission_source_birth                     -0.000033   -0.004673  \n",
       "admission_source_surgery                    1.000000   -0.004673  \n",
       "readmitted                                 -0.004673    1.000000  "
      ]
     },
     "execution_count": 76,
     "metadata": {},
     "output_type": "execute_result"
    }
   ],
   "source": [
    "df_spark_final.select( 'admission_source_phyref','admission_source_cliref',\n",
    " 'admission_source_hmoref','admission_source_hos','admission_source_snf',\n",
    " 'admission_source_hlthcare','admission_source_emergency', 'admission_source_court', 'admission_source_critical',\n",
    " 'admission_source_normdel', 'admission_source_birth', 'admission_source_surgery','readmitted').toPandas().corr()"
   ]
  },
  {
   "cell_type": "code",
   "execution_count": 78,
   "metadata": {},
   "outputs": [],
   "source": [
    "# # indexer_max_glu_serum = [StringIndexer(inputCol='max_glu_serum', outputCol=\"max_glu_serum_index\").fit(df_spark_final)]\n",
    "\n",
    "# # pipeline = Pipeline(stages=indexer_max_glu_serum)\n",
    "# # df_spark_final = pipeline.fit(df_spark_final).transform(df_spark_final)\n",
    "# df_spark_final.select('max_glu_serum_index','readmitted').toPandas().corr()"
   ]
  },
  {
   "cell_type": "markdown",
   "metadata": {},
   "source": [
    "### diabetesMed is highly correlated with readmitted"
   ]
  },
  {
   "cell_type": "code",
   "execution_count": 79,
   "metadata": {},
   "outputs": [
    {
     "data": {
      "text/html": [
       "<div>\n",
       "<style scoped>\n",
       "    .dataframe tbody tr th:only-of-type {\n",
       "        vertical-align: middle;\n",
       "    }\n",
       "\n",
       "    .dataframe tbody tr th {\n",
       "        vertical-align: top;\n",
       "    }\n",
       "\n",
       "    .dataframe thead th {\n",
       "        text-align: right;\n",
       "    }\n",
       "</style>\n",
       "<table border=\"1\" class=\"dataframe\">\n",
       "  <thead>\n",
       "    <tr style=\"text-align: right;\">\n",
       "      <th></th>\n",
       "      <th>change</th>\n",
       "      <th>diabetesMed</th>\n",
       "      <th>readmitted</th>\n",
       "    </tr>\n",
       "  </thead>\n",
       "  <tbody>\n",
       "    <tr>\n",
       "      <th>change</th>\n",
       "      <td>1.000000</td>\n",
       "      <td>0.508864</td>\n",
       "      <td>0.040647</td>\n",
       "    </tr>\n",
       "    <tr>\n",
       "      <th>diabetesMed</th>\n",
       "      <td>0.508864</td>\n",
       "      <td>1.000000</td>\n",
       "      <td>0.064764</td>\n",
       "    </tr>\n",
       "    <tr>\n",
       "      <th>readmitted</th>\n",
       "      <td>0.040647</td>\n",
       "      <td>0.064764</td>\n",
       "      <td>1.000000</td>\n",
       "    </tr>\n",
       "  </tbody>\n",
       "</table>\n",
       "</div>"
      ],
      "text/plain": [
       "               change  diabetesMed  readmitted\n",
       "change       1.000000     0.508864    0.040647\n",
       "diabetesMed  0.508864     1.000000    0.064764\n",
       "readmitted   0.040647     0.064764    1.000000"
      ]
     },
     "execution_count": 79,
     "metadata": {},
     "output_type": "execute_result"
    }
   ],
   "source": [
    "df_spark_final.select('change','diabetesMed','readmitted').toPandas().corr()"
   ]
  },
  {
   "cell_type": "code",
   "execution_count": 80,
   "metadata": {},
   "outputs": [
    {
     "data": {
      "text/html": [
       "<div>\n",
       "<style scoped>\n",
       "    .dataframe tbody tr th:only-of-type {\n",
       "        vertical-align: middle;\n",
       "    }\n",
       "\n",
       "    .dataframe tbody tr th {\n",
       "        vertical-align: top;\n",
       "    }\n",
       "\n",
       "    .dataframe thead th {\n",
       "        text-align: right;\n",
       "    }\n",
       "</style>\n",
       "<table border=\"1\" class=\"dataframe\">\n",
       "  <thead>\n",
       "    <tr style=\"text-align: right;\">\n",
       "      <th></th>\n",
       "      <th>age</th>\n",
       "      <th>readmitted</th>\n",
       "    </tr>\n",
       "  </thead>\n",
       "  <tbody>\n",
       "    <tr>\n",
       "      <th>age</th>\n",
       "      <td>1.000000</td>\n",
       "      <td>0.058053</td>\n",
       "    </tr>\n",
       "    <tr>\n",
       "      <th>readmitted</th>\n",
       "      <td>0.058053</td>\n",
       "      <td>1.000000</td>\n",
       "    </tr>\n",
       "  </tbody>\n",
       "</table>\n",
       "</div>"
      ],
      "text/plain": [
       "                 age  readmitted\n",
       "age         1.000000    0.058053\n",
       "readmitted  0.058053    1.000000"
      ]
     },
     "execution_count": 80,
     "metadata": {},
     "output_type": "execute_result"
    }
   ],
   "source": [
    "df_spark_final.select('age','readmitted').toPandas().corr()"
   ]
  },
  {
   "cell_type": "markdown",
   "metadata": {},
   "source": [
    "### Checking numerical variables distribution"
   ]
  },
  {
   "cell_type": "code",
   "execution_count": 81,
   "metadata": {},
   "outputs": [],
   "source": [
    "df_spark_final.createOrReplaceTempView(\"temp\")"
   ]
  },
  {
   "cell_type": "code",
   "execution_count": 82,
   "metadata": {},
   "outputs": [
    {
     "name": "stdout",
     "output_type": "stream",
     "text": [
      "+---+----------+\n",
      "|age|count(age)|\n",
      "+---+----------+\n",
      "| 10|        59|\n",
      "| 20|       331|\n",
      "| 30|       938|\n",
      "| 40|      2235|\n",
      "| 50|      5750|\n",
      "| 60|     10686|\n",
      "| 70|     13778|\n",
      "| 80|     15445|\n",
      "| 90|      9906|\n",
      "|100|      1607|\n",
      "+---+----------+\n",
      "\n"
     ]
    }
   ],
   "source": [
    "spark.sql(\"Select age, count(age) from temp group by age order by age\").show()"
   ]
  },
  {
   "cell_type": "code",
   "execution_count": 83,
   "metadata": {
    "scrolled": false
   },
   "outputs": [
    {
     "data": {
      "text/plain": [
       "<matplotlib.axes._subplots.AxesSubplot at 0x7f2a944820f0>"
      ]
     },
     "execution_count": 83,
     "metadata": {},
     "output_type": "execute_result"
    },
    {
     "data": {
      "image/png": "[encoded data removed]",
      "text/plain": [
       "<Figure size 432x288 with 1 Axes>"
      ]
     },
     "metadata": {},
     "output_type": "display_data"
    }
   ],
   "source": [
    "df_spark_final = df_spark_final.withColumn('age_bucket',fn.when(fn.col('age')<=40,1).otherwise(df_spark_final.age))\n",
    "df_spark_final = df_spark_final.withColumn('age_bucket',fn.when(fn.col('age_bucket')>80,3).otherwise(df_spark_final.age_bucket))\n",
    "df_spark_final = df_spark_final.withColumn('age_bucket',fn.when((fn.col('age_bucket')>40) & (fn.col('age_bucket')<=80),2).otherwise(df_spark_final.age_bucket))\n",
    "\n",
    "df_spark_final.select('age_bucket').toPandas().age_bucket.hist()"
   ]
  },
  {
   "cell_type": "code",
   "execution_count": 84,
   "metadata": {},
   "outputs": [
    {
     "data": {
      "text/html": [
       "<div>\n",
       "<style scoped>\n",
       "    .dataframe tbody tr th:only-of-type {\n",
       "        vertical-align: middle;\n",
       "    }\n",
       "\n",
       "    .dataframe tbody tr th {\n",
       "        vertical-align: top;\n",
       "    }\n",
       "\n",
       "    .dataframe thead th {\n",
       "        text-align: right;\n",
       "    }\n",
       "</style>\n",
       "<table border=\"1\" class=\"dataframe\">\n",
       "  <thead>\n",
       "    <tr style=\"text-align: right;\">\n",
       "      <th></th>\n",
       "      <th>age</th>\n",
       "      <th>age_bucket</th>\n",
       "      <th>readmitted</th>\n",
       "    </tr>\n",
       "  </thead>\n",
       "  <tbody>\n",
       "    <tr>\n",
       "      <th>age</th>\n",
       "      <td>1.000000</td>\n",
       "      <td>0.797719</td>\n",
       "      <td>0.058053</td>\n",
       "    </tr>\n",
       "    <tr>\n",
       "      <th>age_bucket</th>\n",
       "      <td>0.797719</td>\n",
       "      <td>1.000000</td>\n",
       "      <td>0.038740</td>\n",
       "    </tr>\n",
       "    <tr>\n",
       "      <th>readmitted</th>\n",
       "      <td>0.058053</td>\n",
       "      <td>0.038740</td>\n",
       "      <td>1.000000</td>\n",
       "    </tr>\n",
       "  </tbody>\n",
       "</table>\n",
       "</div>"
      ],
      "text/plain": [
       "                 age  age_bucket  readmitted\n",
       "age         1.000000    0.797719    0.058053\n",
       "age_bucket  0.797719    1.000000    0.038740\n",
       "readmitted  0.058053    0.038740    1.000000"
      ]
     },
     "execution_count": 84,
     "metadata": {},
     "output_type": "execute_result"
    }
   ],
   "source": [
    "df_spark_final.select('age','age_bucket','readmitted').toPandas().corr()"
   ]
  },
  {
   "cell_type": "code",
   "execution_count": 85,
   "metadata": {},
   "outputs": [
    {
     "data": {
      "text/plain": [
       "<matplotlib.axes._subplots.AxesSubplot at 0x7f2a94c21198>"
      ]
     },
     "execution_count": 85,
     "metadata": {},
     "output_type": "execute_result"
    },
    {
     "data": {
      "image/png": "[encoded data removed]",
      "text/plain": [
       "<Figure size 432x288 with 1 Axes>"
      ]
     },
     "metadata": {},
     "output_type": "display_data"
    }
   ],
   "source": [
    "df_spark_final = df_spark_final.withColumn('total_visits_bucket',fn.when(fn.col('total_visits')<5,1).otherwise(df_spark_final.total_visits))\n",
    "df_spark_final = df_spark_final.withColumn('total_visits_bucket',fn.when(fn.col('total_visits_bucket')>20,3).otherwise(df_spark_final.total_visits_bucket))\n",
    "df_spark_final = df_spark_final.withColumn('total_visits_bucket',fn.when((fn.col('total_visits_bucket')>=5) & (fn.col('total_visits_bucket')<=20),2).otherwise(df_spark_final.total_visits_bucket))\n",
    "\n",
    "df_spark_final.select('total_visits_bucket').toPandas().total_visits_bucket.hist()\n"
   ]
  },
  {
   "cell_type": "code",
   "execution_count": 86,
   "metadata": {},
   "outputs": [
    {
     "data": {
      "text/html": [
       "<div>\n",
       "<style scoped>\n",
       "    .dataframe tbody tr th:only-of-type {\n",
       "        vertical-align: middle;\n",
       "    }\n",
       "\n",
       "    .dataframe tbody tr th {\n",
       "        vertical-align: top;\n",
       "    }\n",
       "\n",
       "    .dataframe thead th {\n",
       "        text-align: right;\n",
       "    }\n",
       "</style>\n",
       "<table border=\"1\" class=\"dataframe\">\n",
       "  <thead>\n",
       "    <tr style=\"text-align: right;\">\n",
       "      <th></th>\n",
       "      <th>total_visits</th>\n",
       "      <th>total_visits_bucket</th>\n",
       "      <th>total_visits_log</th>\n",
       "      <th>total_visits_sqrt</th>\n",
       "      <th>readmitted</th>\n",
       "    </tr>\n",
       "  </thead>\n",
       "  <tbody>\n",
       "    <tr>\n",
       "      <th>total_visits</th>\n",
       "      <td>1.000000</td>\n",
       "      <td>0.720493</td>\n",
       "      <td>0.756807</td>\n",
       "      <td>0.898427</td>\n",
       "      <td>0.126194</td>\n",
       "    </tr>\n",
       "    <tr>\n",
       "      <th>total_visits_bucket</th>\n",
       "      <td>0.720493</td>\n",
       "      <td>1.000000</td>\n",
       "      <td>0.331993</td>\n",
       "      <td>0.511074</td>\n",
       "      <td>0.062766</td>\n",
       "    </tr>\n",
       "    <tr>\n",
       "      <th>total_visits_log</th>\n",
       "      <td>0.756807</td>\n",
       "      <td>0.331993</td>\n",
       "      <td>1.000000</td>\n",
       "      <td>0.963438</td>\n",
       "      <td>0.152365</td>\n",
       "    </tr>\n",
       "    <tr>\n",
       "      <th>total_visits_sqrt</th>\n",
       "      <td>0.898427</td>\n",
       "      <td>0.511074</td>\n",
       "      <td>0.963438</td>\n",
       "      <td>1.000000</td>\n",
       "      <td>0.151869</td>\n",
       "    </tr>\n",
       "    <tr>\n",
       "      <th>readmitted</th>\n",
       "      <td>0.126194</td>\n",
       "      <td>0.062766</td>\n",
       "      <td>0.152365</td>\n",
       "      <td>0.151869</td>\n",
       "      <td>1.000000</td>\n",
       "    </tr>\n",
       "  </tbody>\n",
       "</table>\n",
       "</div>"
      ],
      "text/plain": [
       "                     total_visits  total_visits_bucket  total_visits_log  \\\n",
       "total_visits             1.000000             0.720493          0.756807   \n",
       "total_visits_bucket      0.720493             1.000000          0.331993   \n",
       "total_visits_log         0.756807             0.331993          1.000000   \n",
       "total_visits_sqrt        0.898427             0.511074          0.963438   \n",
       "readmitted               0.126194             0.062766          0.152365   \n",
       "\n",
       "                     total_visits_sqrt  readmitted  \n",
       "total_visits                  0.898427    0.126194  \n",
       "total_visits_bucket           0.511074    0.062766  \n",
       "total_visits_log              0.963438    0.152365  \n",
       "total_visits_sqrt             1.000000    0.151869  \n",
       "readmitted                    0.151869    1.000000  "
      ]
     },
     "execution_count": 86,
     "metadata": {},
     "output_type": "execute_result"
    }
   ],
   "source": [
    "df_spark_final.select('total_visits','total_visits_bucket','total_visits_log','total_visits_sqrt','readmitted').toPandas().corr()"
   ]
  },
  {
   "cell_type": "code",
   "execution_count": 87,
   "metadata": {},
   "outputs": [],
   "source": [
    "df_spark_final = df_spark_final.withColumn('time_in_hospital_log',fn.round(fn.log(fn.col('time_in_hospital')+0.01),2))\n",
    "df_spark_final = df_spark_final.withColumn('num_procedures_log',fn.round(fn.log(fn.col('num_procedures')+0.01),2))\n"
   ]
  },
  {
   "cell_type": "code",
   "execution_count": 88,
   "metadata": {},
   "outputs": [
    {
     "data": {
      "text/html": [
       "<div>\n",
       "<style scoped>\n",
       "    .dataframe tbody tr th:only-of-type {\n",
       "        vertical-align: middle;\n",
       "    }\n",
       "\n",
       "    .dataframe tbody tr th {\n",
       "        vertical-align: top;\n",
       "    }\n",
       "\n",
       "    .dataframe thead th {\n",
       "        text-align: right;\n",
       "    }\n",
       "</style>\n",
       "<table border=\"1\" class=\"dataframe\">\n",
       "  <thead>\n",
       "    <tr style=\"text-align: right;\">\n",
       "      <th></th>\n",
       "      <th>total_visits_log</th>\n",
       "      <th>time_in_hospital_log</th>\n",
       "      <th>number_emergency_log</th>\n",
       "      <th>num_procedures_log</th>\n",
       "      <th>num_lab_procedures_log</th>\n",
       "      <th>num_medications_log</th>\n",
       "      <th>number_diagnoses</th>\n",
       "      <th>readmitted</th>\n",
       "    </tr>\n",
       "  </thead>\n",
       "  <tbody>\n",
       "    <tr>\n",
       "      <th>total_visits_log</th>\n",
       "      <td>1.000000</td>\n",
       "      <td>0.023855</td>\n",
       "      <td>0.191093</td>\n",
       "      <td>-0.021938</td>\n",
       "      <td>0.029233</td>\n",
       "      <td>0.063768</td>\n",
       "      <td>0.126473</td>\n",
       "      <td>0.152365</td>\n",
       "    </tr>\n",
       "    <tr>\n",
       "      <th>time_in_hospital_log</th>\n",
       "      <td>0.023855</td>\n",
       "      <td>1.000000</td>\n",
       "      <td>-0.003627</td>\n",
       "      <td>0.173800</td>\n",
       "      <td>0.250315</td>\n",
       "      <td>0.455073</td>\n",
       "      <td>0.249008</td>\n",
       "      <td>0.061952</td>\n",
       "    </tr>\n",
       "    <tr>\n",
       "      <th>number_emergency_log</th>\n",
       "      <td>0.191093</td>\n",
       "      <td>-0.003627</td>\n",
       "      <td>1.000000</td>\n",
       "      <td>-0.034472</td>\n",
       "      <td>0.019004</td>\n",
       "      <td>0.016358</td>\n",
       "      <td>0.063787</td>\n",
       "      <td>0.094342</td>\n",
       "    </tr>\n",
       "    <tr>\n",
       "      <th>num_procedures_log</th>\n",
       "      <td>-0.021938</td>\n",
       "      <td>0.173800</td>\n",
       "      <td>-0.034472</td>\n",
       "      <td>1.000000</td>\n",
       "      <td>-0.010507</td>\n",
       "      <td>0.348460</td>\n",
       "      <td>0.049456</td>\n",
       "      <td>-0.036523</td>\n",
       "    </tr>\n",
       "    <tr>\n",
       "      <th>num_lab_procedures_log</th>\n",
       "      <td>0.029233</td>\n",
       "      <td>0.250315</td>\n",
       "      <td>0.019004</td>\n",
       "      <td>-0.010507</td>\n",
       "      <td>1.000000</td>\n",
       "      <td>0.209743</td>\n",
       "      <td>0.100193</td>\n",
       "      <td>0.022031</td>\n",
       "    </tr>\n",
       "    <tr>\n",
       "      <th>num_medications_log</th>\n",
       "      <td>0.063768</td>\n",
       "      <td>0.455073</td>\n",
       "      <td>0.016358</td>\n",
       "      <td>0.348460</td>\n",
       "      <td>0.209743</td>\n",
       "      <td>1.000000</td>\n",
       "      <td>0.276383</td>\n",
       "      <td>0.051674</td>\n",
       "    </tr>\n",
       "    <tr>\n",
       "      <th>number_diagnoses</th>\n",
       "      <td>0.126473</td>\n",
       "      <td>0.249008</td>\n",
       "      <td>0.063787</td>\n",
       "      <td>0.049456</td>\n",
       "      <td>0.100193</td>\n",
       "      <td>0.276383</td>\n",
       "      <td>1.000000</td>\n",
       "      <td>0.105840</td>\n",
       "    </tr>\n",
       "    <tr>\n",
       "      <th>readmitted</th>\n",
       "      <td>0.152365</td>\n",
       "      <td>0.061952</td>\n",
       "      <td>0.094342</td>\n",
       "      <td>-0.036523</td>\n",
       "      <td>0.022031</td>\n",
       "      <td>0.051674</td>\n",
       "      <td>0.105840</td>\n",
       "      <td>1.000000</td>\n",
       "    </tr>\n",
       "  </tbody>\n",
       "</table>\n",
       "</div>"
      ],
      "text/plain": [
       "                        total_visits_log  time_in_hospital_log  \\\n",
       "total_visits_log                1.000000              0.023855   \n",
       "time_in_hospital_log            0.023855              1.000000   \n",
       "number_emergency_log            0.191093             -0.003627   \n",
       "num_procedures_log             -0.021938              0.173800   \n",
       "num_lab_procedures_log          0.029233              0.250315   \n",
       "num_medications_log             0.063768              0.455073   \n",
       "number_diagnoses                0.126473              0.249008   \n",
       "readmitted                      0.152365              0.061952   \n",
       "\n",
       "                        number_emergency_log  num_procedures_log  \\\n",
       "total_visits_log                    0.191093           -0.021938   \n",
       "time_in_hospital_log               -0.003627            0.173800   \n",
       "number_emergency_log                1.000000           -0.034472   \n",
       "num_procedures_log                 -0.034472            1.000000   \n",
       "num_lab_procedures_log              0.019004           -0.010507   \n",
       "num_medications_log                 0.016358            0.348460   \n",
       "number_diagnoses                    0.063787            0.049456   \n",
       "readmitted                          0.094342           -0.036523   \n",
       "\n",
       "                        num_lab_procedures_log  num_medications_log  \\\n",
       "total_visits_log                      0.029233             0.063768   \n",
       "time_in_hospital_log                  0.250315             0.455073   \n",
       "number_emergency_log                  0.019004             0.016358   \n",
       "num_procedures_log                   -0.010507             0.348460   \n",
       "num_lab_procedures_log                1.000000             0.209743   \n",
       "num_medications_log                   0.209743             1.000000   \n",
       "number_diagnoses                      0.100193             0.276383   \n",
       "readmitted                            0.022031             0.051674   \n",
       "\n",
       "                        number_diagnoses  readmitted  \n",
       "total_visits_log                0.126473    0.152365  \n",
       "time_in_hospital_log            0.249008    0.061952  \n",
       "number_emergency_log            0.063787    0.094342  \n",
       "num_procedures_log              0.049456   -0.036523  \n",
       "num_lab_procedures_log          0.100193    0.022031  \n",
       "num_medications_log             0.276383    0.051674  \n",
       "number_diagnoses                1.000000    0.105840  \n",
       "readmitted                      0.105840    1.000000  "
      ]
     },
     "execution_count": 88,
     "metadata": {},
     "output_type": "execute_result"
    }
   ],
   "source": [
    "df_spark_final.select('total_visits_log','time_in_hospital_log','number_emergency_log','num_procedures_log',\n",
    "                     'num_lab_procedures_log','num_medications_log','number_diagnoses','readmitted').toPandas().corr()"
   ]
  },
  {
   "cell_type": "code",
   "execution_count": 89,
   "metadata": {},
   "outputs": [],
   "source": [
    "backup_omkar = df_spark_final"
   ]
  },
  {
   "cell_type": "markdown",
   "metadata": {},
   "source": [
    "# PART 2 - Modeling"
   ]
  },
  {
   "cell_type": "markdown",
   "metadata": {},
   "source": [
    "## Splitting Data into Training, Validation and Testing"
   ]
  },
  {
   "cell_type": "code",
   "execution_count": 2,
   "metadata": {},
   "outputs": [],
   "source": [
    "#df_spark_final = spark.read.csv('new_final2_cleaned_df.csv',header=True)"
   ]
  },
  {
   "cell_type": "code",
   "execution_count": 90,
   "metadata": {
    "scrolled": true
   },
   "outputs": [
    {
     "name": "stdout",
     "output_type": "stream",
     "text": [
      "# points in training:  36502\n",
      "# points in validation:  18232\n",
      "# points in testing:  6001\n"
     ]
    }
   ],
   "source": [
    "training_df,validation_df,testing_df = df_spark_final.randomSplit([0.6, 0.3, 0.1], seed=0)\n",
    "print(\"# points in training: \", training_df.count())\n",
    "print(\"# points in validation: \", validation_df.count())\n",
    "print(\"# points in testing: \", testing_df.count())"
   ]
  },
  {
   "cell_type": "code",
   "execution_count": 91,
   "metadata": {},
   "outputs": [
    {
     "name": "stdout",
     "output_type": "stream",
     "text": [
      "+----------+-----------------+\n",
      "|readmitted|count(readmitted)|\n",
      "+----------+-----------------+\n",
      "|         1|            14549|\n",
      "|         0|            21953|\n",
      "+----------+-----------------+\n",
      "\n"
     ]
    }
   ],
   "source": [
    "# Checking if all the splits have equal proportion of readmitted patients\n",
    "training_df.groupBy('readmitted').agg(fn.count('readmitted')).show()"
   ]
  },
  {
   "cell_type": "markdown",
   "metadata": {},
   "source": [
    "## Logistic Regression without Cross Validation"
   ]
  },
  {
   "cell_type": "code",
   "execution_count": 92,
   "metadata": {},
   "outputs": [],
   "source": [
    "va = feature.VectorAssembler(inputCols=['time_in_hospital_log','number_emergency_log','total_visits_log','diabetesMed',\n",
    "                                        'num_medications_log','dd_hhs','admission_source_emergency','dd_expired','insulin_index',\n",
    "                                        'number_diagnoses','age'], outputCol='features')\n",
    "\n",
    "\n",
    "lr = classification.LogisticRegression(labelCol='readmitted')\n",
    "pipeline = Pipeline(stages=[va, lr])\n",
    "model1 = pipeline.fit(training_df)\n"
   ]
  },
  {
   "cell_type": "code",
   "execution_count": 93,
   "metadata": {},
   "outputs": [],
   "source": [
    "def binary_evaluation(model_pipeline,model_fitted,data):\n",
    "    return BinaryClassificationEvaluator(labelCol=model_pipeline.getStages()[-1].getLabelCol(),\n",
    "                                        rawPredictionCol=model_pipeline.getStages()[-1].getRawPredictionCol()).\\\n",
    "    evaluate(model_fitted.transform(data))"
   ]
  },
  {
   "cell_type": "code",
   "execution_count": 94,
   "metadata": {},
   "outputs": [
    {
     "data": {
      "text/plain": [
       "0.6309075513215597"
      ]
     },
     "execution_count": 94,
     "metadata": {},
     "output_type": "execute_result"
    }
   ],
   "source": [
    "binary_evaluation(pipeline,model1,validation_df)"
   ]
  },
  {
   "cell_type": "code",
   "execution_count": 148,
   "metadata": {},
   "outputs": [],
   "source": [
    "predictions = model1.transform(validation_df)"
   ]
  },
  {
   "cell_type": "code",
   "execution_count": 150,
   "metadata": {},
   "outputs": [],
   "source": [
    "predictions = predictions.withColumn('label',fn.col('readmitted'))"
   ]
  },
  {
   "cell_type": "code",
   "execution_count": 152,
   "metadata": {},
   "outputs": [],
   "source": [
    "# Confusion matrix\n",
    "tp = predictions[(predictions.label == 1) & (predictions.prediction == 1)].count()\n",
    "tn = predictions[(predictions.label == 0) & (predictions.prediction == 0)].count()\n",
    "fp = predictions[(predictions.label == 0) & (predictions.prediction == 1)].count()\n",
    "fn = predictions[(predictions.label == 1) & (predictions.prediction == 0)].count()"
   ]
  },
  {
   "cell_type": "code",
   "execution_count": 153,
   "metadata": {},
   "outputs": [
    {
     "name": "stdout",
     "output_type": "stream",
     "text": [
      "True Positives: 1725\n",
      "True Negatives: 9600\n",
      "False Positives: 1386\n",
      "False Negatives: 5521\n"
     ]
    }
   ],
   "source": [
    "print(\"True Positives:\", tp)\n",
    "print(\"True Negatives:\", tn)\n",
    "print(\"False Positives:\", fp)\n",
    "print(\"False Negatives:\", fn)"
   ]
  },
  {
   "cell_type": "markdown",
   "metadata": {},
   "source": [
    "## Logistic Regression with CV and Regularization"
   ]
  },
  {
   "cell_type": "code",
   "execution_count": 140,
   "metadata": {},
   "outputs": [],
   "source": [
    "numerical_features = pipe(feature.VectorAssembler(inputCols=['time_in_hospital_log','number_emergency_log','total_visits_log',\n",
    "                                        'num_medications_log','number_diagnoses','age']), feature.StandardScaler())\n"
   ]
  },
  {
   "cell_type": "code",
   "execution_count": 141,
   "metadata": {},
   "outputs": [],
   "source": [
    "other_features = feature.VectorAssembler(inputCols=['dd_hhs','dd_expired','diabetesMed','insulin_index','admission_source_emergency'])\n"
   ]
  },
  {
   "cell_type": "code",
   "execution_count": 142,
   "metadata": {},
   "outputs": [],
   "source": [
    "all_features = pipe((numerical_features, other_features), feature.VectorAssembler())\n",
    "                    "
   ]
  },
  {
   "cell_type": "code",
   "execution_count": 143,
   "metadata": {},
   "outputs": [],
   "source": [
    "lr = classification.LogisticRegression(labelCol='readmitted')"
   ]
  },
  {
   "cell_type": "code",
   "execution_count": 144,
   "metadata": {},
   "outputs": [],
   "source": [
    "final_model_pipeline = pipe(all_features, lr)"
   ]
  },
  {
   "cell_type": "code",
   "execution_count": 145,
   "metadata": {},
   "outputs": [],
   "source": [
    "paramGrid = ParamGridBuilder() \\\n",
    "    .addGrid(lr.elasticNetParam, [0.1,0.01]) \\\n",
    "    .build()\n",
    "\n",
    "evaluator = BinaryClassificationEvaluator(labelCol=lr.getLabelCol(), rawPredictionCol=lr.getRawPredictionCol())\n",
    "crossval = CrossValidator(estimator=final_model_pipeline, \n",
    "                          estimatorParamMaps=paramGrid, \n",
    "                          evaluator=evaluator, \n",
    "                          numFolds=3)\n",
    "\n",
    "\n",
    "final_model_fitted = crossval.fit(training_df)"
   ]
  },
  {
   "cell_type": "code",
   "execution_count": 146,
   "metadata": {},
   "outputs": [
    {
     "data": {
      "text/plain": [
       "0.6309075513215601"
      ]
     },
     "execution_count": 146,
     "metadata": {},
     "output_type": "execute_result"
    }
   ],
   "source": [
    "evaluator.evaluate(final_model_fitted.transform(validation_df))"
   ]
  },
  {
   "cell_type": "code",
   "execution_count": 147,
   "metadata": {},
   "outputs": [
    {
     "data": {
      "text/plain": [
       "DenseVector([0.0572, 0.1386, 0.2623, 0.0134, 0.1356, 0.1042, 0.1021, -20.4713, 0.2101, 0.0122, 0.2424])"
      ]
     },
     "execution_count": 147,
     "metadata": {},
     "output_type": "execute_result"
    }
   ],
   "source": [
    "final_model_fitted.bestModel.stages[-1].coefficients"
   ]
  },
  {
   "cell_type": "code",
   "execution_count": 105,
   "metadata": {},
   "outputs": [
    {
     "data": {
      "image/png": "[encoded data removed]",
      "text/plain": [
       "<Figure size 432x288 with 1 Axes>"
      ]
     },
     "metadata": {},
     "output_type": "display_data"
    }
   ],
   "source": [
    "beta = np.sort(final_model_fitted.bestModel.stages[-1].coefficients)\n",
    "plt.plot(beta)\n",
    "plt.ylabel('Beta Coefficients')\n",
    "plt.show()"
   ]
  },
  {
   "cell_type": "code",
   "execution_count": 106,
   "metadata": {},
   "outputs": [
    {
     "data": {
      "image/png": "[encoded data removed]",
      "text/plain": [
       "<Figure size 432x288 with 1 Axes>"
      ]
     },
     "metadata": {},
     "output_type": "display_data"
    },
    {
     "name": "stdout",
     "output_type": "stream",
     "text": [
      "Training set areaUnderROC: 0.6345300694364213\n"
     ]
    }
   ],
   "source": [
    "trainingSummary = final_model_fitted.bestModel.stages[-1].summary\n",
    "roc = trainingSummary.roc.toPandas()\n",
    "plt.plot(roc['FPR'],roc['TPR'])\n",
    "plt.ylabel('False Positive Rate')\n",
    "plt.xlabel('True Positive Rate')\n",
    "plt.title('ROC Curve')\n",
    "plt.show()\n",
    "print('Training set areaUnderROC: ' + str(trainingSummary.areaUnderROC))"
   ]
  },
  {
   "cell_type": "code",
   "execution_count": 225,
   "metadata": {},
   "outputs": [],
   "source": [
    "predictions = final_model_fitted.bestModel.transform(validation_df)"
   ]
  },
  {
   "cell_type": "code",
   "execution_count": 227,
   "metadata": {},
   "outputs": [],
   "source": [
    "predictions = predictions.withColumn('rawPrediction',fn.col('LogisticRegression_4560806910180b46e75c__rawPrediction'))"
   ]
  },
  {
   "cell_type": "code",
   "execution_count": 230,
   "metadata": {},
   "outputs": [],
   "source": [
    "predictions = predictions.withColumn('label',fn.col('readmitted'))"
   ]
  },
  {
   "cell_type": "code",
   "execution_count": 231,
   "metadata": {
    "scrolled": true
   },
   "outputs": [
    {
     "name": "stdout",
     "output_type": "stream",
     "text": [
      "Test Area Under ROC: 0.6309075513215602\n"
     ]
    }
   ],
   "source": [
    "evaluator = BinaryClassificationEvaluator()\n",
    "print(\"Test Area Under ROC: \" + str(evaluator.evaluate(predictions, {evaluator.metricName: \"areaUnderROC\"})))"
   ]
  },
  {
   "cell_type": "code",
   "execution_count": 234,
   "metadata": {},
   "outputs": [],
   "source": [
    "# Confusion matrix\n",
    "tp = predictions[(predictions.label == 1) & (predictions.LogisticRegression_4560806910180b46e75c__prediction == 1)].count()\n",
    "tn = predictions[(predictions.label == 0) & (predictions.LogisticRegression_4560806910180b46e75c__prediction == 0)].count()\n",
    "fp = predictions[(predictions.label == 0) & (predictions.LogisticRegression_4560806910180b46e75c__prediction == 1)].count()\n",
    "fn = predictions[(predictions.label == 1) & (predictions.LogisticRegression_4560806910180b46e75c__prediction == 0)].count()"
   ]
  },
  {
   "cell_type": "code",
   "execution_count": 235,
   "metadata": {},
   "outputs": [
    {
     "name": "stdout",
     "output_type": "stream",
     "text": [
      "True Positives: 1725\n",
      "True Negatives: 9600\n",
      "False Positives: 1386\n",
      "False Negatives: 5521\n"
     ]
    }
   ],
   "source": [
    "print(\"True Positives:\", tp)\n",
    "print(\"True Negatives:\", tn)\n",
    "print(\"False Positives:\", fp)\n",
    "print(\"False Negatives:\", fn)"
   ]
  },
  {
   "cell_type": "markdown",
   "metadata": {},
   "source": [
    "# Gradient Boosting "
   ]
  },
  {
   "cell_type": "code",
   "execution_count": 107,
   "metadata": {},
   "outputs": [],
   "source": [
    "training_df = training_df.withColumn('label',fn.col('readmitted'))"
   ]
  },
  {
   "cell_type": "code",
   "execution_count": 283,
   "metadata": {},
   "outputs": [],
   "source": [
    "va = feature.VectorAssembler(inputCols=['time_in_hospital_log','number_emergency_log','total_visits_log','diabetesMed',\n",
    "                                        'num_medications_log','dd_hhs','admission_source_emergency','dd_expired','insulin_index',\n",
    "                                        'number_diagnoses','age'], outputCol='features')\n",
    "\n",
    "\n",
    "gbt = GBTClassifier(labelCol='readmitted')\n",
    "pipeline = Pipeline(stages=[va, gbt])\n",
    "model_gbt = pipeline.fit(training_df)\n"
   ]
  },
  {
   "cell_type": "code",
   "execution_count": 284,
   "metadata": {},
   "outputs": [],
   "source": [
    "predictions_gbt = model_gbt.transform(validation_df)"
   ]
  },
  {
   "cell_type": "code",
   "execution_count": 285,
   "metadata": {},
   "outputs": [],
   "source": [
    "predictions_gbt = predictions_gbt.withColumn('label',fn.col('readmitted'))"
   ]
  },
  {
   "cell_type": "code",
   "execution_count": 286,
   "metadata": {},
   "outputs": [
    {
     "name": "stdout",
     "output_type": "stream",
     "text": [
      "Test Area Under ROC: 0.6364019102122748\n"
     ]
    }
   ],
   "source": [
    "evaluator = BinaryClassificationEvaluator()\n",
    "print(\"Test Area Under ROC: \" + str(evaluator.evaluate(predictions_gbt, {evaluator.metricName: \"areaUnderROC\"})))"
   ]
  },
  {
   "cell_type": "markdown",
   "metadata": {},
   "source": [
    "## GBT with cross-val"
   ]
  },
  {
   "cell_type": "code",
   "execution_count": 154,
   "metadata": {},
   "outputs": [],
   "source": [
    "numerical_features = \\\n",
    "    pipe(feature.VectorAssembler(inputCols=['total_visits_log','time_in_hospital_log','number_emergency_log','num_procedures_log',\n",
    "'num_lab_procedures_log','num_medications_log','number_diagnoses','age']),\\\n",
    "                            feature.StandardScaler())\n",
    "\n",
    "other_features= feature.VectorAssembler(inputCols=['admission_source_phyref','admission_source_cliref',\n",
    "'admission_source_hmoref','admission_source_hos','admission_source_snf',\n",
    "'admission_source_hlthcare','admission_source_emergency', 'admission_source_court', 'admission_source_critical',\n",
    "'admission_source_normdel', 'admission_source_birth', 'admission_source_surgery',\n",
    "'dd_home','dd_shortm_hos','dd_snf','AfricanAmerican','Asian','Caucasian','Hispanic','dd_icf',\n",
    "'dd_careInst','dd_hhs','dd_ama','dd_homeIvy','dd_admInp','dd_expired','dd_hospice',\n",
    "'dd_medfac','dd_swingbed','dd_rehab','dd_long','dd_nursing','dd_federal','dd_psy','diag1_Circulatory',\n",
    "'diag1_Respiratory','diag1_Digestive','diag1_Diabetes',\n",
    "'diag1_Injury','diag1_Musculoskeletal','diag1_Genitourinary','diag1_Neoplasms',\n",
    "'diag2_Circulatory','diag2_Respiratory','diag2_Digestive','diag2_Diabetes','diag2_Injury','diag2_Musculoskeletal',\n",
    "'diag2_Genitourinary','diag2_Neoplasms','diag3_Circulatory','diag3_Respiratory','diag3_Digestive',\n",
    "'diag3_Diabetes','diag3_Injury','diag3_Musculoskeletal','diag3_Genitourinary','diag3_Neoplasms',\n",
    "'max_glu_200','max_glu_300','max_glu_norm','A1Cresult_7','A1Cresult_8','A1Cresult_norm',\n",
    "'metformin_index','repaglinide_index','nateglinide_index','chlorpropamide_index','glimepiride_index',\n",
    "'acetohexamide_index','troglitazone_index','tolazamide_index','glyburide-metformin_index',\n",
    "'glipizide-metformin_index','glimepiride-pioglitazone_index','metformin-rosiglitazone_index',\n",
    "'metformin-pioglitazone_index','glipizide_index','glyburide_index','tolbutamide_index','pioglitazone_index',\n",
    "'rosiglitazone_index','acarbose_index','insulin_index','miglitol_index'])\n",
    "\n",
    "all_features = pipe((numerical_features,other_features), feature.VectorAssembler())\n",
    "\n",
    "gbt = GBTClassifier(labelCol='readmitted')\n",
    "\n",
    "final_model_pipeline = pipe(all_features, gbt)\n",
    "\n",
    "paramGrid = ParamGridBuilder() \\\n",
    "    .addGrid(gbt.maxDepth, [4, 6]) \\\n",
    "    .addGrid(gbt.maxBins, [20, 40]) \\\n",
    "    .addGrid(gbt.maxIter, [10, 20]) \\\n",
    "    .build()\n",
    "\n",
    "evaluator = BinaryClassificationEvaluator()\n",
    "cv = CrossValidator(estimator=final_model_pipeline, estimatorParamMaps=paramGrid, evaluator=evaluator, numFolds=3)\n",
    "\n"
   ]
  },
  {
   "cell_type": "code",
   "execution_count": 157,
   "metadata": {
    "scrolled": true
   },
   "outputs": [],
   "source": [
    "cvModel = cv.fit(training_df)"
   ]
  },
  {
   "cell_type": "code",
   "execution_count": 156,
   "metadata": {},
   "outputs": [
    {
     "name": "stdout",
     "output_type": "stream",
     "text": [
      "Hi\n"
     ]
    }
   ],
   "source": [
    "print('Hi')"
   ]
  },
  {
   "cell_type": "code",
   "execution_count": 158,
   "metadata": {},
   "outputs": [],
   "source": [
    "predictions_gbt2 = cvModel.transform(validation_df)"
   ]
  },
  {
   "cell_type": "code",
   "execution_count": 161,
   "metadata": {},
   "outputs": [],
   "source": [
    "predictions_gbt2 = predictions_gbt2.withColumn('label',predictions_gbt2.readmitted)"
   ]
  },
  {
   "cell_type": "code",
   "execution_count": 162,
   "metadata": {},
   "outputs": [
    {
     "data": {
      "text/plain": [
       "0.64342428466029"
      ]
     },
     "execution_count": 162,
     "metadata": {},
     "output_type": "execute_result"
    }
   ],
   "source": [
    "evaluator.evaluate(predictions_gbt2)"
   ]
  },
  {
   "cell_type": "code",
   "execution_count": 164,
   "metadata": {},
   "outputs": [],
   "source": [
    "# Confusion matrix\n",
    "tp = predictions_gbt2[(predictions_gbt2.label == 1) & (predictions_gbt2.GBTClassifier_4f81a4e992a272367351__prediction == 1)].count()\n",
    "tn = predictions_gbt2[(predictions_gbt2.label == 0) & (predictions_gbt2.GBTClassifier_4f81a4e992a272367351__prediction == 0)].count()\n",
    "fp = predictions_gbt2[(predictions_gbt2.label == 0) & (predictions_gbt2.GBTClassifier_4f81a4e992a272367351__prediction == 1)].count()\n",
    "fn = predictions_gbt2[(predictions_gbt2.label == 1) & (predictions_gbt2.GBTClassifier_4f81a4e992a272367351__prediction == 0)].count()\n"
   ]
  },
  {
   "cell_type": "code",
   "execution_count": 165,
   "metadata": {},
   "outputs": [
    {
     "name": "stdout",
     "output_type": "stream",
     "text": [
      "True Positives: 1994\n",
      "True Negatives: 9452\n",
      "False Positives: 1534\n",
      "False Negatives: 5252\n"
     ]
    }
   ],
   "source": [
    "print(\"True Positives:\", tp)\n",
    "print(\"True Negatives:\", tn)\n",
    "print(\"False Positives:\", fp)\n",
    "print(\"False Negatives:\", fn)"
   ]
  },
  {
   "cell_type": "code",
   "execution_count": null,
   "metadata": {},
   "outputs": [],
   "source": [
    "## Testing Gradient Boosting "
   ]
  },
  {
   "cell_type": "code",
   "execution_count": null,
   "metadata": {},
   "outputs": [],
   "source": []
  },
  {
   "cell_type": "code",
   "execution_count": null,
   "metadata": {},
   "outputs": [],
   "source": []
  },
  {
   "cell_type": "code",
   "execution_count": null,
   "metadata": {},
   "outputs": [],
   "source": []
  },
  {
   "cell_type": "markdown",
   "metadata": {},
   "source": [
    "## Neural Networks"
   ]
  },
  {
   "cell_type": "code",
   "execution_count": 108,
   "metadata": {},
   "outputs": [],
   "source": [
    "from pyspark.ml.classification import MultilayerPerceptronClassifier\n",
    "from pyspark.ml.evaluation import MulticlassClassificationEvaluator"
   ]
  },
  {
   "cell_type": "code",
   "execution_count": 109,
   "metadata": {},
   "outputs": [],
   "source": [
    "# specify layers for the neural network:\n",
    "# input layer of size 4 (features), two intermediate of size 5 and 4\n",
    "# and output of size 3 (classes)\n",
    "layers = [10,4,2]"
   ]
  },
  {
   "cell_type": "code",
   "execution_count": 110,
   "metadata": {},
   "outputs": [],
   "source": [
    "va = feature.VectorAssembler(inputCols=['total_visits_log','time_in_hospital_log','number_emergency_log','num_procedures_log',\n",
    "                     'num_lab_procedures_log','num_medications_log','number_diagnoses','dd_hhs','dd_expired','insulin_index',\n",
    "                                        ], outputCol='features')\n",
    "\n",
    "\n",
    "# create the trainer and set its parameters\n",
    "neural = MultilayerPerceptronClassifier(maxIter=100, layers=layers, blockSize=128, seed=1234)\n",
    "\n",
    "pipeline = Pipeline(stages=[va, neural])\n",
    "model_neural = pipeline.fit(training_df)\n"
   ]
  },
  {
   "cell_type": "code",
   "execution_count": 111,
   "metadata": {},
   "outputs": [],
   "source": [
    "# compute accuracy on the test set\n",
    "result_neural = model_neural.transform(validation_df)\n",
    "result_neural = result_neural.withColumn('label',fn.col('readmitted'))\n",
    "predictionAndLabels = result_neural.select(\"prediction\", \"label\")"
   ]
  },
  {
   "cell_type": "code",
   "execution_count": 112,
   "metadata": {},
   "outputs": [
    {
     "name": "stdout",
     "output_type": "stream",
     "text": [
      "Validation set accuracy = 0.6199539271610356\n"
     ]
    }
   ],
   "source": [
    "evaluator = MulticlassClassificationEvaluator(metricName=\"accuracy\")\n",
    "print(\"Validation set accuracy = \" + str(evaluator.evaluate(predictionAndLabels)))"
   ]
  },
  {
   "cell_type": "markdown",
   "metadata": {},
   "source": [
    "## Gradient Boosting with all features"
   ]
  },
  {
   "cell_type": "code",
   "execution_count": 134,
   "metadata": {},
   "outputs": [
    {
     "name": "stdout",
     "output_type": "stream",
     "text": [
      "Test Area Under ROC: 0.6442514923392071\n"
     ]
    }
   ],
   "source": [
    "va = feature.VectorAssembler(inputCols=['total_visits_log','time_in_hospital_log','number_emergency_log','num_procedures_log',\n",
    "'num_lab_procedures_log','num_medications_log','number_diagnoses','admission_source_phyref','admission_source_cliref',\n",
    "'admission_source_hmoref','admission_source_hos','admission_source_snf',\n",
    "'admission_source_hlthcare','admission_source_emergency', 'admission_source_court', 'admission_source_critical',\n",
    "'admission_source_normdel', 'admission_source_birth', 'admission_source_surgery','age',\n",
    "'dd_home','dd_shortm_hos','dd_snf','AfricanAmerican','Asian','Caucasian','Hispanic','dd_icf',\n",
    "'dd_careInst','dd_hhs','dd_ama','dd_homeIvy','dd_admInp','dd_expired','dd_hospice',\n",
    "'dd_medfac','dd_swingbed','dd_rehab','dd_long','dd_nursing','dd_federal','dd_psy','diag1_Circulatory',\n",
    "'diag1_Respiratory','diag1_Digestive','diag1_Diabetes',\n",
    "'diag1_Injury','diag1_Musculoskeletal','diag1_Genitourinary','diag1_Neoplasms',\n",
    "'diag2_Circulatory','diag2_Respiratory','diag2_Digestive','diag2_Diabetes','diag2_Injury','diag2_Musculoskeletal',\n",
    "'diag2_Genitourinary','diag2_Neoplasms','diag3_Circulatory','diag3_Respiratory','diag3_Digestive',\n",
    "'diag3_Diabetes','diag3_Injury','diag3_Musculoskeletal','diag3_Genitourinary','diag3_Neoplasms',\n",
    "'max_glu_200','max_glu_300','max_glu_norm','A1Cresult_7','A1Cresult_8','A1Cresult_norm',\n",
    "'metformin_index','repaglinide_index','nateglinide_index','chlorpropamide_index','glimepiride_index',\n",
    "'acetohexamide_index','troglitazone_index','tolazamide_index','glyburide-metformin_index',\n",
    "'glipizide-metformin_index','glimepiride-pioglitazone_index','metformin-rosiglitazone_index',\n",
    "'metformin-pioglitazone_index','glipizide_index','glyburide_index','tolbutamide_index','pioglitazone_index',\n",
    "'rosiglitazone_index','acarbose_index','insulin_index','miglitol_index'], outputCol='features')\n",
    "\n",
    "\n",
    "gbt = GBTClassifier(labelCol='readmitted')\n",
    "pipeline = Pipeline(stages=[va, gbt])\n",
    "model_gbt = pipeline.fit(training_df)\n",
    "predictions_gbt = model_gbt.transform(validation_df)\n",
    "\n",
    "predictions_gbt = predictions_gbt.withColumn('label',fn.col('readmitted'))\n",
    "\n",
    "evaluator = BinaryClassificationEvaluator()\n",
    "print(\"Test Area Under ROC: \" + str(evaluator.evaluate(predictions_gbt, {evaluator.metricName: \"areaUnderROC\"})))\n"
   ]
  },
  {
   "cell_type": "code",
   "execution_count": null,
   "metadata": {},
   "outputs": [],
   "source": []
  },
  {
   "cell_type": "code",
   "execution_count": null,
   "metadata": {},
   "outputs": [],
   "source": []
  },
  {
   "cell_type": "code",
   "execution_count": null,
   "metadata": {},
   "outputs": [],
   "source": []
  },
  {
   "cell_type": "markdown",
   "metadata": {},
   "source": [
    "## Neural Networks with all features"
   ]
  },
  {
   "cell_type": "code",
   "execution_count": 180,
   "metadata": {},
   "outputs": [],
   "source": [
    "# specify layers for the neural network:\n",
    "# input layer of size 4 (features), two intermediate of size 5 and 4\n",
    "# and output of size 3 (classes)\n",
    "layers = [93,8,2]"
   ]
  },
  {
   "cell_type": "code",
   "execution_count": 181,
   "metadata": {},
   "outputs": [],
   "source": [
    "va = feature.VectorAssembler(inputCols=['total_visits_log','time_in_hospital_log','number_emergency_log','num_procedures_log',\n",
    "'num_lab_procedures_log','num_medications_log','number_diagnoses','admission_source_phyref','admission_source_cliref',\n",
    "'admission_source_hmoref','admission_source_hos','admission_source_snf',\n",
    "'admission_source_hlthcare','admission_source_emergency', 'admission_source_court', 'admission_source_critical',\n",
    "'admission_source_normdel', 'admission_source_birth', 'admission_source_surgery','age',\n",
    "'dd_home','dd_shortm_hos','dd_snf','AfricanAmerican','Asian','Caucasian','Hispanic','dd_icf',\n",
    "'dd_careInst','dd_hhs','dd_ama','dd_homeIvy','dd_admInp','dd_expired','dd_hospice',\n",
    "'dd_medfac','dd_swingbed','dd_rehab','dd_long','dd_nursing','dd_federal','dd_psy','diag1_Circulatory',\n",
    "'diag1_Respiratory','diag1_Digestive','diag1_Diabetes',\n",
    "'diag1_Injury','diag1_Musculoskeletal','diag1_Genitourinary','diag1_Neoplasms',\n",
    "'diag2_Circulatory','diag2_Respiratory','diag2_Digestive','diag2_Diabetes','diag2_Injury','diag2_Musculoskeletal',\n",
    "'diag2_Genitourinary','diag2_Neoplasms','diag3_Circulatory','diag3_Respiratory','diag3_Digestive',\n",
    "'diag3_Diabetes','diag3_Injury','diag3_Musculoskeletal','diag3_Genitourinary','diag3_Neoplasms',\n",
    "'max_glu_200','max_glu_300','max_glu_norm','A1Cresult_7','A1Cresult_8','A1Cresult_norm',\n",
    "'metformin_index','repaglinide_index','nateglinide_index','chlorpropamide_index','glimepiride_index',\n",
    "'acetohexamide_index','troglitazone_index','tolazamide_index','glyburide-metformin_index',\n",
    "'glipizide-metformin_index','glimepiride-pioglitazone_index','metformin-rosiglitazone_index',\n",
    "'metformin-pioglitazone_index','glipizide_index','glyburide_index','tolbutamide_index','pioglitazone_index',\n",
    "'rosiglitazone_index','acarbose_index','insulin_index','miglitol_index'\n",
    "                                        ], outputCol='features')\n",
    "\n",
    "\n",
    "# create the trainer and set its parameters\n",
    "neural = MultilayerPerceptronClassifier(maxIter=200, layers=layers, blockSize=128, seed=1234)\n",
    "\n",
    "pipeline = Pipeline(stages=[va, neural])\n",
    "model_neural = pipeline.fit(training_df)\n"
   ]
  },
  {
   "cell_type": "code",
   "execution_count": 182,
   "metadata": {},
   "outputs": [
    {
     "name": "stdout",
     "output_type": "stream",
     "text": [
      "Validation set accuracy = 0.6223672663448881\n"
     ]
    }
   ],
   "source": [
    "# compute accuracy on the test set\n",
    "result_neural = model_neural.transform(validation_df)\n",
    "result_neural = result_neural.withColumn('label',result_neural.readmitted)\n",
    "predictionAndLabels = result_neural.select(\"prediction\", \"label\")\n",
    "evaluator = MulticlassClassificationEvaluator(metricName=\"accuracy\")\n",
    "print(\"Validation set accuracy = \" + str(evaluator.evaluate(predictionAndLabels)))"
   ]
  },
  {
   "cell_type": "code",
   "execution_count": 184,
   "metadata": {},
   "outputs": [],
   "source": [
    "# Confusion matrix\n",
    "tp = result_neural[(result_neural.label == 1) & (result_neural.prediction == 1)].count()\n",
    "tn = result_neural[(result_neural.label == 0) & (result_neural.prediction == 0)].count()\n",
    "fp = result_neural[(result_neural.label == 0) & (result_neural.prediction == 1)].count()\n",
    "fn = result_neural[(result_neural.label == 1) & (result_neural.prediction == 0)].count()\n"
   ]
  },
  {
   "cell_type": "code",
   "execution_count": 185,
   "metadata": {},
   "outputs": [
    {
     "name": "stdout",
     "output_type": "stream",
     "text": [
      "True Positives: 1453\n",
      "True Negatives: 9894\n",
      "False Positives: 1092\n",
      "False Negatives: 5793\n"
     ]
    }
   ],
   "source": [
    "print(\"True Positives:\", tp)\n",
    "print(\"True Negatives:\", tn)\n",
    "print(\"False Positives:\", fp)\n",
    "print(\"False Negatives:\", fn)"
   ]
  },
  {
   "cell_type": "code",
   "execution_count": null,
   "metadata": {},
   "outputs": [],
   "source": []
  },
  {
   "cell_type": "markdown",
   "metadata": {},
   "source": [
    "## Random Forest with all features"
   ]
  },
  {
   "cell_type": "code",
   "execution_count": 116,
   "metadata": {},
   "outputs": [],
   "source": [
    "va = feature.VectorAssembler(inputCols=['total_visits_log','time_in_hospital_log','number_emergency_log','num_procedures_log',\n",
    "'num_lab_procedures_log','num_medications_log','number_diagnoses','admission_source_phyref','admission_source_cliref',\n",
    "'admission_source_hmoref','admission_source_hos','admission_source_snf',\n",
    "'admission_source_hlthcare','admission_source_emergency', 'admission_source_court', 'admission_source_critical',\n",
    "'admission_source_normdel', 'admission_source_birth', 'admission_source_surgery','age',\n",
    "'dd_home','dd_shortm_hos','dd_snf','AfricanAmerican','Asian','Caucasian','Hispanic','dd_icf',\n",
    "'dd_careInst','dd_hhs','dd_ama','dd_homeIvy','dd_admInp','dd_expired','dd_hospice',\n",
    "'dd_medfac','dd_swingbed','dd_rehab','dd_long','dd_nursing','dd_federal','dd_psy','diag1_Circulatory',\n",
    "'diag1_Respiratory','diag1_Digestive','diag1_Diabetes',\n",
    "'diag1_Injury','diag1_Musculoskeletal','diag1_Genitourinary','diag1_Neoplasms',\n",
    "'diag2_Circulatory','diag2_Respiratory','diag2_Digestive','diag2_Diabetes','diag2_Injury','diag2_Musculoskeletal',\n",
    "'diag2_Genitourinary','diag2_Neoplasms','diag3_Circulatory','diag3_Respiratory','diag3_Digestive',\n",
    "'diag3_Diabetes','diag3_Injury','diag3_Musculoskeletal','diag3_Genitourinary','diag3_Neoplasms',\n",
    "'max_glu_200','max_glu_300','max_glu_norm','A1Cresult_7','A1Cresult_8','A1Cresult_norm',\n",
    "'metformin_index','repaglinide_index','nateglinide_index','chlorpropamide_index','glimepiride_index',\n",
    "'acetohexamide_index','troglitazone_index','tolazamide_index','glyburide-metformin_index',\n",
    "'glipizide-metformin_index','glimepiride-pioglitazone_index','metformin-rosiglitazone_index',\n",
    "'metformin-pioglitazone_index','glipizide_index','glyburide_index','tolbutamide_index','pioglitazone_index',\n",
    "'rosiglitazone_index','acarbose_index','insulin_index','miglitol_index'], outputCol='features')\n",
    "\n",
    "\n",
    "rf = classification.RandomForestClassifier(labelCol='readmitted',numTrees=10)\n",
    "\n",
    "final_model_pipeline = Pipeline(stages=[va, rf])\n",
    "\n",
    "final_model_fitted = final_model_pipeline.fit(training_df)\n"
   ]
  },
  {
   "cell_type": "code",
   "execution_count": 117,
   "metadata": {},
   "outputs": [
    {
     "data": {
      "text/plain": [
       "0.6320045299919769"
      ]
     },
     "execution_count": 117,
     "metadata": {},
     "output_type": "execute_result"
    }
   ],
   "source": [
    "binary_evaluation(final_model_pipeline,final_model_fitted,validation_df)"
   ]
  },
  {
   "cell_type": "markdown",
   "metadata": {},
   "source": [
    "## Random Forest with all features with Cross-Validation"
   ]
  },
  {
   "cell_type": "code",
   "execution_count": null,
   "metadata": {},
   "outputs": [],
   "source": [
    "numerical_features = \\\n",
    "    pipe(feature.VectorAssembler(inputCols=['total_visits_log','time_in_hospital_log','number_emergency_log','num_procedures_log',\n",
    "'num_lab_procedures_log','num_medications_log','number_diagnoses','age']),\\\n",
    "                            feature.StandardScaler())\n",
    "\n",
    "other_features= feature.VectorAssembler(inputCols=['admission_source_phyref','admission_source_cliref',\n",
    "'admission_source_hmoref','admission_source_hos','admission_source_snf',\n",
    "'admission_source_hlthcare','admission_source_emergency', 'admission_source_court', 'admission_source_critical',\n",
    "'admission_source_normdel', 'admission_source_birth', 'admission_source_surgery',\n",
    "'dd_home','dd_shortm_hos','dd_snf','AfricanAmerican','Asian','Caucasian','Hispanic','dd_icf',\n",
    "'dd_careInst','dd_hhs','dd_ama','dd_homeIvy','dd_admInp','dd_expired','dd_hospice',\n",
    "'dd_medfac','dd_swingbed','dd_rehab','dd_long','dd_nursing','dd_federal','dd_psy','diag1_Circulatory',\n",
    "'diag1_Respiratory','diag1_Digestive','diag1_Diabetes',\n",
    "'diag1_Injury','diag1_Musculoskeletal','diag1_Genitourinary','diag1_Neoplasms',\n",
    "'diag2_Circulatory','diag2_Respiratory','diag2_Digestive','diag2_Diabetes','diag2_Injury','diag2_Musculoskeletal',\n",
    "'diag2_Genitourinary','diag2_Neoplasms','diag3_Circulatory','diag3_Respiratory','diag3_Digestive',\n",
    "'diag3_Diabetes','diag3_Injury','diag3_Musculoskeletal','diag3_Genitourinary','diag3_Neoplasms',\n",
    "'max_glu_200','max_glu_300','max_glu_norm','A1Cresult_7','A1Cresult_8','A1Cresult_norm',\n",
    "'metformin_index','repaglinide_index','nateglinide_index','chlorpropamide_index','glimepiride_index',\n",
    "'acetohexamide_index','troglitazone_index','tolazamide_index','glyburide-metformin_index',\n",
    "'glipizide-metformin_index','glimepiride-pioglitazone_index','metformin-rosiglitazone_index',\n",
    "'metformin-pioglitazone_index','glipizide_index','glyburide_index','tolbutamide_index','pioglitazone_index',\n",
    "'rosiglitazone_index','acarbose_index','insulin_index','miglitol_index'\n",
    "                                        ])\n",
    "\n",
    "all_features = pipe((numerical_features,other_features), feature.VectorAssembler())\n",
    "\n",
    "rf = classification.RandomForestClassifier(labelCol='readmitted',numTrees=10)\n",
    "\n",
    "final_model_pipeline = pipe(all_features, rf)\n",
    "\n",
    "paramGrid = ParamGridBuilder() \\\n",
    "    .addGrid(rf.numTrees, [10]) \\\n",
    "    .build()\n",
    "crossval = CrossValidator(estimator=final_model_pipeline,\n",
    "                          estimatorParamMaps=paramGrid,\n",
    "                          evaluator=BinaryClassificationEvaluator(labelCol=rf.getLabelCol(),rawPredictionCol=rf.getRawPredictionCol()),\n",
    "                          numFolds=2) \n",
    "\n",
    "# Run cross-validation, and choose the best set of parameters.\n",
    "cvModel_fitted = crossval.fit(training_df)"
   ]
  },
  {
   "cell_type": "code",
   "execution_count": null,
   "metadata": {},
   "outputs": [],
   "source": []
  },
  {
   "cell_type": "code",
   "execution_count": null,
   "metadata": {},
   "outputs": [],
   "source": []
  },
  {
   "cell_type": "code",
   "execution_count": null,
   "metadata": {},
   "outputs": [],
   "source": []
  },
  {
   "cell_type": "code",
   "execution_count": null,
   "metadata": {},
   "outputs": [],
   "source": []
  },
  {
   "cell_type": "markdown",
   "metadata": {},
   "source": [
    "## Heat Map"
   ]
  },
  {
   "cell_type": "code",
   "execution_count": 133,
   "metadata": {},
   "outputs": [
    {
     "data": {
      "text/plain": [
       "<matplotlib.axes._subplots.AxesSubplot at 0x7f2a956b5390>"
      ]
     },
     "execution_count": 133,
     "metadata": {},
     "output_type": "execute_result"
    },
    {
     "data": {
      "image/png": "[encoded data removed]",
      "text/plain": [
       "<Figure size 432x288 with 2 Axes>"
      ]
     },
     "metadata": {},
     "output_type": "display_data"
    }
   ],
   "source": [
    "# corr_matrix = df_spark_final.select('time_in_hospital_log','number_emergency_log','total_visits_log',\n",
    "#                                         'num_medications_log','number_diagnoses','age','dd_hhs',\n",
    "#                                     'admission_source_emergency','dd_expired','insulin_index','diabetesMed','readmitted')\n",
    "\n",
    "# pd_corr = corr_matrix.toPandas()\n",
    "\n",
    "sns.heatmap(pd_corr.corr(),square=True,cmap='ocean_r')"
   ]
  },
  {
   "cell_type": "markdown",
   "metadata": {},
   "source": [
    "# Extra"
   ]
  },
  {
   "cell_type": "code",
   "execution_count": null,
   "metadata": {},
   "outputs": [],
   "source": []
  },
  {
   "cell_type": "code",
   "execution_count": 55,
   "metadata": {},
   "outputs": [],
   "source": [
    "#df_spark_final.coalesce(1).write.csv('final_file_20Nov.csv',header=True)"
   ]
  },
  {
   "cell_type": "code",
   "execution_count": 57,
   "metadata": {},
   "outputs": [
    {
     "data": {
      "text/html": [
       "<div>\n",
       "<style scoped>\n",
       "    .dataframe tbody tr th:only-of-type {\n",
       "        vertical-align: middle;\n",
       "    }\n",
       "\n",
       "    .dataframe tbody tr th {\n",
       "        vertical-align: top;\n",
       "    }\n",
       "\n",
       "    .dataframe thead th {\n",
       "        text-align: right;\n",
       "    }\n",
       "</style>\n",
       "<table border=\"1\" class=\"dataframe\">\n",
       "  <thead>\n",
       "    <tr style=\"text-align: right;\">\n",
       "      <th></th>\n",
       "      <th>AfricanAmerican</th>\n",
       "      <th>Asian</th>\n",
       "      <th>Caucasian</th>\n",
       "      <th>Hispanic</th>\n",
       "      <th>readmitted</th>\n",
       "    </tr>\n",
       "  </thead>\n",
       "  <tbody>\n",
       "    <tr>\n",
       "      <th>AfricanAmerican</th>\n",
       "      <td>1.000000</td>\n",
       "      <td>-0.041724</td>\n",
       "      <td>-0.877588</td>\n",
       "      <td>-0.070015</td>\n",
       "      <td>-0.016258</td>\n",
       "    </tr>\n",
       "    <tr>\n",
       "      <th>Asian</th>\n",
       "      <td>-0.041724</td>\n",
       "      <td>1.000000</td>\n",
       "      <td>-0.152646</td>\n",
       "      <td>-0.012178</td>\n",
       "      <td>-0.014440</td>\n",
       "    </tr>\n",
       "    <tr>\n",
       "      <th>Caucasian</th>\n",
       "      <td>-0.877588</td>\n",
       "      <td>-0.152646</td>\n",
       "      <td>1.000000</td>\n",
       "      <td>-0.256147</td>\n",
       "      <td>0.031465</td>\n",
       "    </tr>\n",
       "    <tr>\n",
       "      <th>Hispanic</th>\n",
       "      <td>-0.070015</td>\n",
       "      <td>-0.012178</td>\n",
       "      <td>-0.256147</td>\n",
       "      <td>1.000000</td>\n",
       "      <td>-0.024909</td>\n",
       "    </tr>\n",
       "    <tr>\n",
       "      <th>readmitted</th>\n",
       "      <td>-0.016258</td>\n",
       "      <td>-0.014440</td>\n",
       "      <td>0.031465</td>\n",
       "      <td>-0.024909</td>\n",
       "      <td>1.000000</td>\n",
       "    </tr>\n",
       "  </tbody>\n",
       "</table>\n",
       "</div>"
      ],
      "text/plain": [
       "                 AfricanAmerican     Asian  Caucasian  Hispanic  readmitted\n",
       "AfricanAmerican         1.000000 -0.041724  -0.877588 -0.070015   -0.016258\n",
       "Asian                  -0.041724  1.000000  -0.152646 -0.012178   -0.014440\n",
       "Caucasian              -0.877588 -0.152646   1.000000 -0.256147    0.031465\n",
       "Hispanic               -0.070015 -0.012178  -0.256147  1.000000   -0.024909\n",
       "readmitted             -0.016258 -0.014440   0.031465 -0.024909    1.000000"
      ]
     },
     "execution_count": 57,
     "metadata": {},
     "output_type": "execute_result"
    }
   ],
   "source": [
    "training_df.select('AfricanAmerican','Asian','Caucasian','Hispanic','readmitted').toPandas().corr()"
   ]
  },
  {
   "cell_type": "markdown",
   "metadata": {},
   "source": [
    "## Best features after EDA"
   ]
  },
  {
   "cell_type": "code",
   "execution_count": 60,
   "metadata": {},
   "outputs": [],
   "source": [
    "# training_df.select('time_in_hospital','number_emergency_log',\n",
    "#                                          'total_visits_log',\n",
    "#                                          'number_diagnoses','age','glipizide_index','glyburide_index','insulin_index',\n",
    "#                    'Caucasian','Asian','AfricanAmerican','diag1_Circulatory','diag2_Circulatory','diag3_Circulatory',\n",
    "#                    'diag1_Diabetes','diag2_Diabetes','diag3_Diabetes','age','admission_source_id','admission_type_id',\n",
    "#                    'num_lab_procedures','readmitted').toPandas().corr()"
   ]
  },
  {
   "cell_type": "code",
   "execution_count": 59,
   "metadata": {},
   "outputs": [
    {
     "data": {
      "text/html": [
       "<div>\n",
       "<style scoped>\n",
       "    .dataframe tbody tr th:only-of-type {\n",
       "        vertical-align: middle;\n",
       "    }\n",
       "\n",
       "    .dataframe tbody tr th {\n",
       "        vertical-align: top;\n",
       "    }\n",
       "\n",
       "    .dataframe thead th {\n",
       "        text-align: right;\n",
       "    }\n",
       "</style>\n",
       "<table border=\"1\" class=\"dataframe\">\n",
       "  <thead>\n",
       "    <tr style=\"text-align: right;\">\n",
       "      <th></th>\n",
       "      <th>time_in_hospital</th>\n",
       "      <th>number_emergency_log</th>\n",
       "      <th>num_procedures</th>\n",
       "      <th>num_lab_procedures</th>\n",
       "      <th>total_visits_log</th>\n",
       "      <th>num_medications</th>\n",
       "      <th>number_diagnoses</th>\n",
       "      <th>age</th>\n",
       "      <th>admission_source_id</th>\n",
       "      <th>discharge_disposition_id</th>\n",
       "      <th>admission_type_id</th>\n",
       "      <th>readmitted</th>\n",
       "    </tr>\n",
       "  </thead>\n",
       "  <tbody>\n",
       "    <tr>\n",
       "      <th>time_in_hospital</th>\n",
       "      <td>1.000000</td>\n",
       "      <td>0.001962</td>\n",
       "      <td>0.183869</td>\n",
       "      <td>0.340074</td>\n",
       "      <td>0.028749</td>\n",
       "      <td>0.466317</td>\n",
       "      <td>0.228444</td>\n",
       "      <td>0.119593</td>\n",
       "      <td>0.026051</td>\n",
       "      <td>0.183079</td>\n",
       "      <td>-0.020701</td>\n",
       "      <td>0.053490</td>\n",
       "    </tr>\n",
       "    <tr>\n",
       "      <th>number_emergency_log</th>\n",
       "      <td>0.001962</td>\n",
       "      <td>1.000000</td>\n",
       "      <td>-0.044981</td>\n",
       "      <td>0.034975</td>\n",
       "      <td>0.195497</td>\n",
       "      <td>0.011868</td>\n",
       "      <td>0.070623</td>\n",
       "      <td>-0.045093</td>\n",
       "      <td>0.065733</td>\n",
       "      <td>-0.033569</td>\n",
       "      <td>-0.044051</td>\n",
       "      <td>0.099970</td>\n",
       "    </tr>\n",
       "    <tr>\n",
       "      <th>num_procedures</th>\n",
       "      <td>0.183869</td>\n",
       "      <td>-0.044981</td>\n",
       "      <td>1.000000</td>\n",
       "      <td>0.025742</td>\n",
       "      <td>-0.042134</td>\n",
       "      <td>0.398548</td>\n",
       "      <td>0.058333</td>\n",
       "      <td>-0.034590</td>\n",
       "      <td>-0.221829</td>\n",
       "      <td>0.026855</td>\n",
       "      <td>0.257048</td>\n",
       "      <td>-0.035525</td>\n",
       "    </tr>\n",
       "    <tr>\n",
       "      <th>num_lab_procedures</th>\n",
       "      <td>0.340074</td>\n",
       "      <td>0.034975</td>\n",
       "      <td>0.025742</td>\n",
       "      <td>1.000000</td>\n",
       "      <td>0.047090</td>\n",
       "      <td>0.263186</td>\n",
       "      <td>0.169331</td>\n",
       "      <td>0.040275</td>\n",
       "      <td>0.259396</td>\n",
       "      <td>0.039871</td>\n",
       "      <td>-0.282436</td>\n",
       "      <td>0.037499</td>\n",
       "    </tr>\n",
       "    <tr>\n",
       "      <th>total_visits_log</th>\n",
       "      <td>0.028749</td>\n",
       "      <td>0.195497</td>\n",
       "      <td>-0.042134</td>\n",
       "      <td>0.047090</td>\n",
       "      <td>1.000000</td>\n",
       "      <td>0.043008</td>\n",
       "      <td>0.124229</td>\n",
       "      <td>0.040916</td>\n",
       "      <td>-0.007898</td>\n",
       "      <td>-0.037566</td>\n",
       "      <td>-0.016934</td>\n",
       "      <td>0.153951</td>\n",
       "    </tr>\n",
       "    <tr>\n",
       "      <th>num_medications</th>\n",
       "      <td>0.466317</td>\n",
       "      <td>0.011868</td>\n",
       "      <td>0.398548</td>\n",
       "      <td>0.263186</td>\n",
       "      <td>0.043008</td>\n",
       "      <td>1.000000</td>\n",
       "      <td>0.233225</td>\n",
       "      <td>0.033155</td>\n",
       "      <td>-0.141091</td>\n",
       "      <td>0.139293</td>\n",
       "      <td>0.166752</td>\n",
       "      <td>0.027315</td>\n",
       "    </tr>\n",
       "    <tr>\n",
       "      <th>number_diagnoses</th>\n",
       "      <td>0.228444</td>\n",
       "      <td>0.070623</td>\n",
       "      <td>0.058333</td>\n",
       "      <td>0.169331</td>\n",
       "      <td>0.124229</td>\n",
       "      <td>0.233225</td>\n",
       "      <td>1.000000</td>\n",
       "      <td>0.212787</td>\n",
       "      <td>0.123196</td>\n",
       "      <td>0.040118</td>\n",
       "      <td>-0.109210</td>\n",
       "      <td>0.106221</td>\n",
       "    </tr>\n",
       "    <tr>\n",
       "      <th>age</th>\n",
       "      <td>0.119593</td>\n",
       "      <td>-0.045093</td>\n",
       "      <td>-0.034590</td>\n",
       "      <td>0.040275</td>\n",
       "      <td>0.040916</td>\n",
       "      <td>0.033155</td>\n",
       "      <td>0.212787</td>\n",
       "      <td>1.000000</td>\n",
       "      <td>0.049896</td>\n",
       "      <td>0.129961</td>\n",
       "      <td>-0.044088</td>\n",
       "      <td>0.062097</td>\n",
       "    </tr>\n",
       "    <tr>\n",
       "      <th>admission_source_id</th>\n",
       "      <td>0.026051</td>\n",
       "      <td>0.065733</td>\n",
       "      <td>-0.221829</td>\n",
       "      <td>0.259396</td>\n",
       "      <td>-0.007898</td>\n",
       "      <td>-0.141091</td>\n",
       "      <td>0.123196</td>\n",
       "      <td>0.049896</td>\n",
       "      <td>1.000000</td>\n",
       "      <td>-0.006267</td>\n",
       "      <td>-0.789093</td>\n",
       "      <td>0.046929</td>\n",
       "    </tr>\n",
       "    <tr>\n",
       "      <th>discharge_disposition_id</th>\n",
       "      <td>0.183079</td>\n",
       "      <td>-0.033569</td>\n",
       "      <td>0.026855</td>\n",
       "      <td>0.039871</td>\n",
       "      <td>-0.037566</td>\n",
       "      <td>0.139293</td>\n",
       "      <td>0.040118</td>\n",
       "      <td>0.129961</td>\n",
       "      <td>-0.006267</td>\n",
       "      <td>1.000000</td>\n",
       "      <td>0.013801</td>\n",
       "      <td>-0.016540</td>\n",
       "    </tr>\n",
       "    <tr>\n",
       "      <th>admission_type_id</th>\n",
       "      <td>-0.020701</td>\n",
       "      <td>-0.044051</td>\n",
       "      <td>0.257048</td>\n",
       "      <td>-0.282436</td>\n",
       "      <td>-0.016934</td>\n",
       "      <td>0.166752</td>\n",
       "      <td>-0.109210</td>\n",
       "      <td>-0.044088</td>\n",
       "      <td>-0.789093</td>\n",
       "      <td>0.013801</td>\n",
       "      <td>1.000000</td>\n",
       "      <td>-0.043535</td>\n",
       "    </tr>\n",
       "    <tr>\n",
       "      <th>readmitted</th>\n",
       "      <td>0.053490</td>\n",
       "      <td>0.099970</td>\n",
       "      <td>-0.035525</td>\n",
       "      <td>0.037499</td>\n",
       "      <td>0.153951</td>\n",
       "      <td>0.027315</td>\n",
       "      <td>0.106221</td>\n",
       "      <td>0.062097</td>\n",
       "      <td>0.046929</td>\n",
       "      <td>-0.016540</td>\n",
       "      <td>-0.043535</td>\n",
       "      <td>1.000000</td>\n",
       "    </tr>\n",
       "  </tbody>\n",
       "</table>\n",
       "</div>"
      ],
      "text/plain": [
       "                          time_in_hospital  number_emergency_log  \\\n",
       "time_in_hospital                  1.000000              0.001962   \n",
       "number_emergency_log              0.001962              1.000000   \n",
       "num_procedures                    0.183869             -0.044981   \n",
       "num_lab_procedures                0.340074              0.034975   \n",
       "total_visits_log                  0.028749              0.195497   \n",
       "num_medications                   0.466317              0.011868   \n",
       "number_diagnoses                  0.228444              0.070623   \n",
       "age                               0.119593             -0.045093   \n",
       "admission_source_id               0.026051              0.065733   \n",
       "discharge_disposition_id          0.183079             -0.033569   \n",
       "admission_type_id                -0.020701             -0.044051   \n",
       "readmitted                        0.053490              0.099970   \n",
       "\n",
       "                          num_procedures  num_lab_procedures  \\\n",
       "time_in_hospital                0.183869            0.340074   \n",
       "number_emergency_log           -0.044981            0.034975   \n",
       "num_procedures                  1.000000            0.025742   \n",
       "num_lab_procedures              0.025742            1.000000   \n",
       "total_visits_log               -0.042134            0.047090   \n",
       "num_medications                 0.398548            0.263186   \n",
       "number_diagnoses                0.058333            0.169331   \n",
       "age                            -0.034590            0.040275   \n",
       "admission_source_id            -0.221829            0.259396   \n",
       "discharge_disposition_id        0.026855            0.039871   \n",
       "admission_type_id               0.257048           -0.282436   \n",
       "readmitted                     -0.035525            0.037499   \n",
       "\n",
       "                          total_visits_log  num_medications  number_diagnoses  \\\n",
       "time_in_hospital                  0.028749         0.466317          0.228444   \n",
       "number_emergency_log              0.195497         0.011868          0.070623   \n",
       "num_procedures                   -0.042134         0.398548          0.058333   \n",
       "num_lab_procedures                0.047090         0.263186          0.169331   \n",
       "total_visits_log                  1.000000         0.043008          0.124229   \n",
       "num_medications                   0.043008         1.000000          0.233225   \n",
       "number_diagnoses                  0.124229         0.233225          1.000000   \n",
       "age                               0.040916         0.033155          0.212787   \n",
       "admission_source_id              -0.007898        -0.141091          0.123196   \n",
       "discharge_disposition_id         -0.037566         0.139293          0.040118   \n",
       "admission_type_id                -0.016934         0.166752         -0.109210   \n",
       "readmitted                        0.153951         0.027315          0.106221   \n",
       "\n",
       "                               age  admission_source_id  \\\n",
       "time_in_hospital          0.119593             0.026051   \n",
       "number_emergency_log     -0.045093             0.065733   \n",
       "num_procedures           -0.034590            -0.221829   \n",
       "num_lab_procedures        0.040275             0.259396   \n",
       "total_visits_log          0.040916            -0.007898   \n",
       "num_medications           0.033155            -0.141091   \n",
       "number_diagnoses          0.212787             0.123196   \n",
       "age                       1.000000             0.049896   \n",
       "admission_source_id       0.049896             1.000000   \n",
       "discharge_disposition_id  0.129961            -0.006267   \n",
       "admission_type_id        -0.044088            -0.789093   \n",
       "readmitted                0.062097             0.046929   \n",
       "\n",
       "                          discharge_disposition_id  admission_type_id  \\\n",
       "time_in_hospital                          0.183079          -0.020701   \n",
       "number_emergency_log                     -0.033569          -0.044051   \n",
       "num_procedures                            0.026855           0.257048   \n",
       "num_lab_procedures                        0.039871          -0.282436   \n",
       "total_visits_log                         -0.037566          -0.016934   \n",
       "num_medications                           0.139293           0.166752   \n",
       "number_diagnoses                          0.040118          -0.109210   \n",
       "age                                       0.129961          -0.044088   \n",
       "admission_source_id                      -0.006267          -0.789093   \n",
       "discharge_disposition_id                  1.000000           0.013801   \n",
       "admission_type_id                         0.013801           1.000000   \n",
       "readmitted                               -0.016540          -0.043535   \n",
       "\n",
       "                          readmitted  \n",
       "time_in_hospital            0.053490  \n",
       "number_emergency_log        0.099970  \n",
       "num_procedures             -0.035525  \n",
       "num_lab_procedures          0.037499  \n",
       "total_visits_log            0.153951  \n",
       "num_medications             0.027315  \n",
       "number_diagnoses            0.106221  \n",
       "age                         0.062097  \n",
       "admission_source_id         0.046929  \n",
       "discharge_disposition_id   -0.016540  \n",
       "admission_type_id          -0.043535  \n",
       "readmitted                  1.000000  "
      ]
     },
     "execution_count": 59,
     "metadata": {},
     "output_type": "execute_result"
    }
   ],
   "source": [
    "training_df.select('time_in_hospital','number_emergency_log','num_procedures','num_lab_procedures',\n",
    "                                         'total_visits_log','num_medications',\n",
    "                                         'number_diagnoses','age','admission_source_id','discharge_disposition_id',\n",
    "                'admission_type_id','readmitted').toPandas().corr()\n",
    "\n"
   ]
  },
  {
   "cell_type": "code",
   "execution_count": 85,
   "metadata": {},
   "outputs": [],
   "source": [
    "# sns.heatmap(training_df.select('admission_source_id','time_in_hospital','number_emergency_log',\n",
    "#                                         'total_visits_log','num_procedures','num_medications',\n",
    "#                                         'number_diagnoses','num_lab_procedures','age','readmitted').toPandas().corr(),square=True,cmap='RdYlGn')"
   ]
  },
  {
   "cell_type": "code",
   "execution_count": 69,
   "metadata": {
    "scrolled": true
   },
   "outputs": [
    {
     "data": {
      "text/html": [
       "<div>\n",
       "<style scoped>\n",
       "    .dataframe tbody tr th:only-of-type {\n",
       "        vertical-align: middle;\n",
       "    }\n",
       "\n",
       "    .dataframe tbody tr th {\n",
       "        vertical-align: top;\n",
       "    }\n",
       "\n",
       "    .dataframe thead th {\n",
       "        text-align: right;\n",
       "    }\n",
       "</style>\n",
       "<table border=\"1\" class=\"dataframe\">\n",
       "  <thead>\n",
       "    <tr style=\"text-align: right;\">\n",
       "      <th></th>\n",
       "      <th>metformin_index</th>\n",
       "      <th>glipizide_index</th>\n",
       "      <th>glimepiride_index</th>\n",
       "      <th>glyburide_index</th>\n",
       "      <th>rosiglitazone_index</th>\n",
       "      <th>insulin_index</th>\n",
       "      <th>readmitted</th>\n",
       "    </tr>\n",
       "  </thead>\n",
       "  <tbody>\n",
       "    <tr>\n",
       "      <th>metformin_index</th>\n",
       "      <td>1.000000</td>\n",
       "      <td>0.070103</td>\n",
       "      <td>0.040839</td>\n",
       "      <td>0.142588</td>\n",
       "      <td>0.100818</td>\n",
       "      <td>-0.015594</td>\n",
       "      <td>-0.013139</td>\n",
       "    </tr>\n",
       "    <tr>\n",
       "      <th>glipizide_index</th>\n",
       "      <td>0.070103</td>\n",
       "      <td>1.000000</td>\n",
       "      <td>-0.064131</td>\n",
       "      <td>-0.093282</td>\n",
       "      <td>0.052849</td>\n",
       "      <td>-0.019949</td>\n",
       "      <td>0.034719</td>\n",
       "    </tr>\n",
       "    <tr>\n",
       "      <th>glimepiride_index</th>\n",
       "      <td>0.040839</td>\n",
       "      <td>-0.064131</td>\n",
       "      <td>1.000000</td>\n",
       "      <td>-0.064650</td>\n",
       "      <td>0.043464</td>\n",
       "      <td>0.005651</td>\n",
       "      <td>0.005451</td>\n",
       "    </tr>\n",
       "    <tr>\n",
       "      <th>glyburide_index</th>\n",
       "      <td>0.142588</td>\n",
       "      <td>-0.093282</td>\n",
       "      <td>-0.064650</td>\n",
       "      <td>1.000000</td>\n",
       "      <td>0.035099</td>\n",
       "      <td>-0.068701</td>\n",
       "      <td>0.021065</td>\n",
       "    </tr>\n",
       "    <tr>\n",
       "      <th>rosiglitazone_index</th>\n",
       "      <td>0.100818</td>\n",
       "      <td>0.052849</td>\n",
       "      <td>0.043464</td>\n",
       "      <td>0.035099</td>\n",
       "      <td>1.000000</td>\n",
       "      <td>0.009501</td>\n",
       "      <td>0.013638</td>\n",
       "    </tr>\n",
       "    <tr>\n",
       "      <th>insulin_index</th>\n",
       "      <td>-0.015594</td>\n",
       "      <td>-0.019949</td>\n",
       "      <td>0.005651</td>\n",
       "      <td>-0.068701</td>\n",
       "      <td>0.009501</td>\n",
       "      <td>1.000000</td>\n",
       "      <td>0.042633</td>\n",
       "    </tr>\n",
       "    <tr>\n",
       "      <th>readmitted</th>\n",
       "      <td>-0.013139</td>\n",
       "      <td>0.034719</td>\n",
       "      <td>0.005451</td>\n",
       "      <td>0.021065</td>\n",
       "      <td>0.013638</td>\n",
       "      <td>0.042633</td>\n",
       "      <td>1.000000</td>\n",
       "    </tr>\n",
       "  </tbody>\n",
       "</table>\n",
       "</div>"
      ],
      "text/plain": [
       "                     metformin_index  glipizide_index  glimepiride_index  \\\n",
       "metformin_index             1.000000         0.070103           0.040839   \n",
       "glipizide_index             0.070103         1.000000          -0.064131   \n",
       "glimepiride_index           0.040839        -0.064131           1.000000   \n",
       "glyburide_index             0.142588        -0.093282          -0.064650   \n",
       "rosiglitazone_index         0.100818         0.052849           0.043464   \n",
       "insulin_index              -0.015594        -0.019949           0.005651   \n",
       "readmitted                 -0.013139         0.034719           0.005451   \n",
       "\n",
       "                     glyburide_index  rosiglitazone_index  insulin_index  \\\n",
       "metformin_index             0.142588             0.100818      -0.015594   \n",
       "glipizide_index            -0.093282             0.052849      -0.019949   \n",
       "glimepiride_index          -0.064650             0.043464       0.005651   \n",
       "glyburide_index             1.000000             0.035099      -0.068701   \n",
       "rosiglitazone_index         0.035099             1.000000       0.009501   \n",
       "insulin_index              -0.068701             0.009501       1.000000   \n",
       "readmitted                  0.021065             0.013638       0.042633   \n",
       "\n",
       "                     readmitted  \n",
       "metformin_index       -0.013139  \n",
       "glipizide_index        0.034719  \n",
       "glimepiride_index      0.005451  \n",
       "glyburide_index        0.021065  \n",
       "rosiglitazone_index    0.013638  \n",
       "insulin_index          0.042633  \n",
       "readmitted             1.000000  "
      ]
     },
     "execution_count": 69,
     "metadata": {},
     "output_type": "execute_result"
    }
   ],
   "source": [
    "# training_df.select('metformin_index','glipizide_index','glimepiride_index',\n",
    "#       'glyburide_index','rosiglitazone_index','insulin_index','readmitted').toPandas().corr()"
   ]
  },
  {
   "cell_type": "code",
   "execution_count": 70,
   "metadata": {},
   "outputs": [
    {
     "data": {
      "text/html": [
       "<div>\n",
       "<style scoped>\n",
       "    .dataframe tbody tr th:only-of-type {\n",
       "        vertical-align: middle;\n",
       "    }\n",
       "\n",
       "    .dataframe tbody tr th {\n",
       "        vertical-align: top;\n",
       "    }\n",
       "\n",
       "    .dataframe thead th {\n",
       "        text-align: right;\n",
       "    }\n",
       "</style>\n",
       "<table border=\"1\" class=\"dataframe\">\n",
       "  <thead>\n",
       "    <tr style=\"text-align: right;\">\n",
       "      <th></th>\n",
       "      <th>diag1_Circulatory</th>\n",
       "      <th>diag1_Respiratory</th>\n",
       "      <th>diag1_Digestive</th>\n",
       "      <th>diag1_Diabetes</th>\n",
       "      <th>diag1_Injury</th>\n",
       "      <th>diag1_Musculoskeletal</th>\n",
       "      <th>diag1_Genitourinary</th>\n",
       "      <th>diag1_Neoplasms</th>\n",
       "      <th>diag2_Circulatory</th>\n",
       "      <th>diag2_Respiratory</th>\n",
       "      <th>...</th>\n",
       "      <th>diag2_Neoplasms</th>\n",
       "      <th>diag3_Circulatory</th>\n",
       "      <th>diag3_Respiratory</th>\n",
       "      <th>diag3_Digestive</th>\n",
       "      <th>diag3_Diabetes</th>\n",
       "      <th>diag3_Injury</th>\n",
       "      <th>diag3_Musculoskeletal</th>\n",
       "      <th>diag3_Genitourinary</th>\n",
       "      <th>diag3_Neoplasms</th>\n",
       "      <th>readmitted</th>\n",
       "    </tr>\n",
       "  </thead>\n",
       "  <tbody>\n",
       "    <tr>\n",
       "      <th>diag1_Circulatory</th>\n",
       "      <td>1.000000</td>\n",
       "      <td>-0.278460</td>\n",
       "      <td>-0.221717</td>\n",
       "      <td>-0.198651</td>\n",
       "      <td>-0.170360</td>\n",
       "      <td>-0.170220</td>\n",
       "      <td>-0.161744</td>\n",
       "      <td>-0.282367</td>\n",
       "      <td>0.308351</td>\n",
       "      <td>-0.005950</td>\n",
       "      <td>...</td>\n",
       "      <td>-0.163392</td>\n",
       "      <td>0.179697</td>\n",
       "      <td>0.016222</td>\n",
       "      <td>-0.082717</td>\n",
       "      <td>0.014107</td>\n",
       "      <td>-0.030894</td>\n",
       "      <td>-0.054365</td>\n",
       "      <td>-0.029785</td>\n",
       "      <td>-0.090995</td>\n",
       "      <td>0.025760</td>\n",
       "    </tr>\n",
       "    <tr>\n",
       "      <th>diag1_Respiratory</th>\n",
       "      <td>-0.278460</td>\n",
       "      <td>1.000000</td>\n",
       "      <td>-0.129013</td>\n",
       "      <td>-0.115591</td>\n",
       "      <td>-0.099129</td>\n",
       "      <td>-0.099048</td>\n",
       "      <td>-0.094116</td>\n",
       "      <td>-0.164304</td>\n",
       "      <td>-0.015104</td>\n",
       "      <td>0.170022</td>\n",
       "      <td>...</td>\n",
       "      <td>-0.034648</td>\n",
       "      <td>0.007101</td>\n",
       "      <td>0.060285</td>\n",
       "      <td>-0.026035</td>\n",
       "      <td>0.033405</td>\n",
       "      <td>-0.035510</td>\n",
       "      <td>-0.011786</td>\n",
       "      <td>-0.028281</td>\n",
       "      <td>-0.017077</td>\n",
       "      <td>0.009786</td>\n",
       "    </tr>\n",
       "    <tr>\n",
       "      <th>diag1_Digestive</th>\n",
       "      <td>-0.221717</td>\n",
       "      <td>-0.129013</td>\n",
       "      <td>1.000000</td>\n",
       "      <td>-0.092037</td>\n",
       "      <td>-0.078929</td>\n",
       "      <td>-0.078865</td>\n",
       "      <td>-0.074938</td>\n",
       "      <td>-0.130823</td>\n",
       "      <td>-0.100291</td>\n",
       "      <td>-0.032419</td>\n",
       "      <td>...</td>\n",
       "      <td>-0.006045</td>\n",
       "      <td>-0.053834</td>\n",
       "      <td>-0.012926</td>\n",
       "      <td>0.163856</td>\n",
       "      <td>0.007138</td>\n",
       "      <td>-0.017593</td>\n",
       "      <td>-0.026875</td>\n",
       "      <td>-0.017307</td>\n",
       "      <td>-0.005625</td>\n",
       "      <td>-0.007412</td>\n",
       "    </tr>\n",
       "    <tr>\n",
       "      <th>diag1_Diabetes</th>\n",
       "      <td>-0.198651</td>\n",
       "      <td>-0.115591</td>\n",
       "      <td>-0.092037</td>\n",
       "      <td>1.000000</td>\n",
       "      <td>-0.070718</td>\n",
       "      <td>-0.070660</td>\n",
       "      <td>-0.067142</td>\n",
       "      <td>-0.117213</td>\n",
       "      <td>-0.065555</td>\n",
       "      <td>-0.046247</td>\n",
       "      <td>...</td>\n",
       "      <td>0.202947</td>\n",
       "      <td>-0.051225</td>\n",
       "      <td>-0.025911</td>\n",
       "      <td>0.023712</td>\n",
       "      <td>-0.117463</td>\n",
       "      <td>-0.017863</td>\n",
       "      <td>0.055043</td>\n",
       "      <td>0.004165</td>\n",
       "      <td>0.140165</td>\n",
       "      <td>0.018972</td>\n",
       "    </tr>\n",
       "    <tr>\n",
       "      <th>diag1_Injury</th>\n",
       "      <td>-0.170360</td>\n",
       "      <td>-0.099129</td>\n",
       "      <td>-0.078929</td>\n",
       "      <td>-0.070718</td>\n",
       "      <td>1.000000</td>\n",
       "      <td>-0.060597</td>\n",
       "      <td>-0.057580</td>\n",
       "      <td>-0.100520</td>\n",
       "      <td>-0.035107</td>\n",
       "      <td>-0.031420</td>\n",
       "      <td>...</td>\n",
       "      <td>-0.006170</td>\n",
       "      <td>-0.018459</td>\n",
       "      <td>-0.009741</td>\n",
       "      <td>-0.020995</td>\n",
       "      <td>-0.007143</td>\n",
       "      <td>0.145313</td>\n",
       "      <td>0.002127</td>\n",
       "      <td>0.006733</td>\n",
       "      <td>-0.011293</td>\n",
       "      <td>-0.010670</td>\n",
       "    </tr>\n",
       "    <tr>\n",
       "      <th>diag1_Musculoskeletal</th>\n",
       "      <td>-0.170220</td>\n",
       "      <td>-0.099048</td>\n",
       "      <td>-0.078865</td>\n",
       "      <td>-0.070660</td>\n",
       "      <td>-0.060597</td>\n",
       "      <td>1.000000</td>\n",
       "      <td>-0.057533</td>\n",
       "      <td>-0.100438</td>\n",
       "      <td>-0.041063</td>\n",
       "      <td>-0.024767</td>\n",
       "      <td>...</td>\n",
       "      <td>-0.044866</td>\n",
       "      <td>-0.019570</td>\n",
       "      <td>-0.032765</td>\n",
       "      <td>-0.018380</td>\n",
       "      <td>0.053951</td>\n",
       "      <td>0.018579</td>\n",
       "      <td>0.118719</td>\n",
       "      <td>-0.024042</td>\n",
       "      <td>-0.031186</td>\n",
       "      <td>-0.017081</td>\n",
       "    </tr>\n",
       "    <tr>\n",
       "      <th>diag1_Genitourinary</th>\n",
       "      <td>-0.161744</td>\n",
       "      <td>-0.094116</td>\n",
       "      <td>-0.074938</td>\n",
       "      <td>-0.067142</td>\n",
       "      <td>-0.057580</td>\n",
       "      <td>-0.057533</td>\n",
       "      <td>1.000000</td>\n",
       "      <td>-0.095437</td>\n",
       "      <td>-0.069233</td>\n",
       "      <td>-0.041671</td>\n",
       "      <td>...</td>\n",
       "      <td>0.088544</td>\n",
       "      <td>-0.042303</td>\n",
       "      <td>-0.018987</td>\n",
       "      <td>-0.014998</td>\n",
       "      <td>-0.014590</td>\n",
       "      <td>-0.017356</td>\n",
       "      <td>-0.013060</td>\n",
       "      <td>0.097957</td>\n",
       "      <td>0.038745</td>\n",
       "      <td>-0.011435</td>\n",
       "    </tr>\n",
       "    <tr>\n",
       "      <th>diag1_Neoplasms</th>\n",
       "      <td>-0.282367</td>\n",
       "      <td>-0.164304</td>\n",
       "      <td>-0.130823</td>\n",
       "      <td>-0.117213</td>\n",
       "      <td>-0.100520</td>\n",
       "      <td>-0.100438</td>\n",
       "      <td>-0.095437</td>\n",
       "      <td>1.000000</td>\n",
       "      <td>-0.113004</td>\n",
       "      <td>-0.011311</td>\n",
       "      <td>...</td>\n",
       "      <td>0.097464</td>\n",
       "      <td>-0.068348</td>\n",
       "      <td>-0.001198</td>\n",
       "      <td>0.012413</td>\n",
       "      <td>-0.010803</td>\n",
       "      <td>0.021380</td>\n",
       "      <td>-0.004738</td>\n",
       "      <td>0.042839</td>\n",
       "      <td>0.058498</td>\n",
       "      <td>-0.017050</td>\n",
       "    </tr>\n",
       "    <tr>\n",
       "      <th>diag2_Circulatory</th>\n",
       "      <td>0.308351</td>\n",
       "      <td>-0.015104</td>\n",
       "      <td>-0.100291</td>\n",
       "      <td>-0.065555</td>\n",
       "      <td>-0.035107</td>\n",
       "      <td>-0.041063</td>\n",
       "      <td>-0.069233</td>\n",
       "      <td>-0.113004</td>\n",
       "      <td>1.000000</td>\n",
       "      <td>-0.242694</td>\n",
       "      <td>...</td>\n",
       "      <td>-0.336879</td>\n",
       "      <td>0.094604</td>\n",
       "      <td>0.018212</td>\n",
       "      <td>-0.072718</td>\n",
       "      <td>0.105156</td>\n",
       "      <td>-0.025680</td>\n",
       "      <td>-0.048670</td>\n",
       "      <td>-0.008204</td>\n",
       "      <td>-0.091534</td>\n",
       "      <td>0.032051</td>\n",
       "    </tr>\n",
       "    <tr>\n",
       "      <th>diag2_Respiratory</th>\n",
       "      <td>-0.005950</td>\n",
       "      <td>0.170022</td>\n",
       "      <td>-0.032419</td>\n",
       "      <td>-0.046247</td>\n",
       "      <td>-0.031420</td>\n",
       "      <td>-0.024767</td>\n",
       "      <td>-0.041671</td>\n",
       "      <td>-0.011311</td>\n",
       "      <td>-0.242694</td>\n",
       "      <td>1.000000</td>\n",
       "      <td>...</td>\n",
       "      <td>-0.166809</td>\n",
       "      <td>0.010562</td>\n",
       "      <td>0.073505</td>\n",
       "      <td>-0.021990</td>\n",
       "      <td>-0.004814</td>\n",
       "      <td>-0.014416</td>\n",
       "      <td>-0.008297</td>\n",
       "      <td>-0.014752</td>\n",
       "      <td>-0.015389</td>\n",
       "      <td>0.002907</td>\n",
       "    </tr>\n",
       "    <tr>\n",
       "      <th>diag2_Digestive</th>\n",
       "      <td>-0.110828</td>\n",
       "      <td>-0.040011</td>\n",
       "      <td>0.229532</td>\n",
       "      <td>0.004638</td>\n",
       "      <td>-0.013130</td>\n",
       "      <td>-0.028099</td>\n",
       "      <td>-0.019814</td>\n",
       "      <td>0.018191</td>\n",
       "      <td>-0.147700</td>\n",
       "      <td>-0.073135</td>\n",
       "      <td>...</td>\n",
       "      <td>-0.101518</td>\n",
       "      <td>-0.056934</td>\n",
       "      <td>-0.023927</td>\n",
       "      <td>0.136610</td>\n",
       "      <td>0.016863</td>\n",
       "      <td>-0.010187</td>\n",
       "      <td>-0.013933</td>\n",
       "      <td>-0.021775</td>\n",
       "      <td>-0.004627</td>\n",
       "      <td>-0.010471</td>\n",
       "    </tr>\n",
       "    <tr>\n",
       "      <th>diag2_Diabetes</th>\n",
       "      <td>-0.024704</td>\n",
       "      <td>0.029724</td>\n",
       "      <td>0.003112</td>\n",
       "      <td>-0.102329</td>\n",
       "      <td>-0.000254</td>\n",
       "      <td>0.062794</td>\n",
       "      <td>-0.000810</td>\n",
       "      <td>0.012963</td>\n",
       "      <td>-0.270357</td>\n",
       "      <td>-0.133870</td>\n",
       "      <td>...</td>\n",
       "      <td>-0.185823</td>\n",
       "      <td>0.093928</td>\n",
       "      <td>-0.037130</td>\n",
       "      <td>-0.005913</td>\n",
       "      <td>-0.155708</td>\n",
       "      <td>-0.023975</td>\n",
       "      <td>0.014894</td>\n",
       "      <td>-0.018039</td>\n",
       "      <td>0.034017</td>\n",
       "      <td>-0.019324</td>\n",
       "    </tr>\n",
       "    <tr>\n",
       "      <th>diag2_Injury</th>\n",
       "      <td>-0.024415</td>\n",
       "      <td>-0.048104</td>\n",
       "      <td>-0.013983</td>\n",
       "      <td>-0.031864</td>\n",
       "      <td>0.169959</td>\n",
       "      <td>0.034181</td>\n",
       "      <td>-0.015902</td>\n",
       "      <td>0.004868</td>\n",
       "      <td>-0.108105</td>\n",
       "      <td>-0.053529</td>\n",
       "      <td>...</td>\n",
       "      <td>-0.074303</td>\n",
       "      <td>-0.020194</td>\n",
       "      <td>-0.006784</td>\n",
       "      <td>0.026931</td>\n",
       "      <td>-0.013566</td>\n",
       "      <td>0.129692</td>\n",
       "      <td>0.001187</td>\n",
       "      <td>0.018779</td>\n",
       "      <td>-0.036071</td>\n",
       "      <td>-0.013204</td>\n",
       "    </tr>\n",
       "    <tr>\n",
       "      <th>diag2_Musculoskeletal</th>\n",
       "      <td>-0.059464</td>\n",
       "      <td>-0.023756</td>\n",
       "      <td>-0.028861</td>\n",
       "      <td>0.056252</td>\n",
       "      <td>0.006730</td>\n",
       "      <td>0.162210</td>\n",
       "      <td>-0.013642</td>\n",
       "      <td>-0.014707</td>\n",
       "      <td>-0.094633</td>\n",
       "      <td>-0.046859</td>\n",
       "      <td>...</td>\n",
       "      <td>-0.065044</td>\n",
       "      <td>-0.027144</td>\n",
       "      <td>-0.013116</td>\n",
       "      <td>-0.015705</td>\n",
       "      <td>0.017938</td>\n",
       "      <td>-0.002427</td>\n",
       "      <td>0.163831</td>\n",
       "      <td>-0.019351</td>\n",
       "      <td>-0.005173</td>\n",
       "      <td>-0.010020</td>\n",
       "    </tr>\n",
       "    <tr>\n",
       "      <th>diag2_Genitourinary</th>\n",
       "      <td>-0.047926</td>\n",
       "      <td>-0.034912</td>\n",
       "      <td>-0.012198</td>\n",
       "      <td>0.006122</td>\n",
       "      <td>0.002764</td>\n",
       "      <td>-0.024389</td>\n",
       "      <td>0.095702</td>\n",
       "      <td>0.064617</td>\n",
       "      <td>-0.208782</td>\n",
       "      <td>-0.103381</td>\n",
       "      <td>...</td>\n",
       "      <td>-0.143501</td>\n",
       "      <td>-0.024954</td>\n",
       "      <td>-0.008753</td>\n",
       "      <td>-0.002257</td>\n",
       "      <td>-0.038081</td>\n",
       "      <td>0.002187</td>\n",
       "      <td>-0.009568</td>\n",
       "      <td>0.082914</td>\n",
       "      <td>0.029042</td>\n",
       "      <td>0.004804</td>\n",
       "    </tr>\n",
       "    <tr>\n",
       "      <th>diag2_Neoplasms</th>\n",
       "      <td>-0.163392</td>\n",
       "      <td>-0.034648</td>\n",
       "      <td>-0.006045</td>\n",
       "      <td>0.202947</td>\n",
       "      <td>-0.006170</td>\n",
       "      <td>-0.044866</td>\n",
       "      <td>0.088544</td>\n",
       "      <td>0.097464</td>\n",
       "      <td>-0.336879</td>\n",
       "      <td>-0.166809</td>\n",
       "      <td>...</td>\n",
       "      <td>1.000000</td>\n",
       "      <td>-0.100004</td>\n",
       "      <td>-0.005593</td>\n",
       "      <td>0.012561</td>\n",
       "      <td>-0.001556</td>\n",
       "      <td>0.017972</td>\n",
       "      <td>0.006232</td>\n",
       "      <td>0.011613</td>\n",
       "      <td>0.108692</td>\n",
       "      <td>0.008559</td>\n",
       "    </tr>\n",
       "    <tr>\n",
       "      <th>diag3_Circulatory</th>\n",
       "      <td>0.179697</td>\n",
       "      <td>0.007101</td>\n",
       "      <td>-0.053834</td>\n",
       "      <td>-0.051225</td>\n",
       "      <td>-0.018459</td>\n",
       "      <td>-0.019570</td>\n",
       "      <td>-0.042303</td>\n",
       "      <td>-0.068348</td>\n",
       "      <td>0.094604</td>\n",
       "      <td>0.010562</td>\n",
       "      <td>...</td>\n",
       "      <td>-0.100004</td>\n",
       "      <td>1.000000</td>\n",
       "      <td>-0.194535</td>\n",
       "      <td>-0.141777</td>\n",
       "      <td>-0.324020</td>\n",
       "      <td>-0.103458</td>\n",
       "      <td>-0.098760</td>\n",
       "      <td>-0.180166</td>\n",
       "      <td>-0.330185</td>\n",
       "      <td>0.019807</td>\n",
       "    </tr>\n",
       "    <tr>\n",
       "      <th>diag3_Respiratory</th>\n",
       "      <td>0.016222</td>\n",
       "      <td>0.060285</td>\n",
       "      <td>-0.012926</td>\n",
       "      <td>-0.025911</td>\n",
       "      <td>-0.009741</td>\n",
       "      <td>-0.032765</td>\n",
       "      <td>-0.018987</td>\n",
       "      <td>-0.001198</td>\n",
       "      <td>0.018212</td>\n",
       "      <td>0.073505</td>\n",
       "      <td>...</td>\n",
       "      <td>-0.005593</td>\n",
       "      <td>-0.194535</td>\n",
       "      <td>1.000000</td>\n",
       "      <td>-0.058746</td>\n",
       "      <td>-0.134259</td>\n",
       "      <td>-0.042868</td>\n",
       "      <td>-0.040922</td>\n",
       "      <td>-0.074653</td>\n",
       "      <td>-0.136814</td>\n",
       "      <td>0.009503</td>\n",
       "    </tr>\n",
       "    <tr>\n",
       "      <th>diag3_Digestive</th>\n",
       "      <td>-0.082717</td>\n",
       "      <td>-0.026035</td>\n",
       "      <td>0.163856</td>\n",
       "      <td>0.023712</td>\n",
       "      <td>-0.020995</td>\n",
       "      <td>-0.018380</td>\n",
       "      <td>-0.014998</td>\n",
       "      <td>0.012413</td>\n",
       "      <td>-0.072718</td>\n",
       "      <td>-0.021990</td>\n",
       "      <td>...</td>\n",
       "      <td>0.012561</td>\n",
       "      <td>-0.141777</td>\n",
       "      <td>-0.058746</td>\n",
       "      <td>1.000000</td>\n",
       "      <td>-0.097848</td>\n",
       "      <td>-0.031242</td>\n",
       "      <td>-0.029824</td>\n",
       "      <td>-0.054407</td>\n",
       "      <td>-0.099709</td>\n",
       "      <td>0.003010</td>\n",
       "    </tr>\n",
       "    <tr>\n",
       "      <th>diag3_Diabetes</th>\n",
       "      <td>0.014107</td>\n",
       "      <td>0.033405</td>\n",
       "      <td>0.007138</td>\n",
       "      <td>-0.117463</td>\n",
       "      <td>-0.007143</td>\n",
       "      <td>0.053951</td>\n",
       "      <td>-0.014590</td>\n",
       "      <td>-0.010803</td>\n",
       "      <td>0.105156</td>\n",
       "      <td>-0.004814</td>\n",
       "      <td>...</td>\n",
       "      <td>-0.001556</td>\n",
       "      <td>-0.324020</td>\n",
       "      <td>-0.134259</td>\n",
       "      <td>-0.097848</td>\n",
       "      <td>1.000000</td>\n",
       "      <td>-0.071402</td>\n",
       "      <td>-0.068159</td>\n",
       "      <td>-0.124343</td>\n",
       "      <td>-0.227878</td>\n",
       "      <td>-0.015402</td>\n",
       "    </tr>\n",
       "    <tr>\n",
       "      <th>diag3_Injury</th>\n",
       "      <td>-0.030894</td>\n",
       "      <td>-0.035510</td>\n",
       "      <td>-0.017593</td>\n",
       "      <td>-0.017863</td>\n",
       "      <td>0.145313</td>\n",
       "      <td>0.018579</td>\n",
       "      <td>-0.017356</td>\n",
       "      <td>0.021380</td>\n",
       "      <td>-0.025680</td>\n",
       "      <td>-0.014416</td>\n",
       "      <td>...</td>\n",
       "      <td>0.017972</td>\n",
       "      <td>-0.103458</td>\n",
       "      <td>-0.042868</td>\n",
       "      <td>-0.031242</td>\n",
       "      <td>-0.071402</td>\n",
       "      <td>1.000000</td>\n",
       "      <td>-0.021763</td>\n",
       "      <td>-0.039702</td>\n",
       "      <td>-0.072760</td>\n",
       "      <td>-0.011605</td>\n",
       "    </tr>\n",
       "    <tr>\n",
       "      <th>diag3_Musculoskeletal</th>\n",
       "      <td>-0.054365</td>\n",
       "      <td>-0.011786</td>\n",
       "      <td>-0.026875</td>\n",
       "      <td>0.055043</td>\n",
       "      <td>0.002127</td>\n",
       "      <td>0.118719</td>\n",
       "      <td>-0.013060</td>\n",
       "      <td>-0.004738</td>\n",
       "      <td>-0.048670</td>\n",
       "      <td>-0.008297</td>\n",
       "      <td>...</td>\n",
       "      <td>0.006232</td>\n",
       "      <td>-0.098760</td>\n",
       "      <td>-0.040922</td>\n",
       "      <td>-0.029824</td>\n",
       "      <td>-0.068159</td>\n",
       "      <td>-0.021763</td>\n",
       "      <td>1.000000</td>\n",
       "      <td>-0.037899</td>\n",
       "      <td>-0.069456</td>\n",
       "      <td>-0.005562</td>\n",
       "    </tr>\n",
       "    <tr>\n",
       "      <th>diag3_Genitourinary</th>\n",
       "      <td>-0.029785</td>\n",
       "      <td>-0.028281</td>\n",
       "      <td>-0.017307</td>\n",
       "      <td>0.004165</td>\n",
       "      <td>0.006733</td>\n",
       "      <td>-0.024042</td>\n",
       "      <td>0.097957</td>\n",
       "      <td>0.042839</td>\n",
       "      <td>-0.008204</td>\n",
       "      <td>-0.014752</td>\n",
       "      <td>...</td>\n",
       "      <td>0.011613</td>\n",
       "      <td>-0.180166</td>\n",
       "      <td>-0.074653</td>\n",
       "      <td>-0.054407</td>\n",
       "      <td>-0.124343</td>\n",
       "      <td>-0.039702</td>\n",
       "      <td>-0.037899</td>\n",
       "      <td>1.000000</td>\n",
       "      <td>-0.126708</td>\n",
       "      <td>0.010309</td>\n",
       "    </tr>\n",
       "    <tr>\n",
       "      <th>diag3_Neoplasms</th>\n",
       "      <td>-0.090995</td>\n",
       "      <td>-0.017077</td>\n",
       "      <td>-0.005625</td>\n",
       "      <td>0.140165</td>\n",
       "      <td>-0.011293</td>\n",
       "      <td>-0.031186</td>\n",
       "      <td>0.038745</td>\n",
       "      <td>0.058498</td>\n",
       "      <td>-0.091534</td>\n",
       "      <td>-0.015389</td>\n",
       "      <td>...</td>\n",
       "      <td>0.108692</td>\n",
       "      <td>-0.330185</td>\n",
       "      <td>-0.136814</td>\n",
       "      <td>-0.099709</td>\n",
       "      <td>-0.227878</td>\n",
       "      <td>-0.072760</td>\n",
       "      <td>-0.069456</td>\n",
       "      <td>-0.126708</td>\n",
       "      <td>1.000000</td>\n",
       "      <td>-0.009990</td>\n",
       "    </tr>\n",
       "    <tr>\n",
       "      <th>readmitted</th>\n",
       "      <td>0.025760</td>\n",
       "      <td>0.009786</td>\n",
       "      <td>-0.007412</td>\n",
       "      <td>0.018972</td>\n",
       "      <td>-0.010670</td>\n",
       "      <td>-0.017081</td>\n",
       "      <td>-0.011435</td>\n",
       "      <td>-0.017050</td>\n",
       "      <td>0.032051</td>\n",
       "      <td>0.002907</td>\n",
       "      <td>...</td>\n",
       "      <td>0.008559</td>\n",
       "      <td>0.019807</td>\n",
       "      <td>0.009503</td>\n",
       "      <td>0.003010</td>\n",
       "      <td>-0.015402</td>\n",
       "      <td>-0.011605</td>\n",
       "      <td>-0.005562</td>\n",
       "      <td>0.010309</td>\n",
       "      <td>-0.009990</td>\n",
       "      <td>1.000000</td>\n",
       "    </tr>\n",
       "  </tbody>\n",
       "</table>\n",
       "<p>25 rows × 25 columns</p>\n",
       "</div>"
      ],
      "text/plain": [
       "                       diag1_Circulatory  diag1_Respiratory  diag1_Digestive  \\\n",
       "diag1_Circulatory               1.000000          -0.278460        -0.221717   \n",
       "diag1_Respiratory              -0.278460           1.000000        -0.129013   \n",
       "diag1_Digestive                -0.221717          -0.129013         1.000000   \n",
       "diag1_Diabetes                 -0.198651          -0.115591        -0.092037   \n",
       "diag1_Injury                   -0.170360          -0.099129        -0.078929   \n",
       "diag1_Musculoskeletal          -0.170220          -0.099048        -0.078865   \n",
       "diag1_Genitourinary            -0.161744          -0.094116        -0.074938   \n",
       "diag1_Neoplasms                -0.282367          -0.164304        -0.130823   \n",
       "diag2_Circulatory               0.308351          -0.015104        -0.100291   \n",
       "diag2_Respiratory              -0.005950           0.170022        -0.032419   \n",
       "diag2_Digestive                -0.110828          -0.040011         0.229532   \n",
       "diag2_Diabetes                 -0.024704           0.029724         0.003112   \n",
       "diag2_Injury                   -0.024415          -0.048104        -0.013983   \n",
       "diag2_Musculoskeletal          -0.059464          -0.023756        -0.028861   \n",
       "diag2_Genitourinary            -0.047926          -0.034912        -0.012198   \n",
       "diag2_Neoplasms                -0.163392          -0.034648        -0.006045   \n",
       "diag3_Circulatory               0.179697           0.007101        -0.053834   \n",
       "diag3_Respiratory               0.016222           0.060285        -0.012926   \n",
       "diag3_Digestive                -0.082717          -0.026035         0.163856   \n",
       "diag3_Diabetes                  0.014107           0.033405         0.007138   \n",
       "diag3_Injury                   -0.030894          -0.035510        -0.017593   \n",
       "diag3_Musculoskeletal          -0.054365          -0.011786        -0.026875   \n",
       "diag3_Genitourinary            -0.029785          -0.028281        -0.017307   \n",
       "diag3_Neoplasms                -0.090995          -0.017077        -0.005625   \n",
       "readmitted                      0.025760           0.009786        -0.007412   \n",
       "\n",
       "                       diag1_Diabetes  diag1_Injury  diag1_Musculoskeletal  \\\n",
       "diag1_Circulatory           -0.198651     -0.170360              -0.170220   \n",
       "diag1_Respiratory           -0.115591     -0.099129              -0.099048   \n",
       "diag1_Digestive             -0.092037     -0.078929              -0.078865   \n",
       "diag1_Diabetes               1.000000     -0.070718              -0.070660   \n",
       "diag1_Injury                -0.070718      1.000000              -0.060597   \n",
       "diag1_Musculoskeletal       -0.070660     -0.060597               1.000000   \n",
       "diag1_Genitourinary         -0.067142     -0.057580              -0.057533   \n",
       "diag1_Neoplasms             -0.117213     -0.100520              -0.100438   \n",
       "diag2_Circulatory           -0.065555     -0.035107              -0.041063   \n",
       "diag2_Respiratory           -0.046247     -0.031420              -0.024767   \n",
       "diag2_Digestive              0.004638     -0.013130              -0.028099   \n",
       "diag2_Diabetes              -0.102329     -0.000254               0.062794   \n",
       "diag2_Injury                -0.031864      0.169959               0.034181   \n",
       "diag2_Musculoskeletal        0.056252      0.006730               0.162210   \n",
       "diag2_Genitourinary          0.006122      0.002764              -0.024389   \n",
       "diag2_Neoplasms              0.202947     -0.006170              -0.044866   \n",
       "diag3_Circulatory           -0.051225     -0.018459              -0.019570   \n",
       "diag3_Respiratory           -0.025911     -0.009741              -0.032765   \n",
       "diag3_Digestive              0.023712     -0.020995              -0.018380   \n",
       "diag3_Diabetes              -0.117463     -0.007143               0.053951   \n",
       "diag3_Injury                -0.017863      0.145313               0.018579   \n",
       "diag3_Musculoskeletal        0.055043      0.002127               0.118719   \n",
       "diag3_Genitourinary          0.004165      0.006733              -0.024042   \n",
       "diag3_Neoplasms              0.140165     -0.011293              -0.031186   \n",
       "readmitted                   0.018972     -0.010670              -0.017081   \n",
       "\n",
       "                       diag1_Genitourinary  diag1_Neoplasms  \\\n",
       "diag1_Circulatory                -0.161744        -0.282367   \n",
       "diag1_Respiratory                -0.094116        -0.164304   \n",
       "diag1_Digestive                  -0.074938        -0.130823   \n",
       "diag1_Diabetes                   -0.067142        -0.117213   \n",
       "diag1_Injury                     -0.057580        -0.100520   \n",
       "diag1_Musculoskeletal            -0.057533        -0.100438   \n",
       "diag1_Genitourinary               1.000000        -0.095437   \n",
       "diag1_Neoplasms                  -0.095437         1.000000   \n",
       "diag2_Circulatory                -0.069233        -0.113004   \n",
       "diag2_Respiratory                -0.041671        -0.011311   \n",
       "diag2_Digestive                  -0.019814         0.018191   \n",
       "diag2_Diabetes                   -0.000810         0.012963   \n",
       "diag2_Injury                     -0.015902         0.004868   \n",
       "diag2_Musculoskeletal            -0.013642        -0.014707   \n",
       "diag2_Genitourinary               0.095702         0.064617   \n",
       "diag2_Neoplasms                   0.088544         0.097464   \n",
       "diag3_Circulatory                -0.042303        -0.068348   \n",
       "diag3_Respiratory                -0.018987        -0.001198   \n",
       "diag3_Digestive                  -0.014998         0.012413   \n",
       "diag3_Diabetes                   -0.014590        -0.010803   \n",
       "diag3_Injury                     -0.017356         0.021380   \n",
       "diag3_Musculoskeletal            -0.013060        -0.004738   \n",
       "diag3_Genitourinary               0.097957         0.042839   \n",
       "diag3_Neoplasms                   0.038745         0.058498   \n",
       "readmitted                       -0.011435        -0.017050   \n",
       "\n",
       "                       diag2_Circulatory  diag2_Respiratory     ...      \\\n",
       "diag1_Circulatory               0.308351          -0.005950     ...       \n",
       "diag1_Respiratory              -0.015104           0.170022     ...       \n",
       "diag1_Digestive                -0.100291          -0.032419     ...       \n",
       "diag1_Diabetes                 -0.065555          -0.046247     ...       \n",
       "diag1_Injury                   -0.035107          -0.031420     ...       \n",
       "diag1_Musculoskeletal          -0.041063          -0.024767     ...       \n",
       "diag1_Genitourinary            -0.069233          -0.041671     ...       \n",
       "diag1_Neoplasms                -0.113004          -0.011311     ...       \n",
       "diag2_Circulatory               1.000000          -0.242694     ...       \n",
       "diag2_Respiratory              -0.242694           1.000000     ...       \n",
       "diag2_Digestive                -0.147700          -0.073135     ...       \n",
       "diag2_Diabetes                 -0.270357          -0.133870     ...       \n",
       "diag2_Injury                   -0.108105          -0.053529     ...       \n",
       "diag2_Musculoskeletal          -0.094633          -0.046859     ...       \n",
       "diag2_Genitourinary            -0.208782          -0.103381     ...       \n",
       "diag2_Neoplasms                -0.336879          -0.166809     ...       \n",
       "diag3_Circulatory               0.094604           0.010562     ...       \n",
       "diag3_Respiratory               0.018212           0.073505     ...       \n",
       "diag3_Digestive                -0.072718          -0.021990     ...       \n",
       "diag3_Diabetes                  0.105156          -0.004814     ...       \n",
       "diag3_Injury                   -0.025680          -0.014416     ...       \n",
       "diag3_Musculoskeletal          -0.048670          -0.008297     ...       \n",
       "diag3_Genitourinary            -0.008204          -0.014752     ...       \n",
       "diag3_Neoplasms                -0.091534          -0.015389     ...       \n",
       "readmitted                      0.032051           0.002907     ...       \n",
       "\n",
       "                       diag2_Neoplasms  diag3_Circulatory  diag3_Respiratory  \\\n",
       "diag1_Circulatory            -0.163392           0.179697           0.016222   \n",
       "diag1_Respiratory            -0.034648           0.007101           0.060285   \n",
       "diag1_Digestive              -0.006045          -0.053834          -0.012926   \n",
       "diag1_Diabetes                0.202947          -0.051225          -0.025911   \n",
       "diag1_Injury                 -0.006170          -0.018459          -0.009741   \n",
       "diag1_Musculoskeletal        -0.044866          -0.019570          -0.032765   \n",
       "diag1_Genitourinary           0.088544          -0.042303          -0.018987   \n",
       "diag1_Neoplasms               0.097464          -0.068348          -0.001198   \n",
       "diag2_Circulatory            -0.336879           0.094604           0.018212   \n",
       "diag2_Respiratory            -0.166809           0.010562           0.073505   \n",
       "diag2_Digestive              -0.101518          -0.056934          -0.023927   \n",
       "diag2_Diabetes               -0.185823           0.093928          -0.037130   \n",
       "diag2_Injury                 -0.074303          -0.020194          -0.006784   \n",
       "diag2_Musculoskeletal        -0.065044          -0.027144          -0.013116   \n",
       "diag2_Genitourinary          -0.143501          -0.024954          -0.008753   \n",
       "diag2_Neoplasms               1.000000          -0.100004          -0.005593   \n",
       "diag3_Circulatory            -0.100004           1.000000          -0.194535   \n",
       "diag3_Respiratory            -0.005593          -0.194535           1.000000   \n",
       "diag3_Digestive               0.012561          -0.141777          -0.058746   \n",
       "diag3_Diabetes               -0.001556          -0.324020          -0.134259   \n",
       "diag3_Injury                  0.017972          -0.103458          -0.042868   \n",
       "diag3_Musculoskeletal         0.006232          -0.098760          -0.040922   \n",
       "diag3_Genitourinary           0.011613          -0.180166          -0.074653   \n",
       "diag3_Neoplasms               0.108692          -0.330185          -0.136814   \n",
       "readmitted                    0.008559           0.019807           0.009503   \n",
       "\n",
       "                       diag3_Digestive  diag3_Diabetes  diag3_Injury  \\\n",
       "diag1_Circulatory            -0.082717        0.014107     -0.030894   \n",
       "diag1_Respiratory            -0.026035        0.033405     -0.035510   \n",
       "diag1_Digestive               0.163856        0.007138     -0.017593   \n",
       "diag1_Diabetes                0.023712       -0.117463     -0.017863   \n",
       "diag1_Injury                 -0.020995       -0.007143      0.145313   \n",
       "diag1_Musculoskeletal        -0.018380        0.053951      0.018579   \n",
       "diag1_Genitourinary          -0.014998       -0.014590     -0.017356   \n",
       "diag1_Neoplasms               0.012413       -0.010803      0.021380   \n",
       "diag2_Circulatory            -0.072718        0.105156     -0.025680   \n",
       "diag2_Respiratory            -0.021990       -0.004814     -0.014416   \n",
       "diag2_Digestive               0.136610        0.016863     -0.010187   \n",
       "diag2_Diabetes               -0.005913       -0.155708     -0.023975   \n",
       "diag2_Injury                  0.026931       -0.013566      0.129692   \n",
       "diag2_Musculoskeletal        -0.015705        0.017938     -0.002427   \n",
       "diag2_Genitourinary          -0.002257       -0.038081      0.002187   \n",
       "diag2_Neoplasms               0.012561       -0.001556      0.017972   \n",
       "diag3_Circulatory            -0.141777       -0.324020     -0.103458   \n",
       "diag3_Respiratory            -0.058746       -0.134259     -0.042868   \n",
       "diag3_Digestive               1.000000       -0.097848     -0.031242   \n",
       "diag3_Diabetes               -0.097848        1.000000     -0.071402   \n",
       "diag3_Injury                 -0.031242       -0.071402      1.000000   \n",
       "diag3_Musculoskeletal        -0.029824       -0.068159     -0.021763   \n",
       "diag3_Genitourinary          -0.054407       -0.124343     -0.039702   \n",
       "diag3_Neoplasms              -0.099709       -0.227878     -0.072760   \n",
       "readmitted                    0.003010       -0.015402     -0.011605   \n",
       "\n",
       "                       diag3_Musculoskeletal  diag3_Genitourinary  \\\n",
       "diag1_Circulatory                  -0.054365            -0.029785   \n",
       "diag1_Respiratory                  -0.011786            -0.028281   \n",
       "diag1_Digestive                    -0.026875            -0.017307   \n",
       "diag1_Diabetes                      0.055043             0.004165   \n",
       "diag1_Injury                        0.002127             0.006733   \n",
       "diag1_Musculoskeletal               0.118719            -0.024042   \n",
       "diag1_Genitourinary                -0.013060             0.097957   \n",
       "diag1_Neoplasms                    -0.004738             0.042839   \n",
       "diag2_Circulatory                  -0.048670            -0.008204   \n",
       "diag2_Respiratory                  -0.008297            -0.014752   \n",
       "diag2_Digestive                    -0.013933            -0.021775   \n",
       "diag2_Diabetes                      0.014894            -0.018039   \n",
       "diag2_Injury                        0.001187             0.018779   \n",
       "diag2_Musculoskeletal               0.163831            -0.019351   \n",
       "diag2_Genitourinary                -0.009568             0.082914   \n",
       "diag2_Neoplasms                     0.006232             0.011613   \n",
       "diag3_Circulatory                  -0.098760            -0.180166   \n",
       "diag3_Respiratory                  -0.040922            -0.074653   \n",
       "diag3_Digestive                    -0.029824            -0.054407   \n",
       "diag3_Diabetes                     -0.068159            -0.124343   \n",
       "diag3_Injury                       -0.021763            -0.039702   \n",
       "diag3_Musculoskeletal               1.000000            -0.037899   \n",
       "diag3_Genitourinary                -0.037899             1.000000   \n",
       "diag3_Neoplasms                    -0.069456            -0.126708   \n",
       "readmitted                         -0.005562             0.010309   \n",
       "\n",
       "                       diag3_Neoplasms  readmitted  \n",
       "diag1_Circulatory            -0.090995    0.025760  \n",
       "diag1_Respiratory            -0.017077    0.009786  \n",
       "diag1_Digestive              -0.005625   -0.007412  \n",
       "diag1_Diabetes                0.140165    0.018972  \n",
       "diag1_Injury                 -0.011293   -0.010670  \n",
       "diag1_Musculoskeletal        -0.031186   -0.017081  \n",
       "diag1_Genitourinary           0.038745   -0.011435  \n",
       "diag1_Neoplasms               0.058498   -0.017050  \n",
       "diag2_Circulatory            -0.091534    0.032051  \n",
       "diag2_Respiratory            -0.015389    0.002907  \n",
       "diag2_Digestive              -0.004627   -0.010471  \n",
       "diag2_Diabetes                0.034017   -0.019324  \n",
       "diag2_Injury                 -0.036071   -0.013204  \n",
       "diag2_Musculoskeletal        -0.005173   -0.010020  \n",
       "diag2_Genitourinary           0.029042    0.004804  \n",
       "diag2_Neoplasms               0.108692    0.008559  \n",
       "diag3_Circulatory            -0.330185    0.019807  \n",
       "diag3_Respiratory            -0.136814    0.009503  \n",
       "diag3_Digestive              -0.099709    0.003010  \n",
       "diag3_Diabetes               -0.227878   -0.015402  \n",
       "diag3_Injury                 -0.072760   -0.011605  \n",
       "diag3_Musculoskeletal        -0.069456   -0.005562  \n",
       "diag3_Genitourinary          -0.126708    0.010309  \n",
       "diag3_Neoplasms               1.000000   -0.009990  \n",
       "readmitted                   -0.009990    1.000000  \n",
       "\n",
       "[25 rows x 25 columns]"
      ]
     },
     "execution_count": 70,
     "metadata": {},
     "output_type": "execute_result"
    }
   ],
   "source": [
    "# training_df.select('diag1_Circulatory',\n",
    "#  'diag1_Respiratory',\n",
    "#  'diag1_Digestive',\n",
    "#  'diag1_Diabetes',\n",
    "#  'diag1_Injury',\n",
    "#  'diag1_Musculoskeletal',\n",
    "#  'diag1_Genitourinary',\n",
    "#  'diag1_Neoplasms',\n",
    "#  'diag2_Circulatory',\n",
    "#  'diag2_Respiratory',\n",
    "#  'diag2_Digestive',\n",
    "#  'diag2_Diabetes',\n",
    "#  'diag2_Injury',\n",
    "#  'diag2_Musculoskeletal',\n",
    "#  'diag2_Genitourinary',\n",
    "#  'diag2_Neoplasms',\n",
    "#  'diag3_Circulatory',\n",
    "#  'diag3_Respiratory',\n",
    "#  'diag3_Digestive',\n",
    "#  'diag3_Diabetes',\n",
    "#  'diag3_Injury',\n",
    "#  'diag3_Musculoskeletal',\n",
    "#  'diag3_Genitourinary',\n",
    "#  'diag3_Neoplasms','readmitted').toPandas().corr()"
   ]
  },
  {
   "cell_type": "code",
   "execution_count": null,
   "metadata": {},
   "outputs": [],
   "source": [
    "# time_in_hospital','number_emergency_log',\n",
    "#                           'total_visits_log',\n",
    "#                   'number_diagnoses','age','glipizide_index','glyburide_index','insulin_index',\n",
    "#    'Caucasian','Asian','AfricanAmerican','diag1_Circulatory','diag2_Circulatory','diag3_Circulatory',\n",
    "#    'diag1_Diabetes','diag2_Diabetes','diag3_Diabetes','age','admission_source_id','admission_type_id',\n",
    "#        'num_lab_procedures','readmitted'"
   ]
  },
  {
   "cell_type": "markdown",
   "metadata": {},
   "source": [
    "training_df.select('admission_sor').show(5)"
   ]
  },
  {
   "cell_type": "markdown",
   "metadata": {},
   "source": [
    "## Logistic Regression without Cross Validation"
   ]
  },
  {
   "cell_type": "code",
   "execution_count": 76,
   "metadata": {},
   "outputs": [],
   "source": [
    "va = feature.VectorAssembler(inputCols=['time_in_hospital','number_emergency_log','total_visits_log',\n",
    "                                        'number_diagnoses','age','admission_type_id','admission_source_id',\n",
    "                                        'num_lab_procedures'], outputCol='features')\n",
    "Stdscaler = StandardScaler(inputCol=\"features\", outputCol=\"scaledFeatures\",\n",
    "                        withStd=True, withMean=False)\n",
    "\n",
    "lr = classification.LogisticRegression(labelCol='readmitted',maxIter=5,featuresCol=\"scaledFeatures\")\n",
    "pipeline = Pipeline(stages=[va,Stdscaler, lr])\n",
    "\n",
    "model1 = pipeline.fit(training_df)\n",
    "\n"
   ]
  },
  {
   "cell_type": "code",
   "execution_count": 80,
   "metadata": {},
   "outputs": [],
   "source": [
    "def binary_evaluation(model_pipeline,model_fitted,data):\n",
    "    return BinaryClassificationEvaluator(labelCol=model_pipeline.getStages()[-1].getLabelCol(),\n",
    "                                        rawPredictionCol=model_pipeline.getStages()[-1].getRawPredictionCol()).\\\n",
    "    evaluate(model_fitted.transform(data))"
   ]
  },
  {
   "cell_type": "code",
   "execution_count": 81,
   "metadata": {},
   "outputs": [
    {
     "data": {
      "text/plain": [
       "0.6071212934093873"
      ]
     },
     "execution_count": 81,
     "metadata": {},
     "output_type": "execute_result"
    }
   ],
   "source": [
    "binary_evaluation(pipeline,model1,validation_df)"
   ]
  },
  {
   "cell_type": "code",
   "execution_count": null,
   "metadata": {},
   "outputs": [],
   "source": []
  },
  {
   "cell_type": "code",
   "execution_count": null,
   "metadata": {},
   "outputs": [],
   "source": []
  },
  {
   "cell_type": "code",
   "execution_count": null,
   "metadata": {},
   "outputs": [],
   "source": []
  },
  {
   "cell_type": "code",
   "execution_count": null,
   "metadata": {},
   "outputs": [],
   "source": []
  },
  {
   "cell_type": "code",
   "execution_count": 83,
   "metadata": {},
   "outputs": [],
   "source": [
    "va = feature.VectorAssembler(inputCols=['time_in_hospital','number_emergency_log','total_visits_log',\n",
    "                                        'number_diagnoses','age','admission_type_id','admission_source_id',\n",
    "                                        'num_lab_procedures'], outputCol='features')\n",
    "Stdscaler = StandardScaler(inputCol=\"features\", outputCol=\"scaledFeatures\",\n",
    "                        withStd=True, withMean=False)\n",
    "\n",
    "lr = classification.LogisticRegression(labelCol='readmitted',maxIter=5,featuresCol=\"scaledFeatures\")\n",
    "pipeline2 = Pipeline(stages=[va,Stdscaler, lr])\n",
    "\n",
    "paramGrid = ParamGridBuilder() \\\n",
    "    .addGrid(lr.regParam, [0.5,0.1,0.01]) \\\n",
    "    .addGrid(lr.elasticNetParam, [0.5,0.1, 0.01]) \\\n",
    "    .build()\n",
    "\n",
    "crossval = CrossValidator(estimator=pipeline2,\n",
    "                          estimatorParamMaps=paramGrid,\n",
    "                          evaluator=BinaryClassificationEvaluator(labelCol=lr.getLabelCol(),rawPredictionCol=lr.getRawPredictionCol()),\n",
    "                          numFolds=5) \n",
    "\n",
    "# Run cross-validation, and choose the best set of parameters.\n",
    "cvModel_fitted = crossval.fit(training_df)\n"
   ]
  },
  {
   "cell_type": "code",
   "execution_count": 84,
   "metadata": {},
   "outputs": [
    {
     "data": {
      "text/plain": [
       "0.6059146916163947"
      ]
     },
     "execution_count": 84,
     "metadata": {},
     "output_type": "execute_result"
    }
   ],
   "source": [
    "binary_evaluation(pipeline2,cvModel_fitted,validation_df)"
   ]
  },
  {
   "cell_type": "code",
   "execution_count": 96,
   "metadata": {},
   "outputs": [
    {
     "name": "stdout",
     "output_type": "stream",
     "text": [
      "Collecting git+https://github.com/daniel-acuna/pyspark_pipes.git\n",
      "  Cloning https://github.com/daniel-acuna/pyspark_pipes.git to /tmp/pip-sxp3k32w-build\n",
      "Requirement already satisfied: pyspark in /usr/local/spark-2.3.1-bin-hadoop2.7/python (from pyspark-pipes==0.1)\n",
      "Collecting py4j==0.10.7 (from pyspark->pyspark-pipes==0.1)\n",
      "  Using cached https://files.pythonhosted.org/packages/e3/53/c737818eb9a7dc32a7cd4f1396e787bd94200c3997c72c1dbe028587bd76/py4j-0.10.7-py2.py3-none-any.whl\n",
      "Installing collected packages: pyspark-pipes, py4j\n",
      "  Running setup.py install for pyspark-pipes ... \u001b[?25ldone\n",
      "\u001b[?25hSuccessfully installed py4j-0.10.7 pyspark-pipes-0.1\n",
      "\u001b[33mYou are using pip version 9.0.3, however version 18.1 is available.\n",
      "You should consider upgrading via the 'pip install --upgrade pip' command.\u001b[0m\n"
     ]
    }
   ],
   "source": [
    "!pip install git+https://github.com/daniel-acuna/pyspark_pipes.git\n",
    "from pyspark_pipes import pipe"
   ]
  },
  {
   "cell_type": "code",
   "execution_count": 87,
   "metadata": {},
   "outputs": [],
   "source": [
    "numerical_features = \\\n",
    "    pipe(feature.VectorAssembler(inputCols=['time_in_hospital','number_emergency_log','total_visits_log',\\\n",
    "                                       'number_diagnoses','age','admission_source_id','admission_type_id','num_lab_procedures']),\\\n",
    "                            feature.StandardScaler())\n",
    "\n",
    "other_features= feature.VectorAssembler(inputCols=['glipizide_index','glyburide_index','insulin_index',\n",
    "'Caucasian','Asian','AfricanAmerican','diag1_Circulatory','diag2_Circulatory','diag3_Circulatory',\n",
    "'diag1_Diabetes','diag2_Diabetes','diag3_Diabetes'])\n",
    "\n",
    "\n",
    "all_features = pipe((numerical_features,other_features), feature.VectorAssembler())\n",
    "\n",
    "lr3 = classification.LogisticRegression(labelCol='readmitted')\n",
    "\n",
    "final_model_pipeline = pipe(all_features, lr3)\n",
    "\n",
    "final_model_fitted = final_model_pipeline.fit(training_df)"
   ]
  },
  {
   "cell_type": "code",
   "execution_count": 88,
   "metadata": {},
   "outputs": [
    {
     "data": {
      "text/plain": [
       "0.616488470835765"
      ]
     },
     "execution_count": 88,
     "metadata": {},
     "output_type": "execute_result"
    }
   ],
   "source": [
    "binary_evaluation(final_model_pipeline,final_model_fitted,validation_df)"
   ]
  },
  {
   "cell_type": "code",
   "execution_count": 91,
   "metadata": {},
   "outputs": [],
   "source": [
    "numerical_features = \\\n",
    "    pipe(feature.VectorAssembler(inputCols=['time_in_hospital','number_emergency_log','total_visits_log',\n",
    "                                       'number_diagnoses','age','num_procedures','num_medications']),\\\n",
    "                            feature.StandardScaler())\n",
    "\n",
    "other_features= feature.VectorAssembler(inputCols=['glyburide_index','insulin_index','dd_shortm_hos',\n",
    "'Caucasian'])\n",
    "\n",
    "\n",
    "all_features = pipe((numerical_features,other_features), feature.VectorAssembler())\n",
    "\n",
    "lr4 = classification.LogisticRegression(labelCol='readmitted')\n",
    "\n",
    "final_model_pipeline = pipe(all_features, lr4)\n",
    "\n",
    "final_model_fitted = final_model_pipeline.fit(training_df)"
   ]
  },
  {
   "cell_type": "code",
   "execution_count": 92,
   "metadata": {},
   "outputs": [
    {
     "data": {
      "text/plain": [
       "0.6101075734911454"
      ]
     },
     "execution_count": 92,
     "metadata": {},
     "output_type": "execute_result"
    }
   ],
   "source": [
    "binary_evaluation(final_model_pipeline,final_model_fitted,validation_df)"
   ]
  },
  {
   "cell_type": "code",
   "execution_count": 93,
   "metadata": {},
   "outputs": [],
   "source": [
    "numerical_features = \\\n",
    "    pipe(feature.VectorAssembler(inputCols=['time_in_hospital','number_emergency_log','total_visits_log',\n",
    "                                       'number_diagnoses','age','num_procedures','num_medications']),\\\n",
    "                            feature.StandardScaler())\n",
    "\n",
    "other_features= feature.VectorAssembler(inputCols=['glyburide_index','insulin_index','dd_shortm_hos',\n",
    "'Caucasian'])\n",
    "\n",
    "all_features = pipe((numerical_features,other_features), feature.VectorAssembler())\n",
    "\n",
    "rf = classification.RandomForestClassifier(labelCol='readmitted',numTrees=10)\n",
    "\n",
    "final_model_pipeline = pipe(all_features, rf)\n",
    "\n",
    "final_model_fitted = final_model_pipeline.fit(training_df)"
   ]
  },
  {
   "cell_type": "code",
   "execution_count": 94,
   "metadata": {},
   "outputs": [
    {
     "data": {
      "text/plain": [
       "0.6131295864523129"
      ]
     },
     "execution_count": 94,
     "metadata": {},
     "output_type": "execute_result"
    }
   ],
   "source": [
    "binary_evaluation(final_model_pipeline,final_model_fitted,validation_df)"
   ]
  },
  {
   "cell_type": "code",
   "execution_count": 107,
   "metadata": {},
   "outputs": [],
   "source": [
    "numerical_features = \\\n",
    "    (feature.VectorAssembler(inputCols=['time_in_hospital','number_emergency_log','total_visits_log',\\\n",
    "                                       'number_diagnoses','age','num_lab_procedures']))\n",
    "\n",
    "other_features= feature.VectorAssembler(inputCols=['glipizide_index','glyburide_index','insulin_index',\n",
    "'Caucasian','Asian','AfricanAmerican','diag1_Circulatory','diag2_Circulatory','diag3_Circulatory',\n",
    "'diag1_Diabetes','diag2_Diabetes','diag3_Diabetes'])\n",
    "\n",
    "rf = classification.RandomForestClassifier(labelCol='readmitted',numTrees=10)\n",
    "\n",
    "final_model_pipeline = pipe(numerical_features,other_features, rf)\n",
    "\n",
    "final_model_fitted = final_model_pipeline.fit(training_df)"
   ]
  },
  {
   "cell_type": "code",
   "execution_count": 108,
   "metadata": {},
   "outputs": [
    {
     "data": {
      "text/plain": [
       "0.5575500728877879"
      ]
     },
     "execution_count": 108,
     "metadata": {},
     "output_type": "execute_result"
    }
   ],
   "source": [
    "binary_evaluation(final_model_pipeline,final_model_fitted,validation_df)"
   ]
  },
  {
   "cell_type": "code",
   "execution_count": 205,
   "metadata": {},
   "outputs": [],
   "source": [
    "from pyspark.mllib.classification import LogisticRegressionWithLBFGS\n",
    "from pyspark.mllib.evaluation import BinaryClassificationMetrics\n",
    "from pyspark.mllib.util import MLUtils\n",
    "from pyspark.mllib.evaluation import MulticlassMetrics"
   ]
  },
  {
   "cell_type": "code",
   "execution_count": 117,
   "metadata": {},
   "outputs": [
    {
     "name": "stdout",
     "output_type": "stream",
     "text": [
      "+--------------------+--------------------+\n",
      "|                 FPR|                 TPR|\n",
      "+--------------------+--------------------+\n",
      "|                 0.0|                 0.0|\n",
      "|0.001548763266979...|0.006804591380850917|\n",
      "|0.004646289800938368| 0.01388411574678672|\n",
      "|0.006741675397439985|0.020413774142552753|\n",
      "| 0.00920147588028971|   0.027630765001031|\n",
      "|0.011706828223932948| 0.03484775585950924|\n",
      "|0.014212180567576185| 0.04055261530002062|\n",
      "| 0.01667198105042591| 0.04577634201663344|\n",
      "|0.019131781533275636|0.052099800673585814|\n",
      "|0.021819341320092927| 0.05821705959172452|\n",
      "|0.024734660410877785| 0.06371571929342223|\n",
      "|0.028743224160706966| 0.06900817925630627|\n",
      "|0.031658543251491825| 0.07430063921919032|\n",
      "| 0.03507493281100533|  0.0809677641074988|\n",
      "| 0.03867352981369289| 0.08722248951817994|\n",
      "| 0.04122443401812964| 0.09402708089903086|\n",
      "| 0.04441306427367558| 0.10028180630971201|\n",
      "| 0.04796610941556963| 0.10578046601140972|\n",
      "| 0.05120029153190908| 0.11127912571310743|\n",
      "|0.054616681091422585| 0.11650285242972025|\n",
      "+--------------------+--------------------+\n",
      "only showing top 20 rows\n",
      "\n",
      "areaUnderROC: 0.6140619705748754\n"
     ]
    }
   ],
   "source": [
    "trainingSummary = model1.stages[-1].summary\n",
    "trainingSummary.roc.show()\n",
    "print(\"areaUnderROC: \" + str(trainingSummary.areaUnderROC))"
   ]
  }
 ],
 "metadata": {
  "kernelspec": {
   "display_name": "Python 3",
   "language": "python",
   "name": "python3"
  },
  "language_info": {
   "codemirror_mode": {
    "name": "ipython",
    "version": 3
   },
   "file_extension": ".py",
   "mimetype": "text/x-python",
   "name": "python",
   "nbconvert_exporter": "python",
   "pygments_lexer": "ipython3",
   "version": "3.6.3"
  }
 },
 "nbformat": 4,
 "nbformat_minor": 2
}
